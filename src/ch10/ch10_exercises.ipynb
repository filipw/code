{
 "cells": [
  {
   "cell_type": "code",
   "execution_count": 1,
   "id": "fefdecc3-700c-443a-9c09-1691273d35c4",
   "metadata": {},
   "outputs": [],
   "source": [
    "import sys;\n",
    "sys.path.insert(0, '..')"
   ]
  },
  {
   "cell_type": "code",
   "execution_count": 2,
   "id": "4e5a729b-13c2-465a-940e-ee4b18cf9459",
   "metadata": {},
   "outputs": [],
   "source": [
    "from math import sqrt, pi, atan2\n",
    "\n",
    "from sim_circuit import *\n",
    "from util import cis, list_to_dict, is_close"
   ]
  },
  {
   "cell_type": "markdown",
   "id": "a79aa35d-8505-4fca-a672-0c26a8fd8219",
   "metadata": {},
   "source": [
    "## Exercise 1\n",
    "\n",
    "What measurement outcomes (using $n = 3$ key qubits and $m = 3$ value qubits) would represent the input-output pair $(0, 1)$?"
   ]
  },
  {
   "cell_type": "markdown",
   "id": "f61a96db-b9e3-4066-839d-f5415e8e37a8",
   "metadata": {},
   "source": [
    "**Answer:**"
   ]
  },
  {
   "cell_type": "markdown",
   "id": "243552b4-072e-41aa-9908-6ad6c4f2d450",
   "metadata": {},
   "source": [
    "Key register outcome 000 and value register outcome 001."
   ]
  },
  {
   "cell_type": "markdown",
   "id": "a7ebf07b-92db-415d-addf-046f13a7e353",
   "metadata": {},
   "source": [
    "## Exercise 2\n",
    "\n",
    "Check that the amplitudes of the outcomes having 7 as a key match the geometric sequence for $\\theta = \\frac{3 \\pi}{4}$."
   ]
  },
  {
   "cell_type": "markdown",
   "id": "4911e06a-21ca-4201-acf1-05c4ad0d5ae7",
   "metadata": {},
   "source": [
    "**Answer:**"
   ]
  },
  {
   "cell_type": "code",
   "execution_count": 3,
   "id": "d45a31b0-1d8d-4901-8f91-a55d39f9177c",
   "metadata": {},
   "outputs": [],
   "source": [
    "n_key = 3\n",
    "n_value = 2\n",
    "\n",
    "key = QuantumRegister(n_key)\n",
    "value = QuantumRegister(n_value)\n",
    "qc = QuantumCircuit(key, value)\n",
    "\n",
    "for i in range(n_key):\n",
    "    qc.h(key[i])\n",
    "\n",
    "for i in range(n_value):\n",
    "    qc.h(value[i])\n",
    "    \n",
    "for j in range(n_key):\n",
    "    for i in range(n_value):\n",
    "        qc.cp(pi / 2 ** (n_key-1-i), key[j], value[i])\n",
    "\n",
    "state = qc.run()\n",
    "state_dict = list_to_dict(state)"
   ]
  },
  {
   "cell_type": "code",
   "execution_count": 4,
   "id": "e0a7a773-0576-4e36-a0ab-90337ff2d982",
   "metadata": {},
   "outputs": [],
   "source": [
    "# get amplitudes of outcomes with key register outcomes value 7 (111)\n",
    "key_val_7 = {}\n",
    "for outcome in state_dict.keys():\n",
    "    if outcome[-3:] == '111':\n",
    "        key_val_7[outcome] = state_dict[outcome]"
   ]
  },
  {
   "cell_type": "code",
   "execution_count": 5,
   "id": "cfb7887e-845a-4be7-b94f-def28133d133",
   "metadata": {},
   "outputs": [
    {
     "data": {
      "text/plain": [
       "{'7=00111': (0.1767766952966368+0j),\n",
       " '15=01111': (-0.12499999999999993+0.12499999999999997j),\n",
       " '23=10111': (-3.247335210883098e-17-0.1767766952966368j),\n",
       " '31=11111': (0.125+0.12499999999999989j)}"
      ]
     },
     "execution_count": 5,
     "metadata": {},
     "output_type": "execute_result"
    }
   ],
   "source": [
    "key_val_7"
   ]
  },
  {
   "cell_type": "code",
   "execution_count": 6,
   "id": "3a994112-a112-4813-99d6-b4c2af5f8e37",
   "metadata": {},
   "outputs": [],
   "source": [
    "theta = 3*pi/4\n",
    "for k in range(n_value**2):\n",
    "    expected_phase = k * theta\n",
    "\n",
    "    # adjust phase to be in between 0 and 2pi\n",
    "    while expected_phase > 2*pi:\n",
    "        expected_phase = expected_phase - 2*pi\n",
    "        \n",
    "    # get the phase of each amplitude\n",
    "    amp = list(key_val_7.values())[k]\n",
    "    phase = atan2(amp.imag, amp.real)\n",
    "\n",
    "    # adjust phase to be in between 0 and 2pi\n",
    "    if phase < 0:\n",
    "        phase = phase + (2*pi)\n",
    "       \n",
    "    assert is_close(phase, expected_phase)"
   ]
  },
  {
   "cell_type": "markdown",
   "id": "f6792d04-54a9-4768-9597-7ae8cbebc8ee",
   "metadata": {},
   "source": [
    "## Exercise 3\n",
    "\n",
    "Write the expression of an integer $k \\ge 0$ as a function of $n = 3$ binary variables."
   ]
  },
  {
   "cell_type": "markdown",
   "id": "8912bac1-5bcf-41b3-9897-53289108a98a",
   "metadata": {},
   "source": [
    "**Answer:**\n",
    "\n",
    "$$\n",
    "k = \\sum_{j = 0}^{n-1} 2^j k_j\n",
    "$$\n",
    "\n",
    "If $n = 3$,\n",
    "\n",
    "$$\n",
    "k = 2^0 k_0 + 2^1 k_1 + 2^2 k_2 = k_0 + 2 k_1 + 4 k_2\n",
    "$$"
   ]
  },
  {
   "cell_type": "markdown",
   "id": "3ebc13a5-0d65-4cd5-b353-dfff143abce9",
   "metadata": {},
   "source": [
    "## Exercise 4\n",
    "\n",
    "We can write the function $f(k) = k + 1$ as a polynomial of $n = 2$ binary variables (where $0 \\le k < 2^n$)."
   ]
  },
  {
   "cell_type": "markdown",
   "id": "84b67c6e-90d5-4471-9383-ae76119f9bf9",
   "metadata": {},
   "source": [
    "**Answer:**\n",
    "\n",
    "$$p(k_0, k_1) = 2 k_1 + k_0 + 1$$"
   ]
  }
 ],
 "metadata": {
  "kernelspec": {
   "display_name": "Python 3 (ipykernel)",
   "language": "python",
   "name": "python3"
  },
  "language_info": {
   "codemirror_mode": {
    "name": "ipython",
    "version": 3
   },
   "file_extension": ".py",
   "mimetype": "text/x-python",
   "name": "python",
   "nbconvert_exporter": "python",
   "pygments_lexer": "ipython3",
   "version": "3.9.13"
  }
 },
 "nbformat": 4,
 "nbformat_minor": 5
}
