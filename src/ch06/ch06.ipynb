{
 "cells": [
  {
   "cell_type": "code",
   "id": "27ceefe4",
   "metadata": {
    "ExecuteTime": {
     "end_time": "2024-04-27T19:34:04.255399Z",
     "start_time": "2024-04-27T19:34:04.253039Z"
    }
   },
   "source": [
    "import sys;\n",
    "sys.path.insert(0, '..')"
   ],
   "outputs": [],
   "execution_count": 1
  },
  {
   "cell_type": "markdown",
   "id": "1c5beef2-6928-4b04-91ae-74727f5a20fe",
   "metadata": {},
   "source": [
    "## Chapter 6 Code Snippets and Listings"
   ]
  },
  {
   "cell_type": "markdown",
   "id": "70a07ec9-ec10-47c9-951a-539967bcca8d",
   "metadata": {
    "jp-MarkdownHeadingCollapsed": true
   },
   "source": [
    "### Finding good and bad outcomes with oracles (section 6.1.1)"
   ]
  },
  {
   "cell_type": "markdown",
   "id": "acb30428-7c8e-40c7-ac3c-949bbb6da046",
   "metadata": {},
   "source": [
    "Assume we want to find one special item in a list of $N = 8$ items, but we do not know where the item is. We can represent each of the items as an outcome of a quantum state with $n = 3$ qubits. Any randomly selected outcome has the same likelihood of being the good outcome. We represent this with equal amplitudes for each outcome:"
   ]
  },
  {
   "cell_type": "code",
   "id": "8c68c7ea-9227-4627-936f-5755f3c9b9b1",
   "metadata": {
    "ExecuteTime": {
     "end_time": "2024-04-27T19:34:04.269493Z",
     "start_time": "2024-04-27T19:34:04.267618Z"
    }
   },
   "source": [
    "from math import sqrt\n",
    "\n",
    "n = 3\n",
    "state = [1/sqrt(2**n) for _ in range(2**n)]"
   ],
   "outputs": [],
   "execution_count": 2
  },
  {
   "cell_type": "code",
   "id": "ee106d56-904c-41f0-8706-be7e82aa6156",
   "metadata": {
    "ExecuteTime": {
     "end_time": "2024-04-27T19:34:04.887184Z",
     "start_time": "2024-04-27T19:34:04.276152Z"
    }
   },
   "source": [
    "from util import print_state_table\n",
    "\n",
    "print_state_table(state)"
   ],
   "outputs": [
    {
     "name": "stdout",
     "output_type": "stream",
     "text": [
      "\n",
      "Outcome  Binary  Amplitude           Magnitude  Direction  Amplitude Bar             Probability\n",
      "------------------------------------------------------------------------------------------------\n",
      "0        000     0.3536 + i0.0000    0.3536        0.00°   \u001B[38;2;246;54;26m████████                \u001B[39m  0.125 \n",
      "1        001     0.3536 + i0.0000    0.3536        0.00°   \u001B[38;2;246;54;26m████████                \u001B[39m  0.125 \n",
      "2        010     0.3536 + i0.0000    0.3536        0.00°   \u001B[38;2;246;54;26m████████                \u001B[39m  0.125 \n",
      "3        011     0.3536 + i0.0000    0.3536        0.00°   \u001B[38;2;246;54;26m████████                \u001B[39m  0.125 \n",
      "4        100     0.3536 + i0.0000    0.3536        0.00°   \u001B[38;2;246;54;26m████████                \u001B[39m  0.125 \n",
      "5        101     0.3536 + i0.0000    0.3536        0.00°   \u001B[38;2;246;54;26m████████                \u001B[39m  0.125 \n",
      "6        110     0.3536 + i0.0000    0.3536        0.00°   \u001B[38;2;246;54;26m████████                \u001B[39m  0.125 \n",
      "7        111     0.3536 + i0.0000    0.3536        0.00°   \u001B[38;2;246;54;26m████████                \u001B[39m  0.125 \n",
      "\n"
     ]
    }
   ],
   "execution_count": 3
  },
  {
   "cell_type": "markdown",
   "id": "7d9586d7-168b-42b7-b867-7b6de3f7a799",
   "metadata": {},
   "source": [
    "Let's look at an example of the classical implementation of a phase oracle from chapter 8. The function `predicate` identifies good outcome 3 as the only good outcome."
   ]
  },
  {
   "cell_type": "code",
   "id": "cab03326-64e5-425c-8380-8dc900ecc105",
   "metadata": {
    "ExecuteTime": {
     "end_time": "2024-04-27T19:34:04.890414Z",
     "start_time": "2024-04-27T19:34:04.888165Z"
    }
   },
   "source": [
    "predicate = lambda k: True if k == 3 else False"
   ],
   "outputs": [],
   "execution_count": 4
  },
  {
   "cell_type": "markdown",
   "id": "d7b57c74-9693-4e3a-a928-0061f575dcfd",
   "metadata": {},
   "source": [
    "We can use this predicate for the classical implementation of a phase oracle:"
   ]
  },
  {
   "cell_type": "code",
   "id": "2c4914fe-2a84-41be-8a20-81f3dc4602f1",
   "metadata": {
    "ExecuteTime": {
     "end_time": "2024-04-27T19:34:04.897294Z",
     "start_time": "2024-04-27T19:34:04.894491Z"
    }
   },
   "source": [
    "def oracle(state, predicate):\n",
    "    for item in range(len(state)):\n",
    "        if predicate(item):\n",
    "            state[item] *= -1\n",
    "            \n",
    "oracle(state, predicate)"
   ],
   "outputs": [],
   "execution_count": 5
  },
  {
   "cell_type": "code",
   "id": "635000f7-7bf7-4c9f-9993-0bf5fd081bf9",
   "metadata": {
    "ExecuteTime": {
     "end_time": "2024-04-27T19:34:04.900829Z",
     "start_time": "2024-04-27T19:34:04.898522Z"
    }
   },
   "source": [
    "print_state_table(state)"
   ],
   "outputs": [
    {
     "name": "stdout",
     "output_type": "stream",
     "text": [
      "\n",
      "Outcome  Binary  Amplitude           Magnitude  Direction  Amplitude Bar             Probability\n",
      "------------------------------------------------------------------------------------------------\n",
      "0        000     0.3536 + i0.0000    0.3536        0.00°   \u001B[38;2;246;54;26m████████                \u001B[39m  0.125 \n",
      "1        001     0.3536 + i0.0000    0.3536        0.00°   \u001B[38;2;246;54;26m████████                \u001B[39m  0.125 \n",
      "2        010     0.3536 + i0.0000    0.3536        0.00°   \u001B[38;2;246;54;26m████████                \u001B[39m  0.125 \n",
      "3        011    -0.3536 + i0.0000    0.3536      180.00°   \u001B[38;2;37;232;234m████████                \u001B[39m  0.125 \n",
      "4        100     0.3536 + i0.0000    0.3536        0.00°   \u001B[38;2;246;54;26m████████                \u001B[39m  0.125 \n",
      "5        101     0.3536 + i0.0000    0.3536        0.00°   \u001B[38;2;246;54;26m████████                \u001B[39m  0.125 \n",
      "6        110     0.3536 + i0.0000    0.3536        0.00°   \u001B[38;2;246;54;26m████████                \u001B[39m  0.125 \n",
      "7        111     0.3536 + i0.0000    0.3536        0.00°   \u001B[38;2;246;54;26m████████                \u001B[39m  0.125 \n",
      "\n"
     ]
    }
   ],
   "execution_count": 6
  },
  {
   "cell_type": "markdown",
   "id": "4c307d9d-cdb8-474f-bf93-07bf48a77842",
   "metadata": {
    "jp-MarkdownHeadingCollapsed": true
   },
   "source": [
    "### Inversion by the mean (section 6.1.2)"
   ]
  },
  {
   "cell_type": "markdown",
   "id": "f57e7b72-0ba1-44a0-86a3-1caa1bc76e3a",
   "metadata": {},
   "source": [
    "Listing 6.1 Classical implementation of the inversion operator"
   ]
  },
  {
   "cell_type": "code",
   "id": "47f2440371cf5d26",
   "metadata": {
    "ExecuteTime": {
     "end_time": "2024-04-27T19:34:04.903548Z",
     "start_time": "2024-04-27T19:34:04.901499Z"
    }
   },
   "source": [
    "def inner(v1, v2):\n",
    "    assert(len(v1) == len(v2))\n",
    "    return sum(z1*z2.conjugate() for z1, z2 in zip(v1, v2))\n",
    "\n",
    "def inversion(original, current):\n",
    "    proj = inner(original, current)\n",
    "    for k in range(len(current)):\n",
    "        current[k] = 2*proj*original[k] - current[k]"
   ],
   "outputs": [],
   "execution_count": 7
  },
  {
   "cell_type": "markdown",
   "id": "7c55cd2b-50cd-4328-aa38-961c836b3526",
   "metadata": {},
   "source": [
    "Previous example three-qubit state obtained by applying an oracle that tags the outcome 3 to a state where the amplitudes are in equal superposition:"
   ]
  },
  {
   "cell_type": "code",
   "id": "3b04764d-0152-4205-b6b8-e6ede5a8e15e",
   "metadata": {
    "ExecuteTime": {
     "end_time": "2024-04-27T19:34:04.908908Z",
     "start_time": "2024-04-27T19:34:04.904618Z"
    }
   },
   "source": [
    "n = 3\n",
    "state = [1/sqrt(2**n) for _ in range(2**n)]\n",
    "\n",
    "s = state.copy() # Copy the original state to use for the inversion\n",
    "\n",
    "oracle(state, predicate)"
   ],
   "outputs": [],
   "execution_count": 8
  },
  {
   "cell_type": "markdown",
   "id": "7cf44249-8a75-4d36-b66c-20d150674dd6",
   "metadata": {},
   "source": [
    "Now, we can apply the inversion operator that reflects the current state into the original state (the state before the oracle was applied):"
   ]
  },
  {
   "cell_type": "code",
   "id": "4370a229-45dd-4daf-9d7e-ad6587f1671d",
   "metadata": {
    "ExecuteTime": {
     "end_time": "2024-04-27T19:34:04.911114Z",
     "start_time": "2024-04-27T19:34:04.909531Z"
    }
   },
   "source": [
    "inversion(s, state) # The parameter s is the initial state before the oracle was applied"
   ],
   "outputs": [],
   "execution_count": 9
  },
  {
   "cell_type": "code",
   "id": "d5462d1b-e3b8-4049-a99f-37c9cb81904f",
   "metadata": {
    "ExecuteTime": {
     "end_time": "2024-04-27T19:34:04.913407Z",
     "start_time": "2024-04-27T19:34:04.911569Z"
    }
   },
   "source": [
    "print_state_table(state)"
   ],
   "outputs": [
    {
     "name": "stdout",
     "output_type": "stream",
     "text": [
      "\n",
      "Outcome  Binary  Amplitude           Magnitude  Direction  Amplitude Bar             Probability\n",
      "------------------------------------------------------------------------------------------------\n",
      "0        000     0.1768 + i0.0000    0.1768        0.00°   \u001B[38;2;246;54;26m████                    \u001B[39m  0.0312\n",
      "1        001     0.1768 + i0.0000    0.1768        0.00°   \u001B[38;2;246;54;26m████                    \u001B[39m  0.0312\n",
      "2        010     0.1768 + i0.0000    0.1768        0.00°   \u001B[38;2;246;54;26m████                    \u001B[39m  0.0312\n",
      "3        011     0.8839 + i0.0000    0.8839        0.00°   \u001B[38;2;246;54;26m█████████████████████   \u001B[39m  0.7812\n",
      "4        100     0.1768 + i0.0000    0.1768        0.00°   \u001B[38;2;246;54;26m████                    \u001B[39m  0.0312\n",
      "5        101     0.1768 + i0.0000    0.1768        0.00°   \u001B[38;2;246;54;26m████                    \u001B[39m  0.0312\n",
      "6        110     0.1768 + i0.0000    0.1768        0.00°   \u001B[38;2;246;54;26m████                    \u001B[39m  0.0312\n",
      "7        111     0.1768 + i0.0000    0.1768        0.00°   \u001B[38;2;246;54;26m████                    \u001B[39m  0.0312\n",
      "\n"
     ]
    }
   ],
   "execution_count": 10
  },
  {
   "cell_type": "markdown",
   "id": "ab1dd13d-19bc-42c2-b9e9-bc593deaf21e",
   "metadata": {},
   "source": [
    "Let's look at another example, with a random $n = 3$ qubit state and good outcome 5:"
   ]
  },
  {
   "cell_type": "code",
   "id": "c4c2e44f-ac46-4523-babf-818f6c0a5907",
   "metadata": {
    "ExecuteTime": {
     "end_time": "2024-04-27T19:34:04.915327Z",
     "start_time": "2024-04-27T19:34:04.913929Z"
    }
   },
   "source": [
    "from util import generate_state\n",
    "\n",
    "n = 3\n",
    "state = generate_state(n)"
   ],
   "outputs": [],
   "execution_count": 11
  },
  {
   "cell_type": "code",
   "id": "031f7f67-e487-43ea-ad8d-68590fa2b53f",
   "metadata": {
    "ExecuteTime": {
     "end_time": "2024-04-27T19:34:04.919346Z",
     "start_time": "2024-04-27T19:34:04.917162Z"
    }
   },
   "source": [
    "print_state_table(state)"
   ],
   "outputs": [
    {
     "name": "stdout",
     "output_type": "stream",
     "text": [
      "\n",
      "Outcome  Binary  Amplitude           Magnitude  Direction  Amplitude Bar             Probability\n",
      "------------------------------------------------------------------------------------------------\n",
      "0        000    -0.1850 - i0.1342    0.2285     -144.96°   \u001B[38;2;46;168;255m█████                   \u001B[39m  0.0522\n",
      "1        001     0.2070 + i0.0254    0.2086        7.00°   \u001B[38;2;246;64;16m█████                   \u001B[39m  0.0435\n",
      "2        010     0.2726 + i0.2780    0.3894       45.56°   \u001B[38;2;255;179;0m█████████               \u001B[39m  0.1516\n",
      "3        011     0.4867 + i0.1080    0.4985       12.51°   \u001B[38;2;247;80;8m███████████             \u001B[39m  0.2485\n",
      "4        100    -0.2028 + i0.0177    0.2036      175.10°   \u001B[38;2;39;230;219m████                    \u001B[39m  0.0414\n",
      "5        101     0.3219 + i0.0871    0.3335       15.14°   \u001B[38;2;248;89;5m████████                \u001B[39m  0.1112\n",
      "6        110    -0.1712 - i0.3447    0.3849     -116.59°   \u001B[38;2;77;128;255m█████████               \u001B[39m  0.1481\n",
      "7        111     0.3190 + i0.3188    0.4509       44.98°   \u001B[38;2;255;175;0m██████████              \u001B[39m  0.2034\n",
      "\n"
     ]
    }
   ],
   "execution_count": 12
  },
  {
   "cell_type": "code",
   "id": "cfec4efb-330b-449c-ae80-389007e0a28b",
   "metadata": {
    "ExecuteTime": {
     "end_time": "2024-04-27T19:34:04.921164Z",
     "start_time": "2024-04-27T19:34:04.919877Z"
    }
   },
   "source": [
    "s = state.copy()\n",
    "\n",
    "predicate = lambda k: True if k == 5 else False\n",
    "oracle(state, predicate)"
   ],
   "outputs": [],
   "execution_count": 13
  },
  {
   "cell_type": "code",
   "id": "bfbe44eb-ddff-4289-97f0-1e5e19d70056",
   "metadata": {
    "ExecuteTime": {
     "end_time": "2024-04-27T19:34:04.923728Z",
     "start_time": "2024-04-27T19:34:04.921698Z"
    }
   },
   "source": [
    "print_state_table(state)"
   ],
   "outputs": [
    {
     "name": "stdout",
     "output_type": "stream",
     "text": [
      "\n",
      "Outcome  Binary  Amplitude           Magnitude  Direction  Amplitude Bar             Probability\n",
      "------------------------------------------------------------------------------------------------\n",
      "0        000    -0.1850 - i0.1342    0.2285     -144.96°   \u001B[38;2;46;168;255m█████                   \u001B[39m  0.0522\n",
      "1        001     0.2070 + i0.0254    0.2086        7.00°   \u001B[38;2;246;64;16m█████                   \u001B[39m  0.0435\n",
      "2        010     0.2726 + i0.2780    0.3894       45.56°   \u001B[38;2;255;179;0m█████████               \u001B[39m  0.1516\n",
      "3        011     0.4867 + i0.1080    0.4985       12.51°   \u001B[38;2;247;80;8m███████████             \u001B[39m  0.2485\n",
      "4        100    -0.2028 + i0.0177    0.2036      175.10°   \u001B[38;2;39;230;219m████                    \u001B[39m  0.0414\n",
      "5        101    -0.3219 - i0.0871    0.3335     -164.14°   \u001B[38;2;44;214;252m████████                \u001B[39m  0.1112\n",
      "6        110    -0.1712 - i0.3447    0.3849     -116.59°   \u001B[38;2;77;128;255m█████████               \u001B[39m  0.1481\n",
      "7        111     0.3190 + i0.3188    0.4509       44.98°   \u001B[38;2;255;175;0m██████████              \u001B[39m  0.2034\n",
      "\n"
     ]
    }
   ],
   "execution_count": 14
  },
  {
   "cell_type": "markdown",
   "id": "c01f3425-9253-49f2-9a5c-c5909082068b",
   "metadata": {},
   "source": [
    "Next, we perform the inversion:"
   ]
  },
  {
   "cell_type": "code",
   "id": "96628401-be6f-4c23-a67b-547706a10585",
   "metadata": {
    "ExecuteTime": {
     "end_time": "2024-04-27T19:34:04.925712Z",
     "start_time": "2024-04-27T19:34:04.924285Z"
    }
   },
   "source": [
    "inversion(s, state)"
   ],
   "outputs": [],
   "execution_count": 15
  },
  {
   "cell_type": "code",
   "id": "fa39b98c-6a11-40a9-b5c0-6dc14ab592fb",
   "metadata": {
    "ExecuteTime": {
     "end_time": "2024-04-27T19:34:04.928236Z",
     "start_time": "2024-04-27T19:34:04.926159Z"
    }
   },
   "source": [
    "print_state_table(state)"
   ],
   "outputs": [
    {
     "name": "stdout",
     "output_type": "stream",
     "text": [
      "\n",
      "Outcome  Binary  Amplitude           Magnitude  Direction  Amplitude Bar             Probability\n",
      "------------------------------------------------------------------------------------------------\n",
      "0        000    -0.1027 - i0.0745    0.1269     -144.96°   \u001B[38;2;46;168;255m███                     \u001B[39m  0.0161\n",
      "1        001     0.1149 + i0.0141    0.1158        7.00°   \u001B[38;2;246;64;16m██                      \u001B[39m  0.0134\n",
      "2        010     0.1513 + i0.1543    0.2161       45.56°   \u001B[38;2;255;179;0m█████                   \u001B[39m  0.0467\n",
      "3        011     0.2701 + i0.0599    0.2767       12.50°   \u001B[38;2;247;80;8m██████                  \u001B[39m  0.0766\n",
      "4        100    -0.1126 + i0.0098    0.113       175.30°   \u001B[38;2;39;230;219m██                      \u001B[39m  0.0128\n",
      "5        101     0.8226 + i0.2227    0.8522       15.15°   \u001B[38;2;248;89;5m████████████████████    \u001B[39m  0.7262\n",
      "6        110    -0.0950 - i0.1913    0.2136     -116.59°   \u001B[38;2;77;128;255m█████                   \u001B[39m  0.0456\n",
      "7        111     0.1770 + i0.1769    0.2503       44.98°   \u001B[38;2;255;175;0m██████                  \u001B[39m  0.0626\n",
      "\n"
     ]
    }
   ],
   "execution_count": 16
  },
  {
   "cell_type": "markdown",
   "id": "ec0909ba-ce63-437a-9664-046ef8aee25f",
   "metadata": {},
   "source": [
    "**Visualizing inversion by the mean**"
   ]
  },
  {
   "cell_type": "markdown",
   "id": "a49af4ef-d66b-4ceb-905d-df16eaae4c42",
   "metadata": {},
   "source": [
    "let's create a $n = 3$ qubit state in equal superposition and apply an oracle for good outcome 3:"
   ]
  },
  {
   "cell_type": "code",
   "id": "8e27278d-db7d-49fc-a963-1df5d541369e",
   "metadata": {
    "ExecuteTime": {
     "end_time": "2024-04-27T19:34:04.930846Z",
     "start_time": "2024-04-27T19:34:04.928954Z"
    }
   },
   "source": [
    "n = 3\n",
    "state = [1/sqrt(2**n) for _ in range(2**n)]\n",
    "\n",
    "s = state.copy()\n",
    "\n",
    "predicate = lambda k: True if k == 3 else False\n",
    "oracle(state, predicate)"
   ],
   "outputs": [],
   "execution_count": 17
  },
  {
   "cell_type": "markdown",
   "id": "1944d166-55bc-473f-90a8-76c26db673df",
   "metadata": {},
   "source": [
    "We can check that the mean of the amplitudes is equal to the quantity defined above for bad outcomes $k$:"
   ]
  },
  {
   "cell_type": "code",
   "id": "9d41390a-448e-4e0e-b6da-26d142c4ae54",
   "metadata": {
    "ExecuteTime": {
     "end_time": "2024-04-27T19:34:04.933201Z",
     "start_time": "2024-04-27T19:34:04.931470Z"
    }
   },
   "source": [
    "from util import is_close\n",
    "\n",
    "amplitude_mean = sum(state)/2**n\n",
    "\n",
    "proj = inner(s, state)\n",
    "for k in range(len(state)):\n",
    "    if k != 3:\n",
    "        assert is_close(proj*state[k], amplitude_mean)"
   ],
   "outputs": [],
   "execution_count": 18
  },
  {
   "cell_type": "markdown",
   "id": "aac685ef-f30a-41f0-a35f-2b8059cb7c15",
   "metadata": {},
   "source": [
    "Now, we can simulate the inversion by the mean with the following Python code:"
   ]
  },
  {
   "cell_type": "code",
   "id": "04f6673b-2408-4c2c-943d-de5fdb8bc702",
   "metadata": {
    "ExecuteTime": {
     "end_time": "2024-04-27T19:34:04.935317Z",
     "start_time": "2024-04-27T19:34:04.933812Z"
    }
   },
   "source": [
    "for k in range(len(state)):\n",
    "    state[k] = 2*amplitude_mean-state[k]"
   ],
   "outputs": [],
   "execution_count": 19
  },
  {
   "cell_type": "code",
   "id": "4900bfd2-4aab-4a7b-902c-fc30a3056bdf",
   "metadata": {
    "ExecuteTime": {
     "end_time": "2024-04-27T19:34:04.937706Z",
     "start_time": "2024-04-27T19:34:04.935719Z"
    }
   },
   "source": [
    "print_state_table(state)"
   ],
   "outputs": [
    {
     "name": "stdout",
     "output_type": "stream",
     "text": [
      "\n",
      "Outcome  Binary  Amplitude           Magnitude  Direction  Amplitude Bar             Probability\n",
      "------------------------------------------------------------------------------------------------\n",
      "0        000     0.1768 + i0.0000    0.1768        0.00°   \u001B[38;2;246;54;26m████                    \u001B[39m  0.0312\n",
      "1        001     0.1768 + i0.0000    0.1768        0.00°   \u001B[38;2;246;54;26m████                    \u001B[39m  0.0312\n",
      "2        010     0.1768 + i0.0000    0.1768        0.00°   \u001B[38;2;246;54;26m████                    \u001B[39m  0.0312\n",
      "3        011     0.8839 + i0.0000    0.8839        0.00°   \u001B[38;2;246;54;26m█████████████████████   \u001B[39m  0.7812\n",
      "4        100     0.1768 + i0.0000    0.1768        0.00°   \u001B[38;2;246;54;26m████                    \u001B[39m  0.0312\n",
      "5        101     0.1768 + i0.0000    0.1768        0.00°   \u001B[38;2;246;54;26m████                    \u001B[39m  0.0312\n",
      "6        110     0.1768 + i0.0000    0.1768        0.00°   \u001B[38;2;246;54;26m████                    \u001B[39m  0.0312\n",
      "7        111     0.1768 + i0.0000    0.1768        0.00°   \u001B[38;2;246;54;26m████                    \u001B[39m  0.0312\n",
      "\n"
     ]
    }
   ],
   "execution_count": 20
  },
  {
   "cell_type": "markdown",
   "id": "ab7c63b7-b1cc-4c2c-bbf2-3130e9c19de1",
   "metadata": {
    "jp-MarkdownHeadingCollapsed": true
   },
   "source": [
    "### Putting it together: the Grover iterate (section 6.1.3)"
   ]
  },
  {
   "cell_type": "markdown",
   "id": "54d1df81-c551-4aeb-8d0e-bcfcd0892a88",
   "metadata": {},
   "source": [
    "Listing 6.2 Classical implementation of the Grover iterate"
   ]
  },
  {
   "cell_type": "code",
   "id": "5e1f2f40-2e88-4ed5-a234-2effe02e895d",
   "metadata": {
    "ExecuteTime": {
     "end_time": "2024-04-27T19:34:04.940644Z",
     "start_time": "2024-04-27T19:34:04.938237Z"
    }
   },
   "source": [
    "from math import cos\n",
    "\n",
    "def grover_sim(state, predicate, iterations):\n",
    "    s = state.copy()\n",
    "\n",
    "    # Use the probability of measuring a good outcome to define an angle theta\n",
    "    p = sum([abs(s[k])**2 for k in items])\n",
    "    theta = asin(sqrt(p))\n",
    "    assert is_close(inner(s, state), 1)\n",
    "\n",
    "    for it in range(1, iterations + 1):\n",
    "        oracle(state, predicate)\n",
    "        inversion(s, state)\n",
    "        # The inner product after operator A is applied and the state after j Grover iterations is cos(2j theta)\n",
    "        assert is_close(inner(s, state), cos(2*it*theta))\n",
    "\n",
    "        p = sum([abs(state[k])**2 for k in items]) # Find the new probability of measuring a good outcome\n",
    "        assert is_close(p, sin((2*it + 1)*theta)**2) # Check that the probability of good outcomes is sin^2((2j+1)theta)"
   ],
   "outputs": [],
   "execution_count": 21
  },
  {
   "cell_type": "markdown",
   "id": "192fac06-978e-4815-bf34-34d112c109ee",
   "metadata": {},
   "source": [
    "In the case that the operator $A$ prepares a state with a uniform distribution, the magnitudes of good outcomes are given by the function below, where the parameter `n` is the number of qubits, `L` is the number of good outcomes, and `j` is the number of iterations."
   ]
  },
  {
   "cell_type": "code",
   "id": "2f2a4a61609b6a98",
   "metadata": {
    "ExecuteTime": {
     "end_time": "2024-04-27T19:34:04.942802Z",
     "start_time": "2024-04-27T19:34:04.941158Z"
    }
   },
   "source": [
    "from math import sin, asin\n",
    "\n",
    "def target_amplitude_uniform(n, l, j):\n",
    "    theta = asin(sqrt(l/2**n))\n",
    "    return sin((2*j+1)*theta)/sqrt(l)"
   ],
   "outputs": [],
   "execution_count": 22
  },
  {
   "cell_type": "markdown",
   "id": "3d5f768a-6579-4b81-a054-4ac40c9215dd",
   "metadata": {},
   "source": [
    "Let's apply one iteration of the Grover iterate to our example state, where $n = 3$ and the outcome 3 is the good outcome:"
   ]
  },
  {
   "cell_type": "code",
   "id": "8d00d7cfe192bb4",
   "metadata": {
    "ExecuteTime": {
     "end_time": "2024-04-27T19:34:04.945231Z",
     "start_time": "2024-04-27T19:34:04.943473Z"
    }
   },
   "source": [
    "n = 3\n",
    "items = [3]\n",
    "predicate = lambda i: True if i in items else False\n",
    "\n",
    "state = [1/sqrt(2**n) for _ in range(2**n)]\n",
    "\n",
    "grover_sim(state, predicate, iterations = 1)\n",
    "\n",
    "assert is_close(state[items[0]], target_amplitude_uniform(3, 1, 1))"
   ],
   "outputs": [],
   "execution_count": 23
  },
  {
   "cell_type": "code",
   "id": "887ba1aba2f8a31c",
   "metadata": {
    "ExecuteTime": {
     "end_time": "2024-04-27T19:34:04.947922Z",
     "start_time": "2024-04-27T19:34:04.945745Z"
    }
   },
   "source": [
    "print_state_table(state)"
   ],
   "outputs": [
    {
     "name": "stdout",
     "output_type": "stream",
     "text": [
      "\n",
      "Outcome  Binary  Amplitude           Magnitude  Direction  Amplitude Bar             Probability\n",
      "------------------------------------------------------------------------------------------------\n",
      "0        000     0.1768 + i0.0000    0.1768        0.00°   \u001B[38;2;246;54;26m████                    \u001B[39m  0.0312\n",
      "1        001     0.1768 + i0.0000    0.1768        0.00°   \u001B[38;2;246;54;26m████                    \u001B[39m  0.0312\n",
      "2        010     0.1768 + i0.0000    0.1768        0.00°   \u001B[38;2;246;54;26m████                    \u001B[39m  0.0312\n",
      "3        011     0.8839 + i0.0000    0.8839        0.00°   \u001B[38;2;246;54;26m█████████████████████   \u001B[39m  0.7812\n",
      "4        100     0.1768 + i0.0000    0.1768        0.00°   \u001B[38;2;246;54;26m████                    \u001B[39m  0.0312\n",
      "5        101     0.1768 + i0.0000    0.1768        0.00°   \u001B[38;2;246;54;26m████                    \u001B[39m  0.0312\n",
      "6        110     0.1768 + i0.0000    0.1768        0.00°   \u001B[38;2;246;54;26m████                    \u001B[39m  0.0312\n",
      "7        111     0.1768 + i0.0000    0.1768        0.00°   \u001B[38;2;246;54;26m████                    \u001B[39m  0.0312\n",
      "\n"
     ]
    }
   ],
   "execution_count": 24
  },
  {
   "cell_type": "markdown",
   "id": "89b935b4-0b08-4def-bccf-ecdb28d72448",
   "metadata": {},
   "source": [
    "Let's apply another iteration:"
   ]
  },
  {
   "cell_type": "code",
   "id": "2417ae56-118c-457e-b5dc-d8310538c007",
   "metadata": {
    "ExecuteTime": {
     "end_time": "2024-04-27T19:34:04.950299Z",
     "start_time": "2024-04-27T19:34:04.948571Z"
    }
   },
   "source": [
    "n = 3\n",
    "items = [3]\n",
    "predicate = lambda i: True if i in items else False\n",
    "\n",
    "state = [1/sqrt(2**n) for _ in range(2**n)]\n",
    "\n",
    "grover_sim(state, predicate, iterations = 2)\n",
    "\n",
    "assert is_close(state[items[0]], target_amplitude_uniform(3, 1, 2))"
   ],
   "outputs": [],
   "execution_count": 25
  },
  {
   "cell_type": "code",
   "id": "b410202d-6ed1-44eb-90b8-b10b38d3787c",
   "metadata": {
    "ExecuteTime": {
     "end_time": "2024-04-27T19:34:04.954976Z",
     "start_time": "2024-04-27T19:34:04.950817Z"
    }
   },
   "source": [
    "print_state_table(state)"
   ],
   "outputs": [
    {
     "name": "stdout",
     "output_type": "stream",
     "text": [
      "\n",
      "Outcome  Binary  Amplitude           Magnitude  Direction  Amplitude Bar             Probability\n",
      "------------------------------------------------------------------------------------------------\n",
      "0        000    -0.0884 + i0.0000    0.0884      180.00°   \u001B[38;2;37;232;234m██                      \u001B[39m  0.0078\n",
      "1        001    -0.0884 + i0.0000    0.0884      180.00°   \u001B[38;2;37;232;234m██                      \u001B[39m  0.0078\n",
      "2        010    -0.0884 + i0.0000    0.0884      180.00°   \u001B[38;2;37;232;234m██                      \u001B[39m  0.0078\n",
      "3        011     0.9723 + i0.0000    0.9723        0.00°   \u001B[38;2;246;54;26m███████████████████████ \u001B[39m  0.9453\n",
      "4        100    -0.0884 + i0.0000    0.0884      180.00°   \u001B[38;2;37;232;234m██                      \u001B[39m  0.0078\n",
      "5        101    -0.0884 + i0.0000    0.0884      180.00°   \u001B[38;2;37;232;234m██                      \u001B[39m  0.0078\n",
      "6        110    -0.0884 + i0.0000    0.0884      180.00°   \u001B[38;2;37;232;234m██                      \u001B[39m  0.0078\n",
      "7        111    -0.0884 + i0.0000    0.0884      180.00°   \u001B[38;2;37;232;234m██                      \u001B[39m  0.0078\n",
      "\n"
     ]
    }
   ],
   "execution_count": 26
  },
  {
   "cell_type": "markdown",
   "id": "28dbed50-c27d-4b84-8e7a-fdf15de513ba",
   "metadata": {},
   "source": [
    "Let's try three iterations:"
   ]
  },
  {
   "cell_type": "code",
   "id": "94a5008b-e450-4112-ace0-60e156c161ba",
   "metadata": {
    "ExecuteTime": {
     "end_time": "2024-04-27T19:34:04.957619Z",
     "start_time": "2024-04-27T19:34:04.955915Z"
    }
   },
   "source": [
    "n = 3\n",
    "items = [3]\n",
    "predicate = lambda i: True if i in items else False\n",
    "\n",
    "state = [1/sqrt(2**n) for _ in range(2**n)]\n",
    "\n",
    "grover_sim(state, predicate, iterations = 3)\n",
    "\n",
    "assert is_close(state[items[0]], target_amplitude_uniform(3, 1, 3))"
   ],
   "outputs": [],
   "execution_count": 27
  },
  {
   "cell_type": "code",
   "id": "841bfb81-9838-4d7c-ae70-70f448ff921b",
   "metadata": {
    "ExecuteTime": {
     "end_time": "2024-04-27T19:34:04.960167Z",
     "start_time": "2024-04-27T19:34:04.958150Z"
    }
   },
   "source": [
    "print_state_table(state)"
   ],
   "outputs": [
    {
     "name": "stdout",
     "output_type": "stream",
     "text": [
      "\n",
      "Outcome  Binary  Amplitude           Magnitude  Direction  Amplitude Bar             Probability\n",
      "------------------------------------------------------------------------------------------------\n",
      "0        000    -0.3094 + i0.0000    0.3094      180.00°   \u001B[38;2;37;232;234m███████                 \u001B[39m  0.0957\n",
      "1        001    -0.3094 + i0.0000    0.3094      180.00°   \u001B[38;2;37;232;234m███████                 \u001B[39m  0.0957\n",
      "2        010    -0.3094 + i0.0000    0.3094      180.00°   \u001B[38;2;37;232;234m███████                 \u001B[39m  0.0957\n",
      "3        011     0.5745 + i0.0000    0.5745        0.00°   \u001B[38;2;246;54;26m█████████████           \u001B[39m  0.3301\n",
      "4        100    -0.3094 + i0.0000    0.3094      180.00°   \u001B[38;2;37;232;234m███████                 \u001B[39m  0.0957\n",
      "5        101    -0.3094 + i0.0000    0.3094      180.00°   \u001B[38;2;37;232;234m███████                 \u001B[39m  0.0957\n",
      "6        110    -0.3094 + i0.0000    0.3094      180.00°   \u001B[38;2;37;232;234m███████                 \u001B[39m  0.0957\n",
      "7        111    -0.3094 + i0.0000    0.3094      180.00°   \u001B[38;2;37;232;234m███████                 \u001B[39m  0.0957\n",
      "\n"
     ]
    }
   ],
   "execution_count": 28
  },
  {
   "cell_type": "markdown",
   "id": "0bdb2fe6-9d96-4070-aee0-a0f035aa866f",
   "metadata": {},
   "source": [
    "Using the number of good outcomes, `L = len(items)`, and the total number of outcomes, `2**n`, we can find the optimal number of iterations with:"
   ]
  },
  {
   "cell_type": "code",
   "id": "54093ebb-4c89-4509-b8d6-f43c4b0de00e",
   "metadata": {
    "ExecuteTime": {
     "end_time": "2024-04-27T19:34:04.962293Z",
     "start_time": "2024-04-27T19:34:04.960638Z"
    }
   },
   "source": [
    "from math import floor, pi\n",
    "\n",
    "num_iterations = int(floor(pi/4*sqrt(2**n/len(items))))"
   ],
   "outputs": [],
   "execution_count": 29
  },
  {
   "cell_type": "markdown",
   "id": "c591e349-d282-4f73-8b35-a2b9b83e4c9c",
   "metadata": {},
   "source": [
    "Let's look at another example, this time using a random two-qubit state and good outcome 1:"
   ]
  },
  {
   "cell_type": "code",
   "id": "523bf0bb-d7cf-499c-a48e-65dbf7b1f5b0",
   "metadata": {
    "ExecuteTime": {
     "end_time": "2024-04-27T19:34:04.967169Z",
     "start_time": "2024-04-27T19:34:04.965509Z"
    }
   },
   "source": [
    "n = 3\n",
    "items = [0, 1]\n",
    "predicate = lambda i: True if i in items else False\n",
    "iterations = int(floor(pi/4*sqrt(2**n/len(items))))\n",
    "\n",
    "state = generate_state(n)\n",
    "grover_sim(state, predicate, iterations)"
   ],
   "outputs": [],
   "execution_count": 30
  },
  {
   "cell_type": "code",
   "id": "5b8b79e5-8378-488f-a9a3-4b8732d7d017",
   "metadata": {
    "ExecuteTime": {
     "end_time": "2024-04-27T19:34:04.969642Z",
     "start_time": "2024-04-27T19:34:04.967637Z"
    }
   },
   "source": [
    "print_state_table(state)"
   ],
   "outputs": [
    {
     "name": "stdout",
     "output_type": "stream",
     "text": [
      "\n",
      "Outcome  Binary  Amplitude           Magnitude  Direction  Amplitude Bar             Probability\n",
      "------------------------------------------------------------------------------------------------\n",
      "0        000    -0.4842 - i0.3511    0.5981     -144.95°   \u001B[38;2;46;168;255m██████████████          \u001B[39m  0.3577\n",
      "1        001     0.5418 + i0.0665    0.5459        7.00°   \u001B[38;2;246;64;16m█████████████           \u001B[39m  0.298 \n",
      "2        010     0.1682 + i0.1715    0.2403       45.56°   \u001B[38;2;255;179;0m█████                   \u001B[39m  0.0577\n",
      "3        011     0.3003 + i0.0666    0.3076       12.50°   \u001B[38;2;247;80;8m███████                 \u001B[39m  0.0946\n",
      "4        100    -0.1251 + i0.0109    0.1256      175.20°   \u001B[38;2;39;230;219m███                     \u001B[39m  0.0158\n",
      "5        101     0.1986 + i0.0538    0.2058       15.16°   \u001B[38;2;248;89;5m████                    \u001B[39m  0.0424\n",
      "6        110    -0.1056 - i0.2127    0.2375     -116.60°   \u001B[38;2;77;128;255m█████                   \u001B[39m  0.0564\n",
      "7        111     0.1968 + i0.1967    0.2782       44.99°   \u001B[38;2;255;175;0m██████                  \u001B[39m  0.0774\n",
      "\n"
     ]
    }
   ],
   "execution_count": 31
  },
  {
   "cell_type": "markdown",
   "id": "2ad8cbee-00ad-47f7-963c-21a4bb32d7c2",
   "metadata": {
    "jp-MarkdownHeadingCollapsed": true
   },
   "source": [
    "### A new implementation of the inversion operator (section 6.1.4)"
   ]
  },
  {
   "cell_type": "markdown",
   "id": "f6ece13a-c77f-4e92-9390-a05c9d4b7fcd",
   "metadata": {},
   "source": [
    "In this section, we will use a randomly generated operator $A$. To create such an operator for $n$ qubits, we will use the function `random_transformation` defined in util.py. \n",
    "\n",
    "Let's define a random transformation (and its inverse) for $n = 3$ qubits:"
   ]
  },
  {
   "cell_type": "code",
   "id": "e5a18a44-e85b-410e-9e86-8e8c54bf8988",
   "metadata": {
    "ExecuteTime": {
     "end_time": "2024-04-27T19:34:07.149017Z",
     "start_time": "2024-04-27T19:34:04.970123Z"
    }
   },
   "source": [
    "from util import random_transformation\n",
    "\n",
    "n = 3\n",
    "f = random_transformation(n)\n",
    "A = f[0]\n",
    "A_inverse = f[1]"
   ],
   "outputs": [],
   "execution_count": 32
  },
  {
   "cell_type": "markdown",
   "id": "cf2a84fd-de20-4d44-9355-ca157714860a",
   "metadata": {},
   "source": [
    "Let's look at the state prepared by this random operator:"
   ]
  },
  {
   "cell_type": "code",
   "id": "d1c1cb14-41cf-4566-a982-44573f83d1c2",
   "metadata": {
    "ExecuteTime": {
     "end_time": "2024-04-27T19:34:07.153780Z",
     "start_time": "2024-04-27T19:34:07.149681Z"
    }
   },
   "source": [
    "from sim_core import init_state\n",
    "\n",
    "state = init_state(n)\n",
    "f[0](state)"
   ],
   "outputs": [],
   "execution_count": 33
  },
  {
   "cell_type": "code",
   "id": "fb233b99-4fbe-40db-904d-1c5739791a31",
   "metadata": {
    "ExecuteTime": {
     "end_time": "2024-04-27T19:34:07.156604Z",
     "start_time": "2024-04-27T19:34:07.154289Z"
    }
   },
   "source": [
    "print_state_table(state)"
   ],
   "outputs": [
    {
     "name": "stdout",
     "output_type": "stream",
     "text": [
      "\n",
      "Outcome  Binary  Amplitude           Magnitude  Direction  Amplitude Bar             Probability\n",
      "------------------------------------------------------------------------------------------------\n",
      "0        000     0.2327 + i0.0376    0.2357        9.18°   \u001B[38;2;247;71;11m█████                   \u001B[39m  0.0556\n",
      "1        001     0.1623 - i0.5298    0.5541      -72.30°   \u001B[38;2;223;186;255m█████████████           \u001B[39m  0.307 \n",
      "2        010    -0.0617 + i0.0370    0.0719      149.50°   \u001B[38;2;49;188;125m█                       \u001B[39m  0.0052\n",
      "3        011    -0.0047 - i0.3905    0.3906      -90.31°   \u001B[38;2;170;158;255m█████████               \u001B[39m  0.1525\n",
      "4        100    -0.0078 - i0.2319    0.2321      -91.70°   \u001B[38;2;165;156;255m█████                   \u001B[39m  0.0538\n",
      "5        101    -0.2901 - i0.0205    0.2908     -175.40°   \u001B[38;2;37;230;240m██████                  \u001B[39m  0.0846\n",
      "6        110     0.4214 + i0.1677    0.4535       21.70°   \u001B[38;2;251;111;1m██████████              \u001B[39m  0.2057\n",
      "7        111     0.1312 - i0.3441    0.3682      -69.87°   \u001B[38;2;230;188;253m████████                \u001B[39m  0.1356\n",
      "\n"
     ]
    }
   ],
   "execution_count": 34
  },
  {
   "cell_type": "markdown",
   "id": "f2a8eaef-227f-41fb-b4d4-1fe6088c525f",
   "metadata": {},
   "source": [
    "Listing 6.3 Function to perform the inversion operation using the operator $A$"
   ]
  },
  {
   "cell_type": "code",
   "id": "6893d976-a1f9-44a1-9f8f-3a81add312ce",
   "metadata": {
    "ExecuteTime": {
     "end_time": "2024-04-27T19:34:07.159163Z",
     "start_time": "2024-04-27T19:34:07.157324Z"
    }
   },
   "source": [
    "from math import log2\n",
    "\n",
    "def inversion_0_transformation(f, state):\n",
    "    n = int(log2(len(state)))\n",
    "\n",
    "    transform = f[0]\n",
    "    inverse_transform = f[1]\n",
    "\n",
    "    inverse_transform(state)\n",
    "    inversion(init_state(n), state)\n",
    "    transform(state)"
   ],
   "outputs": [],
   "execution_count": 35
  },
  {
   "cell_type": "markdown",
   "id": "3ef197fe-6dfe-457c-8199-9cb96c90bebd",
   "metadata": {},
   "source": [
    "Let's use the same operator $A$ we used to create the state above and apply an oracle for the good outcome 3:"
   ]
  },
  {
   "cell_type": "code",
   "id": "da91b29c-81e1-4339-aac2-afabf4801bb8",
   "metadata": {
    "ExecuteTime": {
     "end_time": "2024-04-27T19:34:07.161176Z",
     "start_time": "2024-04-27T19:34:07.159706Z"
    }
   },
   "source": [
    "predicate = lambda k: True if k == 3 else False\n",
    "oracle(state, predicate)"
   ],
   "outputs": [],
   "execution_count": 36
  },
  {
   "cell_type": "code",
   "id": "2dbc8d8d-1984-486e-80fe-0182269ef353",
   "metadata": {
    "ExecuteTime": {
     "end_time": "2024-04-27T19:34:07.163920Z",
     "start_time": "2024-04-27T19:34:07.161623Z"
    }
   },
   "source": [
    "print_state_table(state)"
   ],
   "outputs": [
    {
     "name": "stdout",
     "output_type": "stream",
     "text": [
      "\n",
      "Outcome  Binary  Amplitude           Magnitude  Direction  Amplitude Bar             Probability\n",
      "------------------------------------------------------------------------------------------------\n",
      "0        000     0.2327 + i0.0376    0.2357        9.18°   \u001B[38;2;247;71;11m█████                   \u001B[39m  0.0556\n",
      "1        001     0.1623 - i0.5298    0.5541      -72.30°   \u001B[38;2;223;186;255m█████████████           \u001B[39m  0.307 \n",
      "2        010    -0.0617 + i0.0370    0.0719      149.50°   \u001B[38;2;49;188;125m█                       \u001B[39m  0.0052\n",
      "3        011     0.0047 + i0.3905    0.3906       89.31°   \u001B[38;2;157;186;0m█████████               \u001B[39m  0.1525\n",
      "4        100    -0.0078 - i0.2319    0.2321      -91.70°   \u001B[38;2;165;156;255m█████                   \u001B[39m  0.0538\n",
      "5        101    -0.2901 - i0.0205    0.2908     -175.40°   \u001B[38;2;37;230;240m██████                  \u001B[39m  0.0846\n",
      "6        110     0.4214 + i0.1677    0.4535       21.70°   \u001B[38;2;251;111;1m██████████              \u001B[39m  0.2057\n",
      "7        111     0.1312 - i0.3441    0.3682      -69.87°   \u001B[38;2;230;188;253m████████                \u001B[39m  0.1356\n",
      "\n"
     ]
    }
   ],
   "execution_count": 37
  },
  {
   "cell_type": "markdown",
   "id": "ea107c68-16ec-4302-8f24-3f7e89b5b806",
   "metadata": {},
   "source": [
    "Now, we can apply the inversion operation to the state:"
   ]
  },
  {
   "cell_type": "code",
   "id": "d40a7da1-b3ef-435b-9e9c-23b20ae3bfbd",
   "metadata": {
    "ExecuteTime": {
     "end_time": "2024-04-27T19:34:07.166214Z",
     "start_time": "2024-04-27T19:34:07.164565Z"
    }
   },
   "source": [
    "inversion_0_transformation(f, state)"
   ],
   "outputs": [],
   "execution_count": 38
  },
  {
   "cell_type": "code",
   "id": "c4857862-f64d-475a-ab28-40f8da659ce1",
   "metadata": {
    "ExecuteTime": {
     "end_time": "2024-04-27T19:34:07.169173Z",
     "start_time": "2024-04-27T19:34:07.166815Z"
    }
   },
   "source": [
    "print_state_table(state)"
   ],
   "outputs": [
    {
     "name": "stdout",
     "output_type": "stream",
     "text": [
      "\n",
      "Outcome  Binary  Amplitude           Magnitude  Direction  Amplitude Bar             Probability\n",
      "------------------------------------------------------------------------------------------------\n",
      "0        000     0.0907 + i0.0147    0.0919        9.21°   \u001B[38;2;247;71;11m██                      \u001B[39m  0.0084\n",
      "1        001     0.0633 - i0.2065    0.216       -72.40°   \u001B[38;2;223;186;255m█████                   \u001B[39m  0.0467\n",
      "2        010    -0.0240 + i0.0144    0.028       149.40°   \u001B[38;2;49;188;125m                        \u001B[39m  0.0008\n",
      "3        011    -0.0111 - i0.9333    0.9334      -90.32°   \u001B[38;2;170;158;255m██████████████████████  \u001B[39m  0.8712\n",
      "4        100    -0.0031 - i0.0904    0.0905      -91.40°   \u001B[38;2;165;156;255m██                      \u001B[39m  0.0082\n",
      "5        101    -0.1131 - i0.0080    0.1134     -175.50°   \u001B[38;2;37;230;240m██                      \u001B[39m  0.0129\n",
      "6        110     0.1643 + i0.0654    0.1768       21.71°   \u001B[38;2;251;111;1m████                    \u001B[39m  0.0313\n",
      "7        111     0.0512 - i0.1341    0.1436      -69.90°   \u001B[38;2;230;188;253m███                     \u001B[39m  0.0206\n",
      "\n"
     ]
    }
   ],
   "execution_count": 39
  },
  {
   "cell_type": "markdown",
   "id": "864d6f9a-4667-4e0d-a9be-a79b7a31c792",
   "metadata": {
    "jp-MarkdownHeadingCollapsed": true
   },
   "source": [
    "### Quantum Oracle (section 6.2.1)"
   ]
  },
  {
   "cell_type": "markdown",
   "id": "4cea8682-8efc-4d1a-b40c-9ce2e546d367",
   "metadata": {},
   "source": [
    "Listing 6.4 Function to create a phase oracle quantum circuit for a given number of qubits `n` and a set of good outcomes `items`"
   ]
  },
  {
   "cell_type": "code",
   "id": "fdd5a91db4116142",
   "metadata": {
    "ExecuteTime": {
     "end_time": "2024-04-27T19:34:07.175830Z",
     "start_time": "2024-04-27T19:34:07.169792Z"
    }
   },
   "source": [
    "from sim_circuit import *\n",
    "\n",
    "def is_bit_not_set(m, k):\n",
    "    return not (m & (1 << k))\n",
    "\n",
    "def phase_oracle_match(n, items):\n",
    "    q = QuantumRegister(n)\n",
    "    qc = QuantumCircuit(q)\n",
    "\n",
    "    for m in items:\n",
    "        for i in range(n):\n",
    "            if is_bit_not_set(m, i):\n",
    "                qc.x(q[i])\n",
    "\n",
    "        qc.mcp(pi, [q[i] for i in range(len(q) - 1)], q[len(q) - 1])\n",
    "\n",
    "        for i in range(n):\n",
    "            if is_bit_not_set(m, i):\n",
    "                qc.x(q[i])\n",
    "    return qc"
   ],
   "outputs": [],
   "execution_count": 40
  },
  {
   "cell_type": "markdown",
   "id": "0f56dc16-99d8-44c1-8874-c0e5e9eddfe1",
   "metadata": {
    "jp-MarkdownHeadingCollapsed": true
   },
   "source": [
    "### The inversion operator (section 6.2.2)"
   ]
  },
  {
   "cell_type": "markdown",
   "id": "9a610aad-b5a9-488b-ba35-881a411d00a1",
   "metadata": {},
   "source": [
    "Listing 6.5 Function to create a circuit for `n` qubits that multiplies outcome 0 by -1"
   ]
  },
  {
   "cell_type": "code",
   "id": "d57a0c22-6fcc-4779-8f4b-0490715a5c85",
   "metadata": {
    "ExecuteTime": {
     "end_time": "2024-04-27T19:34:07.179981Z",
     "start_time": "2024-04-27T19:34:07.178075Z"
    }
   },
   "source": [
    "def inversion_0_circuit(n):\n",
    "    q = QuantumRegister(n)\n",
    "    qc = QuantumCircuit(q)\n",
    "\n",
    "    for i in range(n):\n",
    "        qc.x(q[i])\n",
    "\n",
    "    qc.mcp(pi, [q[i] for i in range(n - 1)], q[n - 1])\n",
    "\n",
    "    for i in range(n):\n",
    "        qc.x(q[i])\n",
    "\n",
    "    return qc"
   ],
   "outputs": [],
   "execution_count": 41
  },
  {
   "cell_type": "markdown",
   "id": "ae6f8d6e-d46a-4397-ab78-8e9f89ed04ff",
   "metadata": {},
   "source": [
    "Listing 6.6 Function to create the inversion circuit"
   ]
  },
  {
   "cell_type": "code",
   "id": "593a1c35c9dad903",
   "metadata": {
    "ExecuteTime": {
     "end_time": "2024-04-27T19:34:07.182087Z",
     "start_time": "2024-04-27T19:34:07.180539Z"
    }
   },
   "source": [
    "def inversion_circuit(A):\n",
    "    n = sum(A.regs)\n",
    "    q = QuantumRegister(n)\n",
    "    qc = QuantumCircuit(q)\n",
    "\n",
    "    qc.append(A.inverse(), q)\n",
    "\n",
    "    qc.append(inversion_0_circuit(n), q)\n",
    "\n",
    "    qc.append(A, q)\n",
    "\n",
    "    return qc"
   ],
   "outputs": [],
   "execution_count": 42
  },
  {
   "cell_type": "markdown",
   "id": "d5f45e25-e025-492a-8817-bd79dc660bf7",
   "metadata": {
    "jp-MarkdownHeadingCollapsed": true
   },
   "source": [
    "### Grover iterate (section 6.2.3)"
   ]
  },
  {
   "cell_type": "markdown",
   "id": "8afb36cf-a581-452b-add4-f6ce760c1f5e",
   "metadata": {},
   "source": [
    "Listing 6.7 Function to create the Grover iterate circuit for a given oracle `O` and operator `A`"
   ]
  },
  {
   "cell_type": "code",
   "id": "95147d57-8542-4bf5-97dd-547b2ab34057",
   "metadata": {
    "ExecuteTime": {
     "end_time": "2024-04-27T19:34:07.184304Z",
     "start_time": "2024-04-27T19:34:07.182525Z"
    }
   },
   "source": [
    "def grover_iterate_circuit(A, O):\n",
    "    n = sum(O.regs)\n",
    "    q = QuantumRegister(n)\n",
    "    qc = QuantumCircuit(q)\n",
    "\n",
    "    qc.append(O, q)\n",
    "\n",
    "    qc.append(inversion_circuit(A), q)\n",
    "\n",
    "    return qc"
   ],
   "outputs": [],
   "execution_count": 43
  },
  {
   "cell_type": "markdown",
   "id": "8d9f45d2-4746-4993-937e-f323e4c64344",
   "metadata": {
    "jp-MarkdownHeadingCollapsed": true
   },
   "source": [
    "### Putting it all together: Grover's Algorithm (section 6.2.4)"
   ]
  },
  {
   "cell_type": "markdown",
   "id": "280ef96d-a416-48d1-8803-45ac693915ff",
   "metadata": {},
   "source": [
    "Listing 6.8 Function to create the magnitude amplification circuit"
   ]
  },
  {
   "cell_type": "code",
   "id": "7aacddcecc04e917",
   "metadata": {
    "ExecuteTime": {
     "end_time": "2024-04-27T19:34:07.186729Z",
     "start_time": "2024-04-27T19:34:07.184945Z"
    }
   },
   "source": [
    "def grover_circuit(A, O, iterations):\n",
    "    n = sum(A.regs)\n",
    "    q = QuantumRegister(n)\n",
    "    qc = QuantumCircuit(q)\n",
    "    \n",
    "    qc.append(A, q)\n",
    "\n",
    "    for i in range(1, iterations + 1):\n",
    "        qc.append(grover_iterate_circuit(A, O), q)\n",
    "        qc.report(f'iteration_{i}')\n",
    "\n",
    "    return qc"
   ],
   "outputs": [],
   "execution_count": 44
  },
  {
   "cell_type": "markdown",
   "id": "71f9691f-a7d9-41d5-9219-64efde85962a",
   "metadata": {},
   "source": [
    "We can use the function `uniform` from chapter 4 to create a circuit $A$ that prepares a state with equal magnitudes:"
   ]
  },
  {
   "cell_type": "code",
   "id": "979ff1e5-25d5-4629-aceb-bf343d2d4a37",
   "metadata": {
    "ExecuteTime": {
     "end_time": "2024-04-27T19:34:07.188701Z",
     "start_time": "2024-04-27T19:34:07.187136Z"
    }
   },
   "source": [
    "def uniform(n):\n",
    "    q = QuantumRegister(n)\n",
    "    qc = QuantumCircuit(q)\n",
    "\n",
    "    for i in range(len(q)):\n",
    "        qc.h(q[i])\n",
    "\n",
    "    return qc"
   ],
   "outputs": [],
   "execution_count": 45
  },
  {
   "cell_type": "markdown",
   "id": "fa5e0c96-590c-48c6-9e60-7eaffe8489ba",
   "metadata": {},
   "source": [
    "With `uniform` as our operator $A$, $n = 3$ qubits, and good outcomes 1, 3, and 7, we can define the following circuit:"
   ]
  },
  {
   "cell_type": "code",
   "id": "67d0536e-c8ac-4c02-99b0-5e0696cf5637",
   "metadata": {
    "ExecuteTime": {
     "end_time": "2024-04-27T19:34:07.190836Z",
     "start_time": "2024-04-27T19:34:07.189138Z"
    }
   },
   "source": [
    "n = 3\n",
    "items = [1, 3, 7]\n",
    "num_iterations = int(floor(pi/4*sqrt(2**n/len(items))))\n",
    "\n",
    "qc = grover_circuit(uniform(n), phase_oracle_match(n, items), num_iterations)"
   ],
   "outputs": [],
   "execution_count": 46
  },
  {
   "cell_type": "code",
   "id": "9384d8bc-5dc3-4fc1-97fe-41bcce30372c",
   "metadata": {
    "ExecuteTime": {
     "end_time": "2024-04-27T19:34:08.354753Z",
     "start_time": "2024-04-27T19:34:07.191743Z"
    }
   },
   "source": [
    "from util_qiskit import print_circuit\n",
    "\n",
    "print_circuit(qc)"
   ],
   "outputs": [
    {
     "name": "stdout",
     "output_type": "stream",
     "text": [
      "     ┌───┐                                         ┌───┐┌───┐       ┌───┐┌───┐\n",
      "q_0: ┤ H ├──────■────────────────■───────────■─────┤ H ├┤ X ├─■─────┤ X ├┤ H ├\n",
      "     ├───┤┌───┐ │     ┌───┐      │           │     ├───┤├───┤ │     ├───┤├───┤\n",
      "q_1: ┤ H ├┤ X ├─■─────┤ X ├──────■───────────■─────┤ H ├┤ X ├─■─────┤ X ├┤ H ├\n",
      "     ├───┤├───┤ │P(π) ├───┤┌───┐ │P(π) ┌───┐ │P(π) ├───┤├───┤ │P(π) ├───┤├───┤\n",
      "q_2: ┤ H ├┤ X ├─■─────┤ X ├┤ X ├─■─────┤ X ├─■─────┤ H ├┤ X ├─■─────┤ X ├┤ H ├\n",
      "     └───┘└───┘       └───┘└───┘       └───┘       └───┘└───┘       └───┘└───┘\n"
     ]
    }
   ],
   "execution_count": 47
  },
  {
   "cell_type": "markdown",
   "id": "23c11ace-2b21-41e8-a550-014831bf7c30",
   "metadata": {},
   "source": [
    "We can check the amplitudes at each step using the reports generated with the following code:"
   ]
  },
  {
   "cell_type": "code",
   "id": "418a0140-6bdb-40ed-a3fd-2fa5160c360e",
   "metadata": {
    "ExecuteTime": {
     "end_time": "2024-04-27T19:34:08.357175Z",
     "start_time": "2024-04-27T19:34:08.355393Z"
    }
   },
   "source": [
    "for i in range(1, num_iterations + 1):\n",
    "    for m in items:\n",
    "        assert is_close(qc.reports[f'iteration_{i}'][2][m], (-1)**i * target_amplitude_uniform(n, len(items), i))"
   ],
   "outputs": [],
   "execution_count": 48
  },
  {
   "cell_type": "code",
   "id": "f4ed7725",
   "metadata": {
    "ExecuteTime": {
     "end_time": "2024-04-27T19:34:08.360125Z",
     "start_time": "2024-04-27T19:34:08.357777Z"
    }
   },
   "source": [
    "print_state_table(qc.run())"
   ],
   "outputs": [
    {
     "name": "stdout",
     "output_type": "stream",
     "text": [
      "\n",
      "Outcome  Binary  Amplitude           Magnitude  Direction  Amplitude Bar             Probability\n",
      "------------------------------------------------------------------------------------------------\n",
      "0        000     0.1768 + i0.0000    0.1768        0.00°   \u001B[38;2;246;53;29m████                    \u001B[39m  0.0312\n",
      "1        001    -0.5303 + i0.0000    0.5303      180.00°   \u001B[38;2;37;232;234m████████████            \u001B[39m  0.2812\n",
      "2        010     0.1768 + i0.0000    0.1768        0.00°   \u001B[38;2;246;53;29m████                    \u001B[39m  0.0312\n",
      "3        011    -0.5303 + i0.0000    0.5303      180.00°   \u001B[38;2;37;232;234m████████████            \u001B[39m  0.2812\n",
      "4        100     0.1768 + i0.0000    0.1768        0.00°   \u001B[38;2;246;53;29m████                    \u001B[39m  0.0312\n",
      "5        101     0.1768 + i0.0000    0.1768        0.00°   \u001B[38;2;246;53;29m████                    \u001B[39m  0.0312\n",
      "6        110     0.1768 + i0.0000    0.1768        0.00°   \u001B[38;2;246;53;29m████                    \u001B[39m  0.0312\n",
      "7        111    -0.5303 + i0.0000    0.5303      180.00°   \u001B[38;2;37;232;234m████████████            \u001B[39m  0.2812\n",
      "\n"
     ]
    }
   ],
   "execution_count": 49
  }
 ],
 "metadata": {
  "kernelspec": {
   "display_name": "Python 3 (ipykernel)",
   "language": "python",
   "name": "python3"
  },
  "language_info": {
   "codemirror_mode": {
    "name": "ipython",
    "version": 3
   },
   "file_extension": ".py",
   "mimetype": "text/x-python",
   "name": "python",
   "nbconvert_exporter": "python",
   "pygments_lexer": "ipython3",
   "version": "3.9.13"
  }
 },
 "nbformat": 4,
 "nbformat_minor": 5
}
