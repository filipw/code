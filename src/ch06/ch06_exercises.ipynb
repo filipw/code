{
 "cells": [
  {
   "cell_type": "code",
   "execution_count": 1,
   "id": "fc542a1a-5c12-403b-8596-ebff3bb6f0f6",
   "metadata": {},
   "outputs": [],
   "source": [
    "import sys;\n",
    "sys.path.insert(0, '..')"
   ]
  },
  {
   "cell_type": "code",
   "execution_count": 2,
   "id": "2d7ed252-7e28-42f9-bf97-74474657ba97",
   "metadata": {},
   "outputs": [],
   "source": [
    "from math import cos, floor, pi, sqrt, asin, sin\n",
    "\n",
    "from util import generate_state, print_state_table, is_close, inner\n",
    "\n",
    "from sim_circuit import *"
   ]
  },
  {
   "cell_type": "markdown",
   "id": "c9923ea2-26b3-42e4-a42e-fc9053763c6e",
   "metadata": {},
   "source": [
    "## Exercise 1\n",
    "\n",
    "What is the inner product of [i, i] and [-i, i]?"
   ]
  },
  {
   "cell_type": "markdown",
   "id": "ad8571c7-fb51-4fe3-9bc1-4e1fa60362b3",
   "metadata": {},
   "source": [
    "**Answer:**"
   ]
  },
  {
   "cell_type": "code",
   "execution_count": 3,
   "id": "3efd8122-c047-41f7-9920-06750a27b677",
   "metadata": {},
   "outputs": [
    {
     "data": {
      "text/plain": [
       "0j"
      ]
     },
     "execution_count": 3,
     "metadata": {},
     "output_type": "execute_result"
    }
   ],
   "source": [
    "list1 = [0+1j, 0+1j]\n",
    "list2 = [0-1j, 0+1j]\n",
    "\n",
    "sum(list1[k]*list2[k].conjugate() for k in range(len(list1)))"
   ]
  },
  {
   "cell_type": "markdown",
   "id": "791766e5-043f-4344-9ae3-312bd9b325f5",
   "metadata": {},
   "source": [
    "## Exercise 2\n",
    "\n",
    "Using the code introduced in this section, create a random state with $n = 4$ qubits and apply the classical magnitude amplification procedure for good outcomes 3 and 10."
   ]
  },
  {
   "cell_type": "markdown",
   "id": "b0722cf8-5c4d-488d-816d-c0cf34375d61",
   "metadata": {},
   "source": [
    "**Answer:**"
   ]
  },
  {
   "cell_type": "code",
   "execution_count": 4,
   "id": "dbebcdd4-201a-43b1-ad28-32fab0281b2d",
   "metadata": {},
   "outputs": [],
   "source": [
    "def oracle(state, predicate):\n",
    "    for item in range(len(state)):\n",
    "        if predicate(item):\n",
    "            state[item] *= -1\n",
    "\n",
    "def inversion(original, current):\n",
    "    proj = inner(original, current)\n",
    "    for k in range(len(current)):\n",
    "        current[k] = 2*proj*original[k] - current[k]\n",
    "\n",
    "def grover_sim(state, predicate, iterations):\n",
    "    s = state.copy()\n",
    "\n",
    "    p = sum([abs(s[k])**2 for k in items])\n",
    "    theta = asin(sqrt(p))\n",
    "    assert is_close(inner(s, state), 1)\n",
    "\n",
    "    for it in range(1, iterations + 1):\n",
    "        oracle(state, predicate)\n",
    "        inversion(s, state)\n",
    "        assert is_close(inner(s, state), cos(2 * it * theta))\n",
    "\n",
    "        p = sum([abs(state[k])**2 for k in items])\n",
    "        assert is_close(p, sin((2 * it + 1)*theta)**2) "
   ]
  },
  {
   "cell_type": "code",
   "execution_count": 5,
   "id": "98fad4cd-e33d-4a18-ae90-12cd30bd744e",
   "metadata": {},
   "outputs": [
    {
     "name": "stdout",
     "output_type": "stream",
     "text": [
      "\n",
      "Outcome  Binary  Amplitude           Magnitude  Direction  Amplitude Bar             Probability\n",
      "------------------------------------------------------------------------------------------------\n",
      "0        0000   -0.0839 + i0.1619    0.1824      117.39°   \u001b[38;2;63;153;27m████                    \u001b[39m  0.0333\n",
      "1        0001   -0.1372 - i0.0942    0.1665     -145.47°   \u001b[38;2;46;171;255m███                     \u001b[39m  0.0277\n",
      "2        0010    0.2034 - i0.2349    0.3107      -49.89°   \u001b[38;2;255;171;196m███████                 \u001b[39m  0.0966\n",
      "3        0011   -0.3413 + i0.2044    0.3978      149.80°   \u001b[38;2;49;191;130m█████████               \u001b[39m  0.1583\n",
      "4        0100   -0.0074 + i0.1623    0.1625       92.61°   \u001b[38;2;148;182;0m███                     \u001b[39m  0.0264\n",
      "5        0101   -0.1180 + i0.2386    0.2662      116.31°   \u001b[38;2;67;154;24m██████                  \u001b[39m  0.0708\n",
      "6        0110    0.1036 - i0.2892    0.3071      -70.71°   \u001b[38;2;230;188;253m███████                 \u001b[39m  0.0943\n",
      "7        0111   -0.2391 - i0.2690    0.3599     -131.37°   \u001b[38;2;39;142;255m████████                \u001b[39m  0.1295\n",
      "8        1000    0.0120 - i0.3210    0.3213      -87.14°   \u001b[38;2;178;163;255m███████                 \u001b[39m  0.1032\n",
      "9        1001   -0.0214 - i0.0537    0.0578     -111.27°   \u001b[38;2;94;130;255m█                       \u001b[39m  0.0033\n",
      "10       1010    0.1365 + i0.0560    0.1476       22.31°   \u001b[38;2;251;111;1m███                     \u001b[39m  0.0218\n",
      "11       1011   -0.0442 - i0.0634    0.0773     -124.12°   \u001b[38;2;49;132;255m█                       \u001b[39m  0.006 \n",
      "12       1100    0.0475 + i0.2853    0.2892       80.55°   \u001b[38;2;185;197;0m██████                  \u001b[39m  0.0836\n",
      "13       1101   -0.0201 + i0.0827    0.0851      103.66°   \u001b[38;2;109;166;4m██                      \u001b[39m  0.0072\n",
      "14       1110   -0.1430 + i0.3098    0.3412      114.78°   \u001b[38;2;71;154;21m████████                \u001b[39m  0.1164\n",
      "15       1111   -0.0235 - i0.1447    0.1466      -99.78°   \u001b[38;2;142;145;255m███                     \u001b[39m  0.0215\n",
      "\n"
     ]
    }
   ],
   "source": [
    "n = 4\n",
    "items = [3, 11]\n",
    "predicate = lambda i: True if i in items else False\n",
    "\n",
    "state = generate_state(n)\n",
    "print_state_table(state)"
   ]
  },
  {
   "cell_type": "code",
   "execution_count": 6,
   "id": "62d104ed-d796-4f46-bd85-d745b66e60ca",
   "metadata": {},
   "outputs": [],
   "source": [
    "num_iterations = int(floor(pi/4*sqrt(2**n/len(items))))\n",
    "\n",
    "grover_sim(state, predicate, iterations = 2)"
   ]
  },
  {
   "cell_type": "code",
   "execution_count": 7,
   "id": "8691dbca-04b5-4338-8281-08c3cab1c690",
   "metadata": {},
   "outputs": [
    {
     "name": "stdout",
     "output_type": "stream",
     "text": [
      "\n",
      "Outcome  Binary  Amplitude           Magnitude  Direction  Amplitude Bar             Probability\n",
      "------------------------------------------------------------------------------------------------\n",
      "0        0000    0.0453 - i0.0873    0.0984      -62.42°   \u001b[38;2;247;190;241m██                      \u001b[39m  0.0097\n",
      "1        0001    0.0740 + i0.0508    0.0898       34.47°   \u001b[38;2;255;149;0m██                      \u001b[39m  0.0081\n",
      "2        0010   -0.1097 + i0.1267    0.1676      130.89°   \u001b[38;2;43;161;66m████                    \u001b[39m  0.0281\n",
      "3        0011   -0.7327 + i0.4387    0.854       149.90°   \u001b[38;2;49;191;130m████████████████████    \u001b[39m  0.7294\n",
      "4        0100    0.0040 - i0.0875    0.0876      -87.62°   \u001b[38;2;178;163;255m██                      \u001b[39m  0.0077\n",
      "5        0101    0.0636 - i0.1287    0.1435      -63.30°   \u001b[38;2;244;191;244m███                     \u001b[39m  0.0206\n",
      "6        0110   -0.0559 + i0.1559    0.1656      109.73°   \u001b[38;2;85;158;13m███                     \u001b[39m  0.0274\n",
      "7        0111    0.1290 + i0.1450    0.1941       48.34°   \u001b[38;2;255;186;0m████                    \u001b[39m  0.0377\n",
      "8        1000   -0.0065 + i0.1731    0.1733       92.15°   \u001b[38;2;148;182;0m████                    \u001b[39m  0.03  \n",
      "9        1001    0.0115 + i0.0290    0.0312       68.37°   \u001b[38;2;225;209;0m                        \u001b[39m  0.001 \n",
      "10       1010   -0.0736 - i0.0302    0.0796     -157.31°   \u001b[38;2;48;200;255m█                       \u001b[39m  0.0063\n",
      "11       1011   -0.0949 - i0.1362    0.166      -124.13°   \u001b[38;2;49;132;255m███                     \u001b[39m  0.0276\n",
      "12       1100   -0.0256 - i0.1539    0.156       -99.56°   \u001b[38;2;142;145;255m███                     \u001b[39m  0.0243\n",
      "13       1101    0.0108 - i0.0446    0.0459      -76.61°   \u001b[38;2;211;180;255m█                       \u001b[39m  0.0021\n",
      "14       1110    0.0771 - i0.1671    0.184       -65.77°   \u001b[38;2;240;191;247m████                    \u001b[39m  0.0339\n",
      "15       1111    0.0127 + i0.0781    0.0791       80.76°   \u001b[38;2;185;197;0m█                       \u001b[39m  0.0063\n",
      "\n"
     ]
    }
   ],
   "source": [
    "print_state_table(state)"
   ]
  },
  {
   "cell_type": "markdown",
   "id": "b285990c-335c-4527-9c5b-8698488296ac",
   "metadata": {},
   "source": [
    "## Exercise 3\n",
    "\n",
    "Create a magnitude amplification circuit for $n = 3$ qubits and single good outcome 5 using the circuit returned by the function from chapter 4 below as the initial state preparation operator (with `theta = 4*pi/7`)."
   ]
  },
  {
   "cell_type": "code",
   "execution_count": 8,
   "id": "a8950fab-874d-4b72-9239-cecd86236276",
   "metadata": {},
   "outputs": [],
   "source": [
    "def prepare_binomial(n, theta):\n",
    "    q = QuantumRegister(n)\n",
    "    qc = QuantumCircuit(q)\n",
    "\n",
    "    for i in range(len(q)):\n",
    "        qc.ry(theta, q[i])\n",
    "\n",
    "    return qc"
   ]
  },
  {
   "cell_type": "markdown",
   "id": "09e3b246-b924-423a-aaf6-33f240aaa0fd",
   "metadata": {},
   "source": [
    "**Answer:**"
   ]
  },
  {
   "cell_type": "code",
   "execution_count": 9,
   "id": "8d4a9aa6-2b55-4260-bd5e-3ed6590f204d",
   "metadata": {},
   "outputs": [],
   "source": [
    "def is_bit_not_set(m, k):\n",
    "    return not (m & (1 << k))\n",
    "\n",
    "def phase_oracle_match(n, items):\n",
    "    q = QuantumRegister(n)\n",
    "    qc = QuantumCircuit(q)\n",
    "\n",
    "    for m in items:\n",
    "        for i in range(n):\n",
    "            if is_bit_not_set(m, i):\n",
    "                qc.x(q[i])\n",
    "\n",
    "        qc.mcp(pi, [q[i] for i in range(len(q) - 1)], q[len(q) - 1])\n",
    "\n",
    "        for i in range(n):\n",
    "            if is_bit_not_set(m, i):\n",
    "                qc.x(q[i])\n",
    "    return qc"
   ]
  },
  {
   "cell_type": "code",
   "execution_count": 10,
   "id": "7c8e926d-7462-4e85-b0ec-03b0d25e188d",
   "metadata": {},
   "outputs": [],
   "source": [
    "def inversion_0_circuit(n):\n",
    "    q = QuantumRegister(n)\n",
    "    qc = QuantumCircuit(q)\n",
    "\n",
    "    for i in range(n):\n",
    "        qc.x(q[i])\n",
    "\n",
    "    qc.mcp(pi, [q[i] for i in range(n - 1)], q[n - 1])\n",
    "\n",
    "    for i in range(n):\n",
    "        qc.x(q[i])\n",
    "\n",
    "    return qc"
   ]
  },
  {
   "cell_type": "code",
   "execution_count": 11,
   "id": "52c8d6a8-a68f-44d6-b1fb-fa2286438ef9",
   "metadata": {},
   "outputs": [],
   "source": [
    "def inversion_circuit(A):\n",
    "    n = sum(A.regs)\n",
    "    q = QuantumRegister(n)\n",
    "    qc = QuantumCircuit(q)\n",
    "\n",
    "    qc.append(A.inverse(), q)\n",
    "\n",
    "    qc.append(inversion_0_circuit(n), q)\n",
    "\n",
    "    qc.append(A, q)\n",
    "\n",
    "    return qc"
   ]
  },
  {
   "cell_type": "code",
   "execution_count": 12,
   "id": "df461995-5b01-49c7-bae5-56ba18e6b861",
   "metadata": {},
   "outputs": [],
   "source": [
    "def grover_iterate_circuit(A, O):\n",
    "    n = sum(O.regs)\n",
    "    q = QuantumRegister(n)\n",
    "    qc = QuantumCircuit(q)\n",
    "\n",
    "    qc.append(O, q)\n",
    "\n",
    "    qc.append(inversion_circuit(A), q)\n",
    "\n",
    "    return qc"
   ]
  },
  {
   "cell_type": "code",
   "execution_count": 13,
   "id": "429004b9-cc8a-4ca7-babc-ab007e8bbbfb",
   "metadata": {},
   "outputs": [],
   "source": [
    "def grover_circuit(A, O, iterations):\n",
    "    n = sum(A.regs)\n",
    "    q = QuantumRegister(n)\n",
    "    qc = QuantumCircuit(q)\n",
    "\n",
    "    qc.append(A, q)\n",
    "\n",
    "    for i in range(1, iterations + 1):\n",
    "        qc.append(grover_iterate_circuit(A, O), q)\n",
    "        qc.report(f'iteration_{i}')\n",
    "\n",
    "    return qc"
   ]
  },
  {
   "cell_type": "code",
   "execution_count": 14,
   "id": "75a4ac8f-cd7a-44a0-bdad-0a3babcd9e18",
   "metadata": {},
   "outputs": [],
   "source": [
    "n = 3\n",
    "items = [5]\n",
    "num_iterations = int(floor(pi/4*sqrt(2**n/len(items))))\n",
    "\n",
    "theta = 4*pi/7\n",
    "qc = grover_circuit(prepare_binomial(n, theta), phase_oracle_match(n, items), num_iterations)"
   ]
  },
  {
   "cell_type": "code",
   "execution_count": 15,
   "id": "19835b6f-e4fa-4b74-a189-b4c229fe0f1e",
   "metadata": {},
   "outputs": [
    {
     "name": "stdout",
     "output_type": "stream",
     "text": [
      "\n",
      "Outcome  Binary  Amplitude           Magnitude  Direction  Amplitude Bar             Probability\n",
      "------------------------------------------------------------------------------------------------\n",
      "0        000    -0.0983 + i0.0000    0.0983      180.00°   \u001b[38;2;37;232;234m██                      \u001b[39m  0.0097\n",
      "1        001    -0.1232 + i0.0000    0.1232      180.00°   \u001b[38;2;37;232;234m██                      \u001b[39m  0.0152\n",
      "2        010    -0.1232 + i0.0000    0.1232      180.00°   \u001b[38;2;37;232;234m██                      \u001b[39m  0.0152\n",
      "3        011    -0.1545 + i0.0000    0.1545      180.00°   \u001b[38;2;37;232;234m███                     \u001b[39m  0.0239\n",
      "4        100    -0.1232 + i0.0000    0.1232      180.00°   \u001b[38;2;37;232;234m██                      \u001b[39m  0.0152\n",
      "5        101     0.9271 + i0.0000    0.9271        0.00°   \u001b[38;2;246;53;29m██████████████████████  \u001b[39m  0.8595\n",
      "6        110    -0.1545 + i0.0000    0.1545      180.00°   \u001b[38;2;37;232;234m███                     \u001b[39m  0.0239\n",
      "7        111    -0.1938 + i0.0000    0.1938      180.00°   \u001b[38;2;37;232;234m████                    \u001b[39m  0.0375\n",
      "\n"
     ]
    }
   ],
   "source": [
    "print_state_table(qc.run())"
   ]
  }
 ],
 "metadata": {
  "kernelspec": {
   "display_name": "Python 3 (ipykernel)",
   "language": "python",
   "name": "python3"
  },
  "language_info": {
   "codemirror_mode": {
    "name": "ipython",
    "version": 3
   },
   "file_extension": ".py",
   "mimetype": "text/x-python",
   "name": "python",
   "nbconvert_exporter": "python",
   "pygments_lexer": "ipython3",
   "version": "3.9.13"
  }
 },
 "nbformat": 4,
 "nbformat_minor": 5
}
