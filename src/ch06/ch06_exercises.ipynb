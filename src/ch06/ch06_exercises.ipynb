{
 "cells": [
  {
   "cell_type": "code",
   "execution_count": null,
   "id": "fc542a1a-5c12-403b-8596-ebff3bb6f0f6",
   "metadata": {},
   "outputs": [],
   "source": [
    "import sys;\n",
    "sys.path.insert(0, '..')"
   ]
  },
  {
   "cell_type": "code",
   "execution_count": null,
   "id": "2d7ed252-7e28-42f9-bf97-74474657ba97",
   "metadata": {},
   "outputs": [],
   "source": [
    "from math import cos, floor, pi, sqrt, asin, sin\n",
    "\n",
    "from util import generate_state, print_state_table, is_close, inner\n",
    "\n",
    "from sim_circuit import *"
   ]
  },
  {
   "cell_type": "markdown",
   "id": "791766e5-043f-4344-9ae3-312bd9b325f5",
   "metadata": {},
   "source": [
    "## Exercise 1\n",
    "\n",
    "Using the code introduced in this section, create a random state with $n = 4$ qubits and apply the classical magnitude amplification procedure for good outcomes 3 and 10."
   ]
  },
  {
   "cell_type": "markdown",
   "id": "b0722cf8-5c4d-488d-816d-c0cf34375d61",
   "metadata": {},
   "source": [
    "**Answer:**"
   ]
  },
  {
   "cell_type": "code",
   "execution_count": null,
   "id": "dbebcdd4-201a-43b1-ad28-32fab0281b2d",
   "metadata": {},
   "outputs": [],
   "source": [
    "def oracle(state, predicate):\n",
    "    for item in range(len(state)):\n",
    "        if predicate(item):\n",
    "            state[item] *= -1\n",
    "\n",
    "def inversion(original, current):\n",
    "    proj = inner(original, current)\n",
    "    for k in range(len(current)):\n",
    "        current[k] = 2*proj*original[k] - current[k]\n",
    "\n",
    "def grover_sim(state, predicate, iterations):\n",
    "    s = state.copy()\n",
    "\n",
    "    p = sum([abs(s[k])**2 for k in items])\n",
    "    theta = asin(sqrt(p))\n",
    "    assert is_close(inner(s, state), 1)\n",
    "\n",
    "    for it in range(1, iterations + 1):\n",
    "        oracle(state, predicate)\n",
    "        inversion(s, state)\n",
    "        assert is_close(inner(s, state), cos(2 * it * theta))\n",
    "\n",
    "        p = sum([abs(state[k])**2 for k in items])\n",
    "        assert is_close(p, sin((2 * it + 1)*theta)**2) "
   ]
  },
  {
   "cell_type": "code",
   "execution_count": null,
   "id": "98fad4cd-e33d-4a18-ae90-12cd30bd744e",
   "metadata": {},
   "outputs": [],
   "source": [
    "n = 4\n",
    "items = [3, 11]\n",
    "predicate = lambda i: True if i in items else False\n",
    "\n",
    "state = generate_state(n)\n",
    "print_state_table(state)"
   ]
  },
  {
   "cell_type": "code",
   "execution_count": null,
   "id": "62d104ed-d796-4f46-bd85-d745b66e60ca",
   "metadata": {},
   "outputs": [],
   "source": [
    "num_iterations = int(floor(pi/4*sqrt(2**n/len(items))))\n",
    "\n",
    "grover_sim(state, predicate, iterations = 2)"
   ]
  },
  {
   "cell_type": "code",
   "execution_count": null,
   "id": "8691dbca-04b5-4338-8281-08c3cab1c690",
   "metadata": {},
   "outputs": [],
   "source": [
    "print_state_table(state)"
   ]
  },
  {
   "cell_type": "markdown",
   "id": "b285990c-335c-4527-9c5b-8698488296ac",
   "metadata": {},
   "source": [
    "## Exercise 2\n",
    "\n",
    "Create a magnitude amplification circuit for $n = 3$ qubits and single good outcome 5 using the circuit returned by the function from chapter 4 below as the initial state preparation operator (with `theta = 4*pi/7`)."
   ]
  },
  {
   "cell_type": "code",
   "execution_count": null,
   "id": "a8950fab-874d-4b72-9239-cecd86236276",
   "metadata": {},
   "outputs": [],
   "source": [
    "def prepare_binomial(n, theta):\n",
    "    q = QuantumRegister(n)\n",
    "    qc = QuantumCircuit(q)\n",
    "\n",
    "    for i in range(len(q)):\n",
    "        qc.ry(theta, q[i])\n",
    "\n",
    "    return qc"
   ]
  },
  {
   "cell_type": "markdown",
   "id": "09e3b246-b924-423a-aaf6-33f240aaa0fd",
   "metadata": {},
   "source": [
    "**Answer:**"
   ]
  },
  {
   "cell_type": "code",
   "execution_count": null,
   "id": "8d4a9aa6-2b55-4260-bd5e-3ed6590f204d",
   "metadata": {},
   "outputs": [],
   "source": [
    "def is_bit_not_set(m, k):\n",
    "    return not (m & (1 << k))\n",
    "\n",
    "def phase_oracle_match(n, items):\n",
    "    q = QuantumRegister(n)\n",
    "    qc = QuantumCircuit(q)\n",
    "\n",
    "    for m in items:\n",
    "        for i in range(n):\n",
    "            if is_bit_not_set(m, i):\n",
    "                qc.x(q[i])\n",
    "\n",
    "        qc.mcp(pi, [q[i] for i in range(len(q) - 1)], q[len(q) - 1])\n",
    "\n",
    "        for i in range(n):\n",
    "            if is_bit_not_set(m, i):\n",
    "                qc.x(q[i])\n",
    "    return qc"
   ]
  },
  {
   "cell_type": "code",
   "execution_count": null,
   "id": "7c8e926d-7462-4e85-b0ec-03b0d25e188d",
   "metadata": {},
   "outputs": [],
   "source": [
    "def inversion_0_circuit(n):\n",
    "    q = QuantumRegister(n)\n",
    "    qc = QuantumCircuit(q)\n",
    "\n",
    "    for i in range(n):\n",
    "        qc.x(q[i])\n",
    "\n",
    "    qc.mcp(pi, [q[i] for i in range(n - 1)], q[n - 1])\n",
    "\n",
    "    for i in range(n):\n",
    "        qc.x(q[i])\n",
    "\n",
    "    return qc"
   ]
  },
  {
   "cell_type": "code",
   "execution_count": null,
   "id": "52c8d6a8-a68f-44d6-b1fb-fa2286438ef9",
   "metadata": {},
   "outputs": [],
   "source": [
    "def inversion_circuit(A):\n",
    "    n = sum(A.regs)\n",
    "    q = QuantumRegister(n)\n",
    "    qc = QuantumCircuit(q)\n",
    "\n",
    "    qc.append(A.inverse(), q)\n",
    "\n",
    "    qc.append(inversion_0_circuit(n), q)\n",
    "\n",
    "    qc.append(A, q)\n",
    "\n",
    "    return qc"
   ]
  },
  {
   "cell_type": "code",
   "execution_count": null,
   "id": "df461995-5b01-49c7-bae5-56ba18e6b861",
   "metadata": {},
   "outputs": [],
   "source": [
    "def grover_iterate_circuit(A, O):\n",
    "    n = sum(O.regs)\n",
    "    q = QuantumRegister(n)\n",
    "    qc = QuantumCircuit(q)\n",
    "\n",
    "    qc.append(O, q)\n",
    "\n",
    "    qc.append(inversion_circuit(A), q)\n",
    "\n",
    "    return qc"
   ]
  },
  {
   "cell_type": "code",
   "execution_count": null,
   "id": "429004b9-cc8a-4ca7-babc-ab007e8bbbfb",
   "metadata": {},
   "outputs": [],
   "source": [
    "def grover_circuit(A, O, iterations):\n",
    "    n = sum(A.regs)\n",
    "    q = QuantumRegister(n)\n",
    "    qc = QuantumCircuit(q)\n",
    "\n",
    "    qc.append(A, q)\n",
    "\n",
    "    for i in range(1, iterations + 1):\n",
    "        qc.append(grover_iterate_circuit(A, O), q)\n",
    "        qc.report(f'iteration_{i}')\n",
    "\n",
    "    return qc"
   ]
  },
  {
   "cell_type": "code",
   "execution_count": null,
   "id": "75a4ac8f-cd7a-44a0-bdad-0a3babcd9e18",
   "metadata": {},
   "outputs": [],
   "source": [
    "n = 3\n",
    "items = [5]\n",
    "num_iterations = int(floor(pi/4*sqrt(2**n/len(items))))\n",
    "\n",
    "theta = 4*pi/7\n",
    "qc = grover_circuit(prepare_binomial(n, theta), phase_oracle_match(n, items), num_iterations)"
   ]
  },
  {
   "cell_type": "code",
   "execution_count": null,
   "id": "19835b6f-e4fa-4b74-a189-b4c229fe0f1e",
   "metadata": {},
   "outputs": [],
   "source": [
    "print_state_table(qc.run())"
   ]
  }
 ],
 "metadata": {
  "kernelspec": {
   "display_name": "Python 3 (ipykernel)",
   "language": "python",
   "name": "python3"
  },
  "language_info": {
   "codemirror_mode": {
    "name": "ipython",
    "version": 3
   },
   "file_extension": ".py",
   "mimetype": "text/x-python",
   "name": "python",
   "nbconvert_exporter": "python",
   "pygments_lexer": "ipython3",
   "version": "3.9.13"
  }
 },
 "nbformat": 4,
 "nbformat_minor": 5
}
