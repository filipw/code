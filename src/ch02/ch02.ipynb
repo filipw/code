{
 "cells": [
  {
   "cell_type": "code",
   "execution_count": null,
   "id": "3c248bb2",
   "metadata": {
    "ExecuteTime": {
     "end_time": "2024-03-31T18:00:55.107032Z",
     "start_time": "2024-03-31T18:00:55.098162Z"
    }
   },
   "outputs": [],
   "source": [
    "import sys\n",
    "sys.path.insert(0, '..')"
   ]
  },
  {
   "cell_type": "markdown",
   "id": "335c9e83",
   "metadata": {},
   "source": [
    "# Chapter 2: The Knapsack Problem"
   ]
  },
  {
   "cell_type": "code",
   "execution_count": null,
   "id": "b172a64e0fcab530",
   "metadata": {
    "ExecuteTime": {
     "end_time": "2024-03-31T18:00:56.486901Z",
     "start_time": "2024-03-31T18:00:55.108832Z"
    }
   },
   "outputs": [],
   "source": [
    "from apps.knapsack import find_optimal_selection"
   ]
  },
  {
   "cell_type": "markdown",
   "id": "4fd6f86d41de422d",
   "metadata": {},
   "source": [
    "This function has three parameters: a list of item values, a list of item weights, and the maximum weight of selections we are looking for. We define the inputs for our example below:"
   ]
  },
  {
   "cell_type": "code",
   "execution_count": null,
   "id": "714bcc25a2174236",
   "metadata": {
    "ExecuteTime": {
     "end_time": "2024-03-31T18:00:56.492011Z",
     "start_time": "2024-03-31T18:00:56.488897Z"
    }
   },
   "outputs": [],
   "source": [
    "values = [2, 3, 1]\n",
    "weights = [3, 2, 1]\n",
    "max_weight = 4"
   ]
  },
  {
   "cell_type": "markdown",
   "id": "b98b08a0af765efb",
   "metadata": {},
   "source": [
    "Let’s perform one function call with these inputs:"
   ]
  },
  {
   "cell_type": "code",
   "execution_count": null,
   "id": "4b0559dbca2766c5",
   "metadata": {
    "ExecuteTime": {
     "end_time": "2024-03-31T18:00:56.750711Z",
     "start_time": "2024-03-31T18:00:56.493233Z"
    }
   },
   "outputs": [],
   "source": [
    "find_optimal_selection(values, weights, max_weight)"
   ]
  }
 ],
 "metadata": {
  "kernelspec": {
   "display_name": "Python 3 (ipykernel)",
   "language": "python",
   "name": "python3"
  },
  "language_info": {
   "codemirror_mode": {
    "name": "ipython",
    "version": 3
   },
   "file_extension": ".py",
   "mimetype": "text/x-python",
   "name": "python",
   "nbconvert_exporter": "python",
   "pygments_lexer": "ipython3",
   "version": "3.9.13"
  }
 },
 "nbformat": 4,
 "nbformat_minor": 5
}
