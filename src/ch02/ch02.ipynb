{
 "cells": [
  {
   "cell_type": "code",
   "execution_count": 1,
   "id": "3c248bb2",
   "metadata": {
    "ExecuteTime": {
     "end_time": "2024-08-20T15:37:19.537317Z",
     "start_time": "2024-08-20T15:37:19.534567Z"
    }
   },
   "outputs": [],
   "source": [
    "import sys\n",
    "sys.path.insert(0, '..')"
   ]
  },
  {
   "cell_type": "markdown",
   "id": "335c9e83",
   "metadata": {},
   "source": [
    "# Chapter 2: The Knapsack Problem"
   ]
  },
  {
   "cell_type": "code",
   "execution_count": 2,
   "id": "b172a64e0fcab530",
   "metadata": {
    "ExecuteTime": {
     "end_time": "2024-08-20T15:37:20.190391Z",
     "start_time": "2024-08-20T15:37:19.542075Z"
    },
    "collapsed": false,
    "jupyter": {
     "outputs_hidden": false
    }
   },
   "outputs": [],
   "source": [
    "from apps.knapsack import solve_knapsack"
   ]
  },
  {
   "cell_type": "markdown",
   "id": "4fd6f86d41de422d",
   "metadata": {
    "collapsed": false,
    "jupyter": {
     "outputs_hidden": false
    }
   },
   "source": [
    "This function has three parameters: a list of item values, a list of item weights, and the maximum weight of selections we are looking for. We define the inputs for our example below:"
   ]
  },
  {
   "cell_type": "code",
   "execution_count": 3,
   "id": "714bcc25a2174236",
   "metadata": {
    "ExecuteTime": {
     "end_time": "2024-08-20T15:37:20.280656Z",
     "start_time": "2024-08-20T15:37:20.279097Z"
    },
    "collapsed": false,
    "jupyter": {
     "outputs_hidden": false
    }
   },
   "outputs": [],
   "source": [
    "values = [2, 3, 1]\n",
    "weights = [3, 2, 1]\n",
    "max_weight = 4"
   ]
  },
  {
   "cell_type": "markdown",
   "id": "b98b08a0af765efb",
   "metadata": {
    "collapsed": false,
    "jupyter": {
     "outputs_hidden": false
    }
   },
   "source": [
    "Let’s perform one function call with these inputs:"
   ]
  },
  {
   "cell_type": "code",
   "execution_count": 4,
   "id": "4b0559dbca2766c5",
   "metadata": {
    "ExecuteTime": {
     "end_time": "2024-08-20T15:37:20.407727Z",
     "start_time": "2024-08-20T15:37:20.288218Z"
    },
    "collapsed": false,
    "jupyter": {
     "outputs_hidden": false
    }
   },
   "outputs": [
    {
     "name": "stdout",
     "output_type": "stream",
     "text": [
      "\n",
      "iteration 0\n",
      "progress ('010', 3, 2)\n",
      "\n",
      "Selection  Value  Binary  Weight  Binary  Magnitude  Direction  Amplitude Bar           \n",
      "----------------------------------------------------------------------------------------\n",
      "000        5      101     4       0100    0.3536        0.00°   \u001b[38;2;246;53;29m████████                \u001b[39m\n",
      "001        7      111     1       0001    0.3536        0.00°   \u001b[38;2;246;54;26m████████                \u001b[39m\n",
      "010        0      000     2       0010    0.3536        0.00°   \u001b[38;2;246;53;29m████████                \u001b[39m\n",
      "011        2      010     15      1111    0.3536        0.00°   \u001b[38;2;246;54;26m████████                \u001b[39m\n",
      "100        6      110     3       0011    0.3536        0.00°   \u001b[38;2;246;54;26m████████                \u001b[39m\n",
      "101        0      000     0       0000    0.3536        0.00°   \u001b[38;2;246;53;29m████████                \u001b[39m\n",
      "110        1      001     1       0001    0.3536        0.00°   \u001b[38;2;246;53;29m████████                \u001b[39m\n",
      "111        3      011     14      1110    0.3536        0.00°   \u001b[38;2;246;54;26m████████                \u001b[39m\n",
      "\n",
      "\n",
      "Looking for values >= 4\n",
      "\n",
      "iteration 0\n",
      "failure ('011', 5, 5)\n",
      "\n",
      "iteration 1\n",
      "progress ('110', 4, 3)\n",
      "\n",
      "Selection  Value  Binary  Weight  Binary  Magnitude  Direction  Amplitude Bar           \n",
      "----------------------------------------------------------------------------------------\n",
      "000        4      100     4       0100    0.1768      180.00°   \u001b[38;2;37;232;234m████                    \u001b[39m\n",
      "001        6      110     1       0001    0.1768      180.00°   \u001b[38;2;37;232;234m████                    \u001b[39m\n",
      "010        7      111     2       0010    0.1768      180.00°   \u001b[38;2;37;232;234m████                    \u001b[39m\n",
      "011        1      001     15      1111    0.1768      180.00°   \u001b[38;2;37;232;234m████                    \u001b[39m\n",
      "100        5      101     3       0011    0.1768      180.00°   \u001b[38;2;37;232;234m████                    \u001b[39m\n",
      "101        7      111     0       0000    0.1768      180.00°   \u001b[38;2;37;232;234m████                    \u001b[39m\n",
      "110        0      000     1       0001    0.8839      180.00°   \u001b[38;2;37;232;234m█████████████████████   \u001b[39m\n",
      "111        2      010     14      1110    0.1768      180.00°   \u001b[38;2;37;232;234m████                    \u001b[39m\n",
      "\n",
      "\n",
      "Looking for values >= 5\n",
      "\n",
      "iteration 0\n",
      "failure ('101', 3, 4)\n",
      "\n",
      "iteration 1\n",
      "failure ('000', 0, 0)\n",
      "\n",
      "iteration 0\n",
      "failure ('111', 6, 6)\n",
      "\n",
      "iteration 1\n",
      "failure ('000', 0, 0)\n",
      "\n",
      "STOPPING WITH OUTCOME RESULTS ('110', 4, 3)\n",
      "Optimal selection consists of items 1, 2. The combined value is 4, and the combined weight is 3.\n"
     ]
    }
   ],
   "source": [
    "solve_knapsack(values, weights, max_weight)"
   ]
  }
 ],
 "metadata": {
  "kernelspec": {
   "display_name": "Python 3 (ipykernel)",
   "language": "python",
   "name": "python3"
  },
  "language_info": {
   "codemirror_mode": {
    "name": "ipython",
    "version": 3
   },
   "file_extension": ".py",
   "mimetype": "text/x-python",
   "name": "python",
   "nbconvert_exporter": "python",
   "pygments_lexer": "ipython3",
   "version": "3.12.4"
  }
 },
 "nbformat": 4,
 "nbformat_minor": 5
}
