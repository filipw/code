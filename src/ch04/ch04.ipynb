{
 "cells": [
  {
   "cell_type": "code",
   "execution_count": null,
   "id": "9ed84014",
   "metadata": {
    "ExecuteTime": {
     "end_time": "2023-11-01T18:42:26.349711Z",
     "start_time": "2023-11-01T18:42:24.974200Z"
    }
   },
   "outputs": [],
   "source": [
    "import sys;\n",
    "sys.path.insert(0, '..')"
   ]
  },
  {
   "cell_type": "markdown",
   "id": "c821cda1",
   "metadata": {},
   "source": [
    "## Chapter 4 Code Snippets and Listings"
   ]
  },
  {
   "cell_type": "markdown",
   "id": "93544c11",
   "metadata": {},
   "source": [
    "### Two-qubit states (section 4.2.1)"
   ]
  },
  {
   "cell_type": "markdown",
   "id": "49fc938b",
   "metadata": {},
   "source": [
    "A two-qubit quantum state can be represented as a list of four complex numbers.\n",
    "We can encode the general form of a two-qubit state using the Python list below:"
   ]
  },
  {
   "cell_type": "code",
   "execution_count": null,
   "id": "561ec404",
   "metadata": {
    "ExecuteTime": {
     "end_time": "2023-11-01T18:42:26.356823Z",
     "start_time": "2023-11-01T18:42:26.352865Z"
    }
   },
   "outputs": [],
   "source": [
    "from math import sqrt, cos, sin\n",
    "\n",
    "[p0, p1, p2, p3] = [1, 0, 0, 0]\n",
    "[theta0, theta1, theta2, theta3] = [0, 0, 0, 0]\n",
    "\n",
    "state = [sqrt(p0) * (cos(theta0) + 1j * sin(theta0)),\n",
    "         sqrt(p1) * (cos(theta1) + 1j * sin(theta1)),\n",
    "         sqrt(p2) * (cos(theta2) + 1j * sin(theta2)),\n",
    "         sqrt(p3) * (cos(theta3) + 1j * sin(theta3))]"
   ]
  },
  {
   "cell_type": "markdown",
   "id": "f1f528ad",
   "metadata": {},
   "source": [
    "We can use the built-in `random` package in Python to generate example probabilities and directions:"
   ]
  },
  {
   "cell_type": "code",
   "execution_count": null,
   "id": "ed2762ec",
   "metadata": {
    "ExecuteTime": {
     "end_time": "2023-11-01T18:42:26.363848Z",
     "start_time": "2023-11-01T18:42:26.357684Z"
    }
   },
   "outputs": [],
   "source": [
    "import random\n",
    "from math import pi\n",
    "\n",
    "random.seed(123456789) # Choose a seed so that we get reproducible results\n",
    "\n",
    "probs = [random.random() for _ in range(4)] # Generate 4 random numbers\n",
    "total = sum(probs)\n",
    "probs = [p/total for p in probs] # Normalize each amplitude so that the probabilities add up to 1\n",
    "\n",
    "angles = [random.uniform(0, 2*pi) for _ in range(4)] # Generate 4 random angles in radians\n",
    "\n",
    "state = [sqrt(p)*(cos(a) + 1j*sin(a)) for (p, a) in zip(probs, angles)] # Build the quantum state list"
   ]
  },
  {
   "cell_type": "code",
   "execution_count": null,
   "id": "c2ad9e95",
   "metadata": {
    "ExecuteTime": {
     "end_time": "2023-11-01T18:42:26.526065Z",
     "start_time": "2023-11-01T18:42:26.363086Z"
    }
   },
   "outputs": [],
   "source": [
    "from util import print_state_table\n",
    "\n",
    "print_state_table(state)"
   ]
  },
  {
   "cell_type": "markdown",
   "id": "903d037b",
   "metadata": {},
   "source": [
    "**Product states: composing a state from two independent single-qubit states**"
   ]
  },
  {
   "cell_type": "markdown",
   "id": "5a0bfab6",
   "metadata": {},
   "source": [
    "Shortcut `cis` function:"
   ]
  },
  {
   "cell_type": "code",
   "execution_count": null,
   "id": "ca0d5892",
   "metadata": {
    "ExecuteTime": {
     "end_time": "2023-11-01T18:42:26.533602Z",
     "start_time": "2023-11-01T18:42:26.529666Z"
    }
   },
   "outputs": [],
   "source": [
    "def cis(theta):\n",
    "    return cos(theta) + 1j*sin(theta)"
   ]
  },
  {
   "cell_type": "markdown",
   "id": "ed2da765",
   "metadata": {},
   "source": [
    "The first state has probability $p = 0.75$ for outcome 0, and directions $\\theta_0 = 0^\\circ$ and $\\theta_1 = 60^\\circ$:"
   ]
  },
  {
   "cell_type": "code",
   "execution_count": null,
   "id": "cb957766",
   "metadata": {
    "ExecuteTime": {
     "end_time": "2023-11-01T18:42:26.540578Z",
     "start_time": "2023-11-01T18:42:26.534649Z"
    }
   },
   "outputs": [],
   "source": [
    "p = 0.75\n",
    "theta0 = 0\n",
    "theta1 = 60/(180/pi) # Convert to radians\n",
    "first_state = [sqrt(p)*cis(theta0), sqrt(1-p)*cis(theta1)]\n",
    "print([round(amp.real, 5)+1j*round(amp.imag, 5) for amp in first_state])"
   ]
  },
  {
   "cell_type": "markdown",
   "id": "249684f9",
   "metadata": {},
   "source": [
    "The second state has $q = 0.5$ as the probability for outcome 0, and directions $\\phi_0 = 0^\\circ$ and $\\phi_1 = -120^\\circ$:"
   ]
  },
  {
   "cell_type": "code",
   "execution_count": null,
   "id": "21097c7f",
   "metadata": {
    "ExecuteTime": {
     "end_time": "2023-11-01T18:42:26.544459Z",
     "start_time": "2023-11-01T18:42:26.539074Z"
    }
   },
   "outputs": [],
   "source": [
    "q = 0.5\n",
    "phi0 = 0\n",
    "phi1 = -120/(180/pi)\n",
    "second_state = [sqrt(q)*cis(phi0), sqrt(1-q)*cis(phi1)]\n",
    "print([round(amp.real, 5)+1j*round(amp.imag, 5) for amp in second_state])"
   ]
  },
  {
   "cell_type": "markdown",
   "id": "3b3bbac4",
   "metadata": {},
   "source": [
    "Product state:"
   ]
  },
  {
   "cell_type": "code",
   "execution_count": null,
   "id": "58b2cb87",
   "metadata": {
    "ExecuteTime": {
     "end_time": "2023-11-01T18:42:26.571250Z",
     "start_time": "2023-11-01T18:42:26.543081Z"
    }
   },
   "outputs": [],
   "source": [
    "new_state = [sqrt(p*q)*cis(theta0 + phi0),\n",
    "                sqrt(p*(1-q))*cis(theta0 + phi1),\n",
    "                sqrt((1-p)*q)*cis(theta1 + phi0),\n",
    "                sqrt((1-p)*(1-q))*cis(theta1 + phi1)]"
   ]
  },
  {
   "cell_type": "markdown",
   "id": "83154b81",
   "metadata": {},
   "source": [
    "If we create a two-qubit state from these two single-qubit states, the new amplitudes will be all the possible products of the two pairs of amplitudes:"
   ]
  },
  {
   "cell_type": "code",
   "execution_count": null,
   "id": "e7ccb39e",
   "metadata": {
    "ExecuteTime": {
     "end_time": "2023-11-01T18:42:26.589340Z",
     "start_time": "2023-11-01T18:42:26.550685Z"
    }
   },
   "outputs": [],
   "source": [
    "new_state = [first_state[0]*second_state[0], first_state[0]*second_state[1],\n",
    "             first_state[1]*second_state[0], first_state[1]*second_state[1]]\n",
    "print([round(amp.real, 5)+1j*round(amp.imag, 5) for amp in new_state])"
   ]
  },
  {
   "cell_type": "markdown",
   "id": "017fee78",
   "metadata": {},
   "source": [
    "Alternate definition:"
   ]
  },
  {
   "cell_type": "code",
   "execution_count": null,
   "id": "bd2c1ef1",
   "metadata": {
    "ExecuteTime": {
     "end_time": "2023-11-01T18:42:26.589731Z",
     "start_time": "2023-11-01T18:42:26.554633Z"
    }
   },
   "outputs": [],
   "source": [
    "new_state = [sqrt(p*q)*cis(theta0 + phi0), sqrt(p*(1-q))*cis(theta0 + phi1),\n",
    "            sqrt((1-p)*q)*cis(theta1 + phi0), sqrt((1-p)*(1-q))*cis(theta1 + phi1)]\n",
    "print([round(amp.real, 5)+1j*round(amp.imag, 5) for amp in new_state])"
   ]
  },
  {
   "cell_type": "markdown",
   "id": "b48e2fd3",
   "metadata": {},
   "source": [
    "**Examples of non-product states: Bell states**"
   ]
  },
  {
   "cell_type": "code",
   "execution_count": null,
   "id": "9bf57bb2",
   "metadata": {
    "ExecuteTime": {
     "end_time": "2023-11-01T18:42:26.687028Z",
     "start_time": "2023-11-01T18:42:26.557369Z"
    }
   },
   "outputs": [],
   "source": [
    "bell_state1 = [sqrt(0.5), 0.0, 0.0, sqrt(0.5)]\n",
    "\n",
    "bell_state2 = [sqrt(0.5), 0.0, 0.0, -sqrt(0.5)]"
   ]
  },
  {
   "cell_type": "code",
   "execution_count": null,
   "id": "f9b34e3e",
   "metadata": {
    "ExecuteTime": {
     "end_time": "2023-11-01T18:42:26.816335Z",
     "start_time": "2023-11-01T18:42:26.685918Z"
    }
   },
   "outputs": [],
   "source": [
    "print_state_table(bell_state1)"
   ]
  },
  {
   "cell_type": "code",
   "execution_count": null,
   "id": "50ce84a9",
   "metadata": {
    "ExecuteTime": {
     "end_time": "2023-11-01T18:42:26.820130Z",
     "start_time": "2023-11-01T18:42:26.814605Z"
    }
   },
   "outputs": [],
   "source": [
    "print_state_table(bell_state2)"
   ]
  },
  {
   "cell_type": "code",
   "execution_count": null,
   "id": "f1570190",
   "metadata": {
    "ExecuteTime": {
     "end_time": "2023-11-01T18:42:26.981762Z",
     "start_time": "2023-11-01T18:42:26.862219Z"
    }
   },
   "outputs": [],
   "source": [
    "bell_state3 = [0.0, sqrt(0.5), sqrt(0.5), 0.0]\n",
    "\n",
    "bell_state4 = [0.0, sqrt(0.5), -sqrt(0.5), 0.0]"
   ]
  },
  {
   "cell_type": "code",
   "execution_count": null,
   "id": "a8651486",
   "metadata": {
    "ExecuteTime": {
     "end_time": "2023-11-01T18:42:27.109345Z",
     "start_time": "2023-11-01T18:42:26.983880Z"
    }
   },
   "outputs": [],
   "source": [
    "print_state_table(bell_state3)"
   ]
  },
  {
   "cell_type": "code",
   "execution_count": null,
   "id": "7d528e2b",
   "metadata": {
    "ExecuteTime": {
     "end_time": "2023-11-01T18:20:20.827819Z",
     "start_time": "2023-11-01T18:20:20.701067Z"
    }
   },
   "outputs": [],
   "source": [
    "print_state_table(bell_state4)"
   ]
  },
  {
   "cell_type": "markdown",
   "id": "46b4c796",
   "metadata": {
    "ExecuteTime": {
     "end_time": "2023-11-01T18:42:27.124110Z",
     "start_time": "2023-11-01T18:42:27.110404Z"
    }
   },
   "source": [
    "### Two-qubit states (section 4.2.2)"
   ]
  },
  {
   "cell_type": "markdown",
   "id": "b2f2baef",
   "metadata": {},
   "source": [
    "Let's define a state with the following eight complex numbers:"
   ]
  },
  {
   "cell_type": "code",
   "execution_count": null,
   "id": "f6ad9000",
   "metadata": {
    "ExecuteTime": {
     "end_time": "2023-11-01T18:20:20.836335Z",
     "start_time": "2023-11-01T18:20:20.826506Z"
    }
   },
   "outputs": [],
   "source": [
    "comp_num_list = [(0.09858+0.03637j), (0.07478+0.06912j), (0.04852+0.10526j),\n",
    "         (0.00641+0.16322j), (-0.12895+0.34953j), (0.58403-0.6318j),\n",
    "         (0.18795-0.08665j), (0.12867-0.00506j)]"
   ]
  },
  {
   "cell_type": "markdown",
   "id": "d90c89ae",
   "metadata": {
    "ExecuteTime": {
     "end_time": "2023-11-01T18:42:27.124311Z",
     "start_time": "2023-11-01T18:42:27.114507Z"
    }
   },
   "source": [
    "Listing 4.1 Function used to check if a list is a valid quantum state"
   ]
  },
  {
   "cell_type": "code",
   "execution_count": null,
   "id": "6433a976",
   "metadata": {
    "ExecuteTime": {
     "end_time": "2023-11-01T18:42:27.124379Z",
     "start_time": "2023-11-01T18:42:27.117724Z"
    }
   },
   "outputs": [],
   "source": [
    "from math import log2, ceil, floor\n",
    "from util import is_close\n",
    "\n",
    "def is_power_of_two(m):\n",
    "    return ceil(log2(m)) == floor(log2(m))\n",
    "\n",
    "def prepare_state(*a):\n",
    "    state = [a[k] for k in range(len(a))]\n",
    "    assert (is_power_of_two(len(state)))  # Check that the length of the list is a power of two\n",
    "    # Check that the squared magnitudes add up to one\n",
    "    assert (is_close(sum([abs(state[k]) ** 2 for k in range(len(state))]), 1.0))\n",
    "    return state  # If the conditions are met, we return the state"
   ]
  },
  {
   "cell_type": "code",
   "execution_count": null,
   "id": "727a56d7",
   "metadata": {
    "ExecuteTime": {
     "end_time": "2023-11-01T18:42:27.137781Z",
     "start_time": "2023-11-01T18:42:27.121604Z"
    }
   },
   "outputs": [],
   "source": [
    "state = prepare_state(*comp_num_list)"
   ]
  },
  {
   "cell_type": "markdown",
   "id": "f2f0cd7b",
   "metadata": {},
   "source": [
    "**Building state tables with Python list comprehensions**"
   ]
  },
  {
   "cell_type": "markdown",
   "id": "d9c1e972",
   "metadata": {},
   "source": [
    "List comprehension for outcomes and corresponding probabilities:"
   ]
  },
  {
   "cell_type": "code",
   "execution_count": null,
   "id": "981fc995",
   "metadata": {
    "ExecuteTime": {
     "end_time": "2023-11-01T18:42:27.138699Z",
     "start_time": "2023-11-01T18:42:27.126610Z"
    }
   },
   "outputs": [],
   "source": [
    "print([[k, state[k]] for k in range(len(state))])"
   ]
  },
  {
   "cell_type": "markdown",
   "id": "0e9d7ea3",
   "metadata": {},
   "source": [
    "We can use the following list comprehension to add probabilities with direction, derived from amplitudes:"
   ]
  },
  {
   "cell_type": "code",
   "execution_count": null,
   "id": "29eb1ae6",
   "metadata": {
    "ExecuteTime": {
     "end_time": "2023-11-01T18:42:27.169111Z",
     "start_time": "2023-11-01T18:42:27.130956Z"
    }
   },
   "outputs": [],
   "source": [
    "from math import atan2\n",
    "\n",
    "table1 = [\n",
    "    [k, round(atan2(state[k].imag, state[k].real) / (2 * pi) * 360, 5),\n",
    "     round(abs(state[k]) ** 2, 5)] for k in range(len(state))]\n",
    "\n",
    "for row in table1:\n",
    "    print(row)"
   ]
  },
  {
   "cell_type": "markdown",
   "id": "d87725c2",
   "metadata": {},
   "source": [
    "We can build an expanded version of the state table that includes the direction and magnitude of amplitudes, as well as the probability of the outcomes:"
   ]
  },
  {
   "cell_type": "code",
   "execution_count": null,
   "id": "f9b7a408",
   "metadata": {
    "ExecuteTime": {
     "end_time": "2023-11-01T18:42:27.171263Z",
     "start_time": "2023-11-01T18:42:27.135734Z"
    }
   },
   "outputs": [],
   "source": [
    "expanded_table = [[k, state[k], round(\n",
    "    atan2(state[k].imag, state[k].real) / (2 * pi) * 360, 5),\n",
    "                   round(abs(state[k]), 5), round(abs(state[k]) ** 2, 5)]\n",
    "                  for k in range(len(state))]\n",
    "\n",
    "for row in expanded_table:\n",
    "    print(row)"
   ]
  },
  {
   "cell_type": "markdown",
   "id": "fade218f",
   "metadata": {},
   "source": [
    "We can use the following list comprehension to get amplitudes from directions and probabilities:"
   ]
  },
  {
   "cell_type": "code",
   "execution_count": null,
   "id": "77bdc2f5",
   "metadata": {
    "ExecuteTime": {
     "end_time": "2023-11-01T18:42:27.381941Z",
     "start_time": "2023-11-01T18:42:27.145718Z"
    }
   },
   "outputs": [],
   "source": [
    "table2 = [[row[0], (\n",
    "            round(sqrt(row[2]) * cos(row[1] / (180 / pi)), 5) + round(\n",
    "        sqrt(row[2]) * sin(row[1] / (180 / pi)), 5) * 1j)] for row in\n",
    "          table1]\n",
    "\n",
    "for row in table2:\n",
    "    print(row)"
   ]
  },
  {
   "cell_type": "code",
   "execution_count": null,
   "id": "1f9c0f8d",
   "metadata": {
    "ExecuteTime": {
     "end_time": "2023-11-01T18:20:21.094416Z",
     "start_time": "2023-11-01T18:20:20.853680Z"
    }
   },
   "outputs": [],
   "source": [
    "print_state_table(state)"
   ]
  },
  {
   "cell_type": "markdown",
   "id": "fb02c5f0",
   "metadata": {},
   "source": [
    "### Simulating multi-qubit states in Python (section 4.2.3)"
   ]
  },
  {
   "cell_type": "markdown",
   "id": "49119c21",
   "metadata": {
    "ExecuteTime": {
     "end_time": "2023-11-01T18:42:27.386613Z",
     "start_time": "2023-11-01T18:42:27.380461Z"
    }
   },
   "source": [
    "Listing 4.2 Function to create a default quantum state"
   ]
  },
  {
   "cell_type": "code",
   "execution_count": null,
   "id": "c8918a10",
   "metadata": {
    "ExecuteTime": {
     "end_time": "2023-11-01T18:42:27.388722Z",
     "start_time": "2023-11-01T18:42:27.384207Z"
    }
   },
   "outputs": [],
   "source": [
    "def init_state(n):\n",
    "    state = [0 for _ in range(2 ** n)] # Given n qubits, the state will contain 2^n complex numbers\n",
    "    state[0] = 1 # The amplitude corresponding to outcome 0 (the first amplitude in the list) will have a value of 1\n",
    "    return state"
   ]
  },
  {
   "cell_type": "markdown",
   "id": "e24c2769",
   "metadata": {},
   "source": [
    "Initialize a two-qubit state:"
   ]
  },
  {
   "cell_type": "code",
   "execution_count": null,
   "id": "2c4b2a0d",
   "metadata": {
    "ExecuteTime": {
     "end_time": "2023-11-01T18:20:21.101910Z",
     "start_time": "2023-11-01T18:20:21.095544Z"
    }
   },
   "outputs": [],
   "source": [
    "state = init_state(2)\n",
    "state"
   ]
  },
  {
   "cell_type": "markdown",
   "id": "29fdc282",
   "metadata": {},
   "source": [
    "### Pair selection in Python (section 4.3.2)"
   ]
  },
  {
   "cell_type": "markdown",
   "id": "ef5fc4be",
   "metadata": {
    "ExecuteTime": {
     "end_time": "2023-11-01T18:42:27.392878Z",
     "start_time": "2023-11-01T18:42:27.388334Z"
    }
   },
   "source": [
    "Listing 4.3 Traverse by chunk method selecting pairs"
   ]
  },
  {
   "cell_type": "code",
   "execution_count": null,
   "id": "988535b2",
   "metadata": {
    "ExecuteTime": {
     "end_time": "2023-11-01T18:42:27.439281Z",
     "start_time": "2023-11-01T18:42:27.403413Z"
    }
   },
   "outputs": [],
   "source": [
    "def pair_generator_pattern(n, t):\n",
    "    distance = int(2 ** t) # Distance is the size of each chunk\n",
    "\n",
    "    for j in range(2**(n-t-1)):\n",
    "        for k0 in range(2*j*distance, (2*j+1)*distance): # Get the 0-side of each pair\n",
    "            k1 = k0 + distance # Get the 1-side of the pair by adding the distance (2^t)\n",
    "            yield k0, k1"
   ]
  },
  {
   "cell_type": "markdown",
   "id": "71c042e4",
   "metadata": {},
   "source": [
    "Example of generate the pairs using this method for three qubits (`n = 3`) and target qubit 0 (`t = 0`):"
   ]
  },
  {
   "cell_type": "code",
   "execution_count": null,
   "id": "bc6f4797",
   "metadata": {
    "ExecuteTime": {
     "end_time": "2023-11-01T18:20:21.152313Z",
     "start_time": "2023-11-01T18:20:21.115773Z"
    }
   },
   "outputs": [],
   "source": [
    "for (k0, k1) in pair_generator_pattern(3, 0):\n",
    "    print(k0, k1)"
   ]
  },
  {
   "cell_type": "markdown",
   "id": "89e9ad78",
   "metadata": {},
   "source": [
    "### Simulating amplitude changes (section 4.3.3)"
   ]
  },
  {
   "cell_type": "markdown",
   "id": "ffb33aec",
   "metadata": {
    "ExecuteTime": {
     "end_time": "2023-11-01T18:42:27.439946Z",
     "start_time": "2023-11-01T18:42:27.415226Z"
    }
   },
   "source": [
    "Listing 4.4 Functions for simulating a gate transformation on a multi-qubit state"
   ]
  },
  {
   "cell_type": "code",
   "execution_count": null,
   "id": "531b3aa9",
   "metadata": {
    "ExecuteTime": {
     "end_time": "2023-11-01T18:42:27.440014Z",
     "start_time": "2023-11-01T18:42:27.417873Z"
    }
   },
   "outputs": [],
   "source": [
    "def process_pair(state, gate, k0, k1):\n",
    "    x = state[k0] # Get the original amplitudes of the pair\n",
    "    y = state[k1]\n",
    "    # Compute the amplitudes given the gate definition and replace the old amplitudes in the state list\n",
    "    state[k0] = x * gate[0][0] + y * gate[0][1]\n",
    "    state[k1] = x * gate[1][0] + y * gate[1][1]\n",
    "\n",
    "def transform(state, t, gate):\n",
    "    n = int(log2(len(state))) # Get the number of qubits in the state\n",
    "    # Call pair_generator which returns pairs as tuples given a number of qubits (n) and target qubit (t)\n",
    "    for (k0, k1) in pair_generator(n, t):\n",
    "        process_pair(state, gate, k0, k1) # For each pair, call process_pair to compute the new amplitudes"
   ]
  },
  {
   "cell_type": "code",
   "execution_count": null,
   "id": "f1b8d543",
   "metadata": {
    "ExecuteTime": {
     "end_time": "2023-11-01T18:42:27.440434Z",
     "start_time": "2023-11-01T18:42:27.421311Z"
    }
   },
   "outputs": [],
   "source": [
    "pair_generator = pair_generator_pattern"
   ]
  },
  {
   "cell_type": "markdown",
   "id": "3cd11ce5",
   "metadata": {},
   "source": [
    "Example state:"
   ]
  },
  {
   "cell_type": "code",
   "execution_count": null,
   "id": "87dfee49",
   "metadata": {
    "ExecuteTime": {
     "end_time": "2023-11-01T18:42:27.440706Z",
     "start_time": "2023-11-01T18:42:27.423829Z"
    }
   },
   "outputs": [],
   "source": [
    "state = [(0.09858+0.03637j), (0.07478+0.06912j), (0.04852+0.10526j),\n",
    "         (0.00641+0.16322j), (-0.12895+0.34953j), (0.58403-0.6318j),\n",
    "         (0.18795-0.08665j), (0.12867-0.00506j)]"
   ]
  },
  {
   "cell_type": "markdown",
   "id": "16b62e3f",
   "metadata": {},
   "source": [
    "Apply an X-gate to target qubit 0:"
   ]
  },
  {
   "cell_type": "code",
   "execution_count": null,
   "id": "8bf2c062",
   "metadata": {
    "ExecuteTime": {
     "end_time": "2023-11-01T18:20:21.153831Z",
     "start_time": "2023-11-01T18:20:21.136375Z"
    }
   },
   "outputs": [],
   "source": [
    "from sim_gates import *\n",
    "\n",
    "transform(state, 0, x)\n",
    "state"
   ]
  },
  {
   "cell_type": "markdown",
   "id": "4274e6da",
   "metadata": {
    "ExecuteTime": {
     "end_time": "2023-11-01T18:42:27.440821Z",
     "start_time": "2023-11-01T18:42:27.428842Z"
    }
   },
   "source": [
    "### Encoding a uniform distribution in a multi-qubit quantum system (section 4.3.4)"
   ]
  },
  {
   "cell_type": "markdown",
   "id": "54370d95",
   "metadata": {},
   "source": [
    "First, we initialize a three-qubit state:"
   ]
  },
  {
   "cell_type": "code",
   "execution_count": null,
   "id": "1ee1eec0",
   "metadata": {
    "ExecuteTime": {
     "end_time": "2023-11-01T18:42:27.441262Z",
     "start_time": "2023-11-01T18:42:27.431937Z"
    }
   },
   "outputs": [],
   "source": [
    "state = init_state(3)"
   ]
  },
  {
   "cell_type": "code",
   "execution_count": null,
   "id": "f13f1e04",
   "metadata": {
    "ExecuteTime": {
     "end_time": "2023-11-01T18:42:27.441966Z",
     "start_time": "2023-11-01T18:42:27.435750Z"
    }
   },
   "outputs": [],
   "source": [
    "print(state)"
   ]
  },
  {
   "cell_type": "markdown",
   "id": "7de34b2b",
   "metadata": {},
   "source": [
    "Apply a Hadamard gate to target qubit 0:"
   ]
  },
  {
   "cell_type": "code",
   "execution_count": null,
   "id": "86a96993",
   "metadata": {
    "ExecuteTime": {
     "end_time": "2023-11-01T18:42:27.495179Z",
     "start_time": "2023-11-01T18:42:27.439709Z"
    }
   },
   "outputs": [],
   "source": [
    "transform(state, 0, h)\n",
    "print(state)"
   ]
  },
  {
   "cell_type": "markdown",
   "id": "0aa3f813",
   "metadata": {},
   "source": [
    "Apply a Hadamard gate to target qubit 1:"
   ]
  },
  {
   "cell_type": "code",
   "execution_count": null,
   "id": "2ea6d0e4",
   "metadata": {
    "ExecuteTime": {
     "end_time": "2023-11-01T18:42:27.495971Z",
     "start_time": "2023-11-01T18:42:27.443776Z"
    }
   },
   "outputs": [],
   "source": [
    "state = init_state(3)\n",
    "transform(state, 1, h)\n",
    "print(state)"
   ]
  },
  {
   "cell_type": "markdown",
   "id": "7a4124c2",
   "metadata": {},
   "source": [
    "Apply a Hadamard gate to each qubit:"
   ]
  },
  {
   "cell_type": "code",
   "execution_count": null,
   "id": "bf890817",
   "metadata": {
    "ExecuteTime": {
     "end_time": "2023-11-01T18:42:27.677539Z",
     "start_time": "2023-11-01T18:42:27.447715Z"
    }
   },
   "outputs": [],
   "source": [
    "state = init_state(3)\n",
    "transform(state, 0, h)\n",
    "transform(state, 1, h)\n",
    "transform(state, 2, h)\n",
    "print(state)"
   ]
  },
  {
   "cell_type": "markdown",
   "id": "b82460fd",
   "metadata": {},
   "source": [
    "Applying a Hadamard gate to each qubit creates a state where each outcome has an equal probability.\n",
    "Thus, the state will have a uniform probability distribution."
   ]
  },
  {
   "cell_type": "code",
   "execution_count": null,
   "id": "0a1f1ed1",
   "metadata": {
    "ExecuteTime": {
     "end_time": "2023-11-01T18:20:21.387527Z",
     "start_time": "2023-11-01T18:20:21.161266Z"
    }
   },
   "outputs": [],
   "source": [
    "print_state_table(state)"
   ]
  },
  {
   "cell_type": "markdown",
   "id": "34f091d4",
   "metadata": {},
   "source": [
    "### Simulating controlled gates in Python (section 4.4.1)"
   ]
  },
  {
   "cell_type": "markdown",
   "id": "39d244fa",
   "metadata": {
    "ExecuteTime": {
     "end_time": "2023-11-01T18:42:27.680700Z",
     "start_time": "2023-11-01T18:42:27.677797Z"
    }
   },
   "source": [
    "Listing 4.5 Function for applying controlled gate transformations to a state"
   ]
  },
  {
   "cell_type": "code",
   "execution_count": null,
   "id": "5ddba81a",
   "metadata": {
    "ExecuteTime": {
     "end_time": "2023-11-01T18:42:27.688283Z",
     "start_time": "2023-11-01T18:42:27.681049Z"
    }
   },
   "outputs": [],
   "source": [
    "def is_bit_set(m, k):\n",
    "    return m & (1 << k)\n",
    "\n",
    "def c_transform(state, c, t, gate):\n",
    "    n = int(log2(len(state)))\n",
    "    # same pair generation function as for regular transforms with a filter to check if the control position is 1\n",
    "    for (k0, k1) in filter(lambda p: is_bit_set(p[0], c), pair_generator(n, t)):\n",
    "        # Once we get the right subset of pairs, we recombine the amplitudes according to the gate\n",
    "        process_pair(state, gate, k0, k1)"
   ]
  },
  {
   "cell_type": "markdown",
   "id": "d6ffa178",
   "metadata": {},
   "source": [
    "Example state:"
   ]
  },
  {
   "cell_type": "code",
   "execution_count": null,
   "id": "d4c28a68",
   "metadata": {
    "ExecuteTime": {
     "end_time": "2023-11-01T18:42:27.688577Z",
     "start_time": "2023-11-01T18:42:27.684272Z"
    }
   },
   "outputs": [],
   "source": [
    "state = [(0.09858+0.03637j), (0.07478+0.06912j), (0.04852+0.10526j),\n",
    "         (0.00641+0.16322j), (-0.12895+0.34953j), (0.58403-0.6318j),\n",
    "         (0.18795-0.08665j), (0.12867-0.00506j)]"
   ]
  },
  {
   "cell_type": "markdown",
   "id": "e3be4abf",
   "metadata": {},
   "source": [
    "Apply a controlled X-gate to target qubit 2 with control qubit 1:"
   ]
  },
  {
   "cell_type": "code",
   "execution_count": null,
   "id": "ed6244bc",
   "metadata": {
    "ExecuteTime": {
     "end_time": "2023-11-01T18:20:21.400519Z",
     "start_time": "2023-11-01T18:20:21.394273Z"
    }
   },
   "outputs": [],
   "source": [
    "c_transform(state, 1, 2, x)\n",
    "print(state)"
   ]
  },
  {
   "cell_type": "markdown",
   "id": "1e96cbf1",
   "metadata": {},
   "source": [
    "### Simulating multi-control gates in Python (section 4.4.2)"
   ]
  },
  {
   "cell_type": "markdown",
   "id": "14061bef",
   "metadata": {
    "ExecuteTime": {
     "end_time": "2023-11-01T18:42:27.700659Z",
     "start_time": "2023-11-01T18:42:27.688895Z"
    }
   },
   "source": [
    "Listing 4.8 Function for applying multi-controlled gate transformations to a state"
   ]
  },
  {
   "cell_type": "code",
   "execution_count": null,
   "id": "6385d0a9",
   "metadata": {
    "ExecuteTime": {
     "end_time": "2023-11-01T18:42:27.700878Z",
     "start_time": "2023-11-01T18:42:27.692235Z"
    }
   },
   "outputs": [],
   "source": [
    "def mc_transform(state, cs, t, gate):\n",
    "    assert not t in cs # The target qubit cannot be the same as the control qubits\n",
    "    n = int(log2(len(state)))\n",
    "    # Check that the pairs have 1 in all the control qubit positions\n",
    "    for (k0, k1) in filter(lambda p: all([is_bit_set(p[0], c) for c in cs]), pair_generator(n, t)):\n",
    "        process_pair(state, gate, k0, k1) # Recombine the amplitudes of the selected pairs"
   ]
  },
  {
   "cell_type": "markdown",
   "id": "1a6edc7b",
   "metadata": {},
   "source": [
    "Example state:"
   ]
  },
  {
   "cell_type": "code",
   "execution_count": null,
   "id": "93c40050",
   "metadata": {
    "ExecuteTime": {
     "end_time": "2023-11-01T18:42:27.727643Z",
     "start_time": "2023-11-01T18:42:27.695697Z"
    }
   },
   "outputs": [],
   "source": [
    "state = [(0.09858+0.03637j), (0.07478+0.06912j), (0.04852+0.10526j),\n",
    "         (0.00641+0.16322j), (-0.12895+0.34953j), (0.58403-0.6318j),\n",
    "         (0.18795-0.08665j), (0.12867-0.00506j)]"
   ]
  },
  {
   "cell_type": "markdown",
   "id": "fe5f39ab",
   "metadata": {},
   "source": [
    "If we apply a controlled transformation with two control qubits to a three-qubit state, there will be only one pair.\n",
    "For example, if the target qubit is 0, and the control qubits are 1 and 2, the pair selected will be '110' and '111' (outcomes 6 and 7).\n"
   ]
  },
  {
   "cell_type": "code",
   "execution_count": null,
   "id": "01846bb9",
   "metadata": {
    "ExecuteTime": {
     "end_time": "2023-11-01T18:20:21.441628Z",
     "start_time": "2023-11-01T18:20:21.405662Z"
    }
   },
   "outputs": [],
   "source": [
    "mc_transform(state, [1, 2], 0, x)\n",
    "print(state)"
   ]
  },
  {
   "cell_type": "markdown",
   "id": "11be7854",
   "metadata": {},
   "source": [
    "### Simulating measurement of multi-qubit states (section 4.5.1)"
   ]
  },
  {
   "cell_type": "markdown",
   "id": "08d58db1",
   "metadata": {
    "ExecuteTime": {
     "end_time": "2023-11-01T18:42:27.731292Z",
     "start_time": "2023-11-01T18:42:27.699992Z"
    }
   },
   "source": [
    "Listing 4.7 Function for simulating measurement of a quantum state"
   ]
  },
  {
   "cell_type": "code",
   "execution_count": null,
   "id": "a4f12cc0",
   "metadata": {
    "ExecuteTime": {
     "end_time": "2023-11-01T18:42:27.731821Z",
     "start_time": "2023-11-01T18:42:27.702792Z"
    }
   },
   "outputs": [],
   "source": [
    "from random import choices\n",
    "from collections import Counter\n",
    "\n",
    "def measure(state, shots):\n",
    "    samples = choices(range(len(state)), [abs(state[k])**2 for k in range(len(state))], k=shots)\n",
    "    counts = {}\n",
    "    for (k, v) in Counter(samples).items():\n",
    "        counts[k] = v\n",
    "    return counts"
   ]
  },
  {
   "cell_type": "markdown",
   "id": "6a689df9",
   "metadata": {},
   "source": [
    "Example state:"
   ]
  },
  {
   "cell_type": "code",
   "execution_count": null,
   "id": "b190aab9",
   "metadata": {
    "ExecuteTime": {
     "end_time": "2023-11-01T18:42:27.731953Z",
     "start_time": "2023-11-01T18:42:27.707321Z"
    }
   },
   "outputs": [],
   "source": [
    "state = [(0.09858+0.03637j), (0.07478+0.06912j), (0.04852+0.10526j),\n",
    "         (0.00641+0.16322j), (-0.12895+0.34953j), (0.58403-0.6318j),\n",
    "         (0.18795-0.08665j), (0.12867-0.00506j)]"
   ]
  },
  {
   "cell_type": "code",
   "execution_count": null,
   "id": "f9971afb",
   "metadata": {
    "ExecuteTime": {
     "end_time": "2023-11-01T18:42:27.732544Z",
     "start_time": "2023-11-01T18:42:27.711951Z"
    }
   },
   "outputs": [],
   "source": [
    "probabilities = [[k, abs(state[k])**2] for k in range(len(state))]\n",
    "\n",
    "for i in probabilities:\n",
    "    print(\"probability of outcome\", i[0], \": \", round(i[1], 3))"
   ]
  },
  {
   "cell_type": "markdown",
   "id": "ab95a514",
   "metadata": {},
   "source": [
    "Let's simulate the outcomes of 100 executions of the computation which creates our example state:"
   ]
  },
  {
   "cell_type": "code",
   "execution_count": null,
   "id": "2e8a2633",
   "metadata": {
    "ExecuteTime": {
     "end_time": "2023-11-01T18:20:21.442870Z",
     "start_time": "2023-11-01T18:20:21.419418Z"
    }
   },
   "outputs": [],
   "source": [
    "samples = measure(state, 100)\n",
    "print(samples)"
   ]
  },
  {
   "cell_type": "markdown",
   "id": "270f4058",
   "metadata": {},
   "source": [
    "### Quantum registers and circuits in code (section 4.5.2)"
   ]
  },
  {
   "cell_type": "markdown",
   "id": "60aa0780",
   "metadata": {
    "ExecuteTime": {
     "end_time": "2023-11-01T18:42:27.732694Z",
     "start_time": "2023-11-01T18:42:27.718333Z"
    }
   },
   "source": [
    "Listing 4.8 The quantum register class"
   ]
  },
  {
   "cell_type": "code",
   "execution_count": null,
   "id": "17642e7e",
   "metadata": {
    "ExecuteTime": {
     "end_time": "2023-11-01T18:20:21.442950Z",
     "start_time": "2023-11-01T18:20:21.426759Z"
    }
   },
   "outputs": [],
   "source": [
    "class QuantumRegister:\n",
    "    def __init__(self, size, shift=0):\n",
    "        self.size = size\n",
    "        self.shift = shift\n",
    "\n",
    "    def __getitem__(self, key):\n",
    "        if isinstance(key, slice):\n",
    "            return [self[ii] for ii in range(*key.indices(len(self)))]\n",
    "        elif isinstance(key, int):\n",
    "            if key < 0:\n",
    "                key += len(self)\n",
    "            assert(0 <= key < self.size)\n",
    "            return self.shift + key\n",
    "\n",
    "    def __len__(self):\n",
    "        return self.size\n",
    "\n",
    "    def __iter__(self):\n",
    "        return list([self.shift + i for i in range(self.size)])\n",
    "\n",
    "    def __reversed__(self):\n",
    "        return list([self.shift + i for i in range(self.size)[::-1]])"
   ]
  },
  {
   "cell_type": "markdown",
   "id": "720741fc",
   "metadata": {
    "ExecuteTime": {
     "end_time": "2023-11-01T18:42:27.732755Z",
     "start_time": "2023-11-01T18:42:27.721470Z"
    }
   },
   "source": [
    "Listing 4.9 The quantum transformation class"
   ]
  },
  {
   "cell_type": "code",
   "execution_count": null,
   "id": "b359eddc",
   "metadata": {
    "ExecuteTime": {
     "end_time": "2023-11-01T18:20:21.443002Z",
     "start_time": "2023-11-01T18:20:21.429947Z"
    }
   },
   "outputs": [],
   "source": [
    "class QuantumTransformation:\n",
    "    def __init__(self, gate, target, controls=[], name=None, arg=None):\n",
    "        self.gate = gate\n",
    "        self.target = target\n",
    "        self.controls = controls\n",
    "        self.name = name\n",
    "        self.arg = arg"
   ]
  },
  {
   "cell_type": "markdown",
   "id": "cec0c289",
   "metadata": {
    "ExecuteTime": {
     "end_time": "2023-11-01T18:42:27.745081Z",
     "start_time": "2023-11-01T18:42:27.728624Z"
    }
   },
   "source": [
    "Listing 4.10 Partial implementation of the quantum circuit class"
   ]
  },
  {
   "cell_type": "code",
   "execution_count": null,
   "id": "5d76730e",
   "metadata": {
    "ExecuteTime": {
     "end_time": "2023-11-01T18:42:27.776773Z",
     "start_time": "2023-11-01T18:42:27.731989Z"
    }
   },
   "outputs": [],
   "source": [
    "class QuantumCircuit:\n",
    "    def __init__(self, *args):\n",
    "        bits = 0\n",
    "        regs = []\n",
    "        for register in args:\n",
    "            register.shift = bits\n",
    "            bits += register.size\n",
    "            regs.append(register.size)\n",
    "\n",
    "        self.state = init_state(bits)\n",
    "        self.transformations = []\n",
    "        self.regs = regs\n",
    "        self.reports = {}\n",
    "\n",
    "    def initialize(self, state):\n",
    "        self.state = state\n",
    "\n",
    "    def x(self, t):\n",
    "        self.transformations.append(QuantumTransformation(x, t, [], 'x'))\n",
    "\n",
    "    def h(self, t):\n",
    "        self.transformations.append(QuantumTransformation(h, t, [], 'h'))\n",
    "\n",
    "    def ry(self, theta, t):\n",
    "        self.transformations.append(QuantumTransformation(ry(theta), t, [], 'ry', theta))\n",
    "\n",
    "    def cx(self, c, t):\n",
    "        self.transformations.append(QuantumTransformation(x, t, [c], 'x'))\n",
    "\n",
    "    def mcx(self, cs, t):\n",
    "        self.transformations.append(QuantumTransformation(x, t, cs, 'x'))\n",
    "\n",
    "    def measure(self, shots=0):\n",
    "        state = self.run()\n",
    "        samples = measure(state, shots)\n",
    "        return {'state vector': state, 'counts': samples}\n",
    "\n",
    "    def run(self):\n",
    "        for tr in self.transformations:\n",
    "            cs = tr.controls\n",
    "            if len(cs) == 0:\n",
    "                transform(self.state, tr.target, tr.gate)\n",
    "            elif len(cs) == 1:\n",
    "                c_transform(self.state, cs[0], tr.target, tr.gate)\n",
    "            else:\n",
    "                mc_transform(self.state, cs, tr.target, tr.gate)\n",
    "        self.transformations = []\n",
    "        return self.state"
   ]
  },
  {
   "cell_type": "markdown",
   "id": "3d729a11",
   "metadata": {},
   "source": [
    "Example three-qubit circuit:"
   ]
  },
  {
   "cell_type": "code",
   "execution_count": null,
   "id": "25c580a6",
   "metadata": {
    "ExecuteTime": {
     "end_time": "2023-11-01T18:42:27.776962Z",
     "start_time": "2023-11-01T18:42:27.735198Z"
    }
   },
   "outputs": [],
   "source": [
    "q = QuantumRegister(3)\n",
    "qc = QuantumCircuit(q)\n",
    "\n",
    "qc.h(q[0])\n",
    "qc.h(q[1])\n",
    "qc.mcx([q[0], q[1]], q[2])"
   ]
  },
  {
   "cell_type": "markdown",
   "id": "33bc2c3b",
   "metadata": {},
   "source": [
    "When we call the `run` function, the respective transformations will be applied to the state object, and the transformed state is returned:"
   ]
  },
  {
   "cell_type": "code",
   "execution_count": null,
   "id": "8ab1317d",
   "metadata": {
    "ExecuteTime": {
     "end_time": "2023-11-01T18:42:27.957209Z",
     "start_time": "2023-11-01T18:42:27.742508Z"
    }
   },
   "outputs": [],
   "source": [
    "state = qc.run()"
   ]
  },
  {
   "cell_type": "code",
   "execution_count": null,
   "id": "20fdd670",
   "metadata": {
    "ExecuteTime": {
     "end_time": "2023-11-01T18:42:27.962079Z",
     "start_time": "2023-11-01T18:42:27.957468Z"
    }
   },
   "outputs": [],
   "source": [
    "print_state_table(state)"
   ]
  },
  {
   "cell_type": "markdown",
   "id": "eb161cdf",
   "metadata": {},
   "source": [
    "We can simulate measurement on the resulting state with the `measure` function:"
   ]
  },
  {
   "cell_type": "code",
   "execution_count": null,
   "id": "2bbc6cd4",
   "metadata": {
    "ExecuteTime": {
     "end_time": "2023-11-01T18:20:21.667250Z",
     "start_time": "2023-11-01T18:20:21.663522Z"
    }
   },
   "outputs": [],
   "source": [
    "samples = measure(state, 1000)\n",
    "print(samples)"
   ]
  },
  {
   "cell_type": "markdown",
   "id": "6971ffc7",
   "metadata": {
    "ExecuteTime": {
     "end_time": "2023-11-01T18:42:27.965327Z",
     "start_time": "2023-11-01T18:42:27.961442Z"
    }
   },
   "source": [
    "### Reimplementing the uniform distribution with registers and circuits (section 4.5.3)"
   ]
  },
  {
   "cell_type": "code",
   "execution_count": null,
   "id": "bad197c1",
   "metadata": {
    "ExecuteTime": {
     "end_time": "2023-11-01T18:42:28.189576Z",
     "start_time": "2023-11-01T18:42:27.972039Z"
    }
   },
   "outputs": [],
   "source": [
    "q = QuantumRegister(3)\n",
    "qc = QuantumCircuit(q)\n",
    "\n",
    "for i in range(len(q)):\n",
    "    qc.h(q[i])\n",
    "\n",
    "state = qc.run()"
   ]
  },
  {
   "cell_type": "code",
   "execution_count": null,
   "id": "9acfc4e7",
   "metadata": {
    "ExecuteTime": {
     "end_time": "2023-11-01T18:20:21.896696Z",
     "start_time": "2023-11-01T18:20:21.672618Z"
    }
   },
   "outputs": [],
   "source": [
    "print_state_table(state)"
   ]
  },
  {
   "cell_type": "markdown",
   "id": "bd9bb319",
   "metadata": {
    "ExecuteTime": {
     "end_time": "2023-11-01T18:42:28.194384Z",
     "start_time": "2023-11-01T18:42:28.190571Z"
    }
   },
   "source": [
    "Listing 4.11 Function for encoding the uniform distribution in a quantum state"
   ]
  },
  {
   "cell_type": "code",
   "execution_count": null,
   "id": "03b0a7fa",
   "metadata": {
    "ExecuteTime": {
     "end_time": "2023-11-01T18:20:21.899922Z",
     "start_time": "2023-11-01T18:20:21.896951Z"
    }
   },
   "outputs": [],
   "source": [
    "def uniform(n):\n",
    "    q = QuantumRegister(n)\n",
    "    qc = QuantumCircuit(q)\n",
    "\n",
    "    for i in range(len(q)):\n",
    "        qc.h(q[i])\n",
    "\n",
    "    return qc"
   ]
  },
  {
   "cell_type": "markdown",
   "id": "76e9ae33",
   "metadata": {
    "ExecuteTime": {
     "end_time": "2023-11-01T18:42:28.201371Z",
     "start_time": "2023-11-01T18:42:28.194006Z"
    }
   },
   "source": [
    "### Encoding the Binomial distribution in a multi-qubit state (section 4.5.4)"
   ]
  },
  {
   "cell_type": "code",
   "execution_count": null,
   "id": "4b682513",
   "metadata": {
    "ExecuteTime": {
     "end_time": "2023-11-01T18:42:28.425578Z",
     "start_time": "2023-11-01T18:42:28.201562Z"
    }
   },
   "outputs": [],
   "source": [
    "q = QuantumRegister(3)\n",
    "qc = QuantumCircuit(q)\n",
    "\n",
    "for i in range(len(q)):\n",
    "    qc.ry(pi/3, q[i])\n",
    "\n",
    "state = qc.run()"
   ]
  },
  {
   "cell_type": "code",
   "execution_count": null,
   "id": "39a016d7",
   "metadata": {
    "ExecuteTime": {
     "end_time": "2023-11-01T18:20:22.131046Z",
     "start_time": "2023-11-01T18:20:21.906323Z"
    }
   },
   "outputs": [],
   "source": [
    "print_state_table(state)"
   ]
  },
  {
   "cell_type": "markdown",
   "id": "acb77c8e",
   "metadata": {
    "ExecuteTime": {
     "end_time": "2023-11-01T18:42:28.429886Z",
     "start_time": "2023-11-01T18:42:28.424623Z"
    }
   },
   "source": [
    "Listing 4.14 Function for encoding the binomial distribution in a quantum state"
   ]
  },
  {
   "cell_type": "code",
   "execution_count": null,
   "id": "1796216d",
   "metadata": {
    "ExecuteTime": {
     "end_time": "2023-11-01T18:20:22.134210Z",
     "start_time": "2023-11-01T18:20:22.131222Z"
    }
   },
   "outputs": [],
   "source": [
    "def binomial(n, theta):\n",
    "    q = QuantumRegister(n)\n",
    "    qc = QuantumCircuit(q)\n",
    "\n",
    "    for i in range(len(q)): # Iterate through each qubit in the register and apply an Ry-gate\n",
    "        qc.ry(theta, q[i])\n",
    "    \n",
    "    return qc"
   ]
  },
  {
   "cell_type": "markdown",
   "id": "a641754e",
   "metadata": {
    "ExecuteTime": {
     "end_time": "2023-11-01T18:42:28.436694Z",
     "start_time": "2023-11-01T18:42:28.428215Z"
    }
   },
   "source": [
    "### Implementing the Bell states (section 4.5.5)"
   ]
  },
  {
   "cell_type": "markdown",
   "id": "7af62a39",
   "metadata": {},
   "source": [
    "First Bell state:"
   ]
  },
  {
   "cell_type": "code",
   "execution_count": null,
   "id": "30b2e28d",
   "metadata": {
    "ExecuteTime": {
     "end_time": "2023-11-01T18:42:28.560587Z",
     "start_time": "2023-11-01T18:42:28.435246Z"
    }
   },
   "outputs": [],
   "source": [
    "q = QuantumRegister(2)\n",
    "qc = QuantumCircuit(q)\n",
    "\n",
    "qc.h(q[0])\n",
    "qc.cx(q[0], q[1])\n",
    "\n",
    "state = qc.run()"
   ]
  },
  {
   "cell_type": "code",
   "execution_count": null,
   "id": "1946888c",
   "metadata": {
    "ExecuteTime": {
     "end_time": "2023-11-01T18:42:28.565091Z",
     "start_time": "2023-11-01T18:42:28.560157Z"
    }
   },
   "outputs": [],
   "source": [
    "print_state_table(state)"
   ]
  },
  {
   "cell_type": "markdown",
   "id": "44bc64d2",
   "metadata": {},
   "source": [
    "Third Bell state:"
   ]
  },
  {
   "cell_type": "code",
   "execution_count": null,
   "id": "408274a9",
   "metadata": {
    "ExecuteTime": {
     "end_time": "2023-11-01T18:42:28.691365Z",
     "start_time": "2023-11-01T18:42:28.564913Z"
    }
   },
   "outputs": [],
   "source": [
    "q = QuantumRegister(2)\n",
    "qc = QuantumCircuit(q)\n",
    "\n",
    "qc.h(q[0])\n",
    "qc.x(q[1])\n",
    "qc.cx(q[0], q[1])\n",
    "\n",
    "state = qc.run()"
   ]
  },
  {
   "cell_type": "code",
   "execution_count": null,
   "id": "898bcd92",
   "metadata": {
    "ExecuteTime": {
     "end_time": "2023-11-01T18:20:22.398811Z",
     "start_time": "2023-11-01T18:20:22.283304Z"
    }
   },
   "outputs": [],
   "source": [
    "print_state_table(state)"
   ]
  }
 ],
 "metadata": {
  "kernelspec": {
   "display_name": "Python 3 (ipykernel)",
   "language": "python",
   "name": "python3"
  },
  "language_info": {
   "codemirror_mode": {
    "name": "ipython",
    "version": 3
   },
   "file_extension": ".py",
   "mimetype": "text/x-python",
   "name": "python",
   "nbconvert_exporter": "python",
   "pygments_lexer": "ipython3",
   "version": "3.9.13"
  }
 },
 "nbformat": 4,
 "nbformat_minor": 5
}
