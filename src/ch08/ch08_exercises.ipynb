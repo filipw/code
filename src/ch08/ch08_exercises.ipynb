{
 "cells": [
  {
   "cell_type": "code",
   "execution_count": null,
   "metadata": {},
   "outputs": [],
   "source": [
    "import sys;\n",
    "sys.path.insert(0, '..')"
   ]
  },
  {
   "cell_type": "code",
   "execution_count": null,
   "metadata": {},
   "outputs": [],
   "source": [
    "from math import pi, cos, sin, sqrt, atan2, tan\n",
    "from util import is_close, all_close, cis, print_state_table\n",
    "from sim_circuit import *"
   ]
  },
  {
   "cell_type": "markdown",
   "metadata": {},
   "source": [
    "## Exercise 1\n",
    "\n",
    "The circuit to encode a geometric sequence state in listing 8.1 adds a Hadamard gate to each qubits, and then a phase gate to each qubit.\n",
    "The following function creates the same circuit in a different order:"
   ]
  },
  {
   "cell_type": "code",
   "execution_count": null,
   "metadata": {},
   "outputs": [],
   "source": [
    "def geometric_sequence_circuit_efficient(n, theta):\n",
    "\n",
    "    N = 2**n\n",
    "\n",
    "    q = QuantumRegister(n)\n",
    "    qc = QuantumCircuit(q)\n",
    "\n",
    "    for j in range(n):\n",
    "        qc.h(q[j])\n",
    "        qc.p(2 ** j * theta, q[j])\n",
    "\n",
    "    return qc"
   ]
  },
  {
   "cell_type": "markdown",
   "metadata": {},
   "source": [
    "Create a geometric sequence state using the function above and then check that the amplitudes of the state match the expected values."
   ]
  },
  {
   "cell_type": "markdown",
   "metadata": {},
   "source": [
    "**Answer:**"
   ]
  },
  {
   "cell_type": "code",
   "execution_count": null,
   "metadata": {},
   "outputs": [],
   "source": [
    "n = 3\n",
    "theta = pi/3\n",
    "qc = geometric_sequence_circuit_efficient(n, theta)\n",
    "assert all_close(qc.run(), [1/sqrt(2**n)*cis(k*theta) for k in range(2**n)])"
   ]
  },
  {
   "cell_type": "markdown",
   "metadata": {},
   "source": [
    "## Exercise 2\n",
    "\n",
    "Justify that using the circuit in listing 6.2 to encode a frequency $0 \\le v < 2$ in a single-qubit state is the same as the phase-to-magnitude method we saw in chapter 5.\n",
    "The phase is $\\theta = v\\pi$."
   ]
  },
  {
   "cell_type": "markdown",
   "metadata": {},
   "source": [
    "**Answer:**"
   ]
  },
  {
   "cell_type": "code",
   "execution_count": null,
   "metadata": {},
   "outputs": [],
   "source": [
    "def encode_frequency(n, v):\n",
    "    q = QuantumRegister(n)\n",
    "    qc = QuantumCircuit(q)\n",
    "\n",
    "    for j in range(n):\n",
    "        qc.h(q[j])\n",
    "\n",
    "    for j in range(n):\n",
    "        qc.p(2 * pi / 2 ** (n - j) * v, q[j])\n",
    "\n",
    "    qc.report('geometric_sequence')\n",
    "\n",
    "    qc.iqft(range(n))\n",
    "\n",
    "    qc.report('iqft')\n",
    "\n",
    "    return qc"
   ]
  },
  {
   "cell_type": "code",
   "execution_count": null,
   "metadata": {},
   "outputs": [],
   "source": [
    "def phase_to_mag_1q(v):\n",
    "    q = QuantumRegister(1)\n",
    "    qc = QuantumCircuit(q)\n",
    "    \n",
    "    theta = v*pi\n",
    "    qc.h(q[0])\n",
    "    qc.p(theta, q[0])\n",
    "    qc.h(q[0])\n",
    "\n",
    "    return qc"
   ]
  },
  {
   "cell_type": "code",
   "execution_count": null,
   "metadata": {},
   "outputs": [],
   "source": [
    "n = 1\n",
    "v = 1.2\n",
    "assert all_close(encode_frequency(n, v).run(), phase_to_mag_1q(v).run())"
   ]
  },
  {
   "cell_type": "markdown",
   "metadata": {},
   "source": [
    "## Exercise 3\n",
    "\n",
    "Write code that uses random states to verify the following alternative expression for the amplitudes of a periodic n-qubit quantum state, with $N = 2^n$.\n",
    "\n",
    "|Outcome |Amplitude |\n",
    "| :----: | :------: |\n",
    "|k       |$$\\text{cis} \\left((N - 1)(v - k) \\frac{\\pi}{N} \\right) \\frac{2}{N} \\sum_{m = 0}^{N/2} \\cos \\left((2m + 1)(v - k) \\frac{\\pi}{N} \\right)$$ |"
   ]
  },
  {
   "cell_type": "markdown",
   "metadata": {},
   "source": [
    "**Answer:**"
   ]
  },
  {
   "cell_type": "code",
   "execution_count": null,
   "metadata": {},
   "outputs": [],
   "source": [
    "def complex_sincd_sum(n, v):\n",
    "    N = 2**n\n",
    "    return [2/N*sum(cos((2*m+1)*(v-k)*pi/N) for m in range(N//2))*cis((N-1) * (v-k)*pi/N) for k in range(N)]"
   ]
  },
  {
   "cell_type": "code",
   "execution_count": null,
   "metadata": {},
   "outputs": [],
   "source": [
    "n = 3\n",
    "\n",
    "# generate pseudo-random between 0 and 2**n\n",
    "import random\n",
    "v = random.randrange(2**n)\n",
    "\n",
    "assert all_close(encode_frequency(n, v).run(), complex_sincd_sum(n, v))"
   ]
  },
  {
   "cell_type": "markdown",
   "metadata": {},
   "source": [
    "## Exercise 4\n",
    "\n",
    "Verify that the amplitudes of a phased discrete state can be expressed recursively as shown in the following tree for a three-qubit state:\n"
   ]
  },
  {
   "cell_type": "markdown",
   "metadata": {},
   "source": [
    "**Answer:**"
   ]
  },
  {
   "cell_type": "code",
   "execution_count": null,
   "metadata": {},
   "outputs": [],
   "source": [
    "def recursive_complex_discrete_sinc(n, v):\n",
    "    if n == 1:\n",
    "        return [cis(v*pi/2)*cos(v*pi/2), -1j*cis(v*pi/2)*sin(v*pi/2)]\n",
    "    \n",
    "    a = recursive_complex_discrete_sinc(n-1, v)\n",
    "\n",
    "    return ([a[k]*cis((v - k)*pi/2**n)*cos((v - k)*pi/2**n) for k in range(2**(n-1))] + [a[k]*cis((v - k)*pi/2**n)*-1j*sin((v - k)*pi/2**n) for k in range(2**(n-1))])"
   ]
  },
  {
   "cell_type": "code",
   "execution_count": null,
   "metadata": {},
   "outputs": [],
   "source": [
    "n = 3\n",
    "v = 1.5\n",
    "assert all_close(recursive_complex_discrete_sinc(n, v), complex_sincd_sum(n, v))"
   ]
  },
  {
   "cell_type": "markdown",
   "metadata": {},
   "source": [
    "## Exercise 5\n",
    "\n",
    "Let's look at an example of a quantum circuit that uses the QFT.\n",
    "Let's initialize a three-qubit state and apply an $R_Y(-\\frac{\\pi}{2})$-gate to the first qubit:"
   ]
  },
  {
   "cell_type": "code",
   "execution_count": null,
   "metadata": {},
   "outputs": [],
   "source": [
    "n = 3\n",
    "theta = -pi/2\n",
    "q = QuantumRegister(n)\n",
    "qc = QuantumCircuit(q)\n",
    "qc.ry(theta, q[0])\n",
    "qc.report('state')"
   ]
  },
  {
   "cell_type": "markdown",
   "metadata": {},
   "source": [
    "The resulting state can be expressed with the following list comprehension:"
   ]
  },
  {
   "cell_type": "code",
   "execution_count": null,
   "metadata": {},
   "outputs": [],
   "source": [
    "N = 8\n",
    "s = [cos(k*pi/2 - theta/2) if k in [0, 1] else 0 for k in range(N)]\n",
    "assert all_close(qc.reports['state'][2], s)"
   ]
  },
  {
   "cell_type": "markdown",
   "metadata": {},
   "source": [
    "Now, let’s perform a QFT on all the qubits in the system:"
   ]
  },
  {
   "cell_type": "code",
   "execution_count": null,
   "metadata": {},
   "outputs": [],
   "source": [
    "qc.append_qft(q)\n",
    "qc.report('qft')"
   ]
  },
  {
   "cell_type": "markdown",
   "metadata": {},
   "source": [
    "Find a list comprehension expression of the state after applying the QFT (like the one above) that will satisfy the following assert statement:\n",
    "\n",
    "\n",
    "```\n",
    "assert all_close(qc.reports['qft'][2], s)\n",
    "```"
   ]
  },
  {
   "cell_type": "markdown",
   "metadata": {},
   "source": [
    "**Answer:**"
   ]
  },
  {
   "cell_type": "code",
   "execution_count": null,
   "metadata": {},
   "outputs": [],
   "source": [
    "s = [1/sqrt(N)*cos(theta/2) + 1/sqrt(N)*sin(theta/2)*cis(k*2*pi/N) for k in range(N)]\n",
    "assert all_close(qc.reports['qft'][2], s)"
   ]
  },
  {
   "cell_type": "markdown",
   "metadata": {},
   "source": [
    "## Exercise 6\n",
    "\n",
    "Verify that for a given integer $n$, the following circuit encodes a quantum state with the following properties:\n",
    "\n",
    "1. The probability of the 0 outcome is $\\frac{1}{2}$.\n",
    "\n",
    "2. The probability of an odd outcome $ 0 < k < 2^n$ is $\\frac{\\sqrt{2}}{2^n}\\frac{1}{\\sin^2(k\\frac{\\pi}{2^n})}$.\n",
    "\n",
    "3. The probability of the other outcomes, which are all even, is 0."
   ]
  },
  {
   "cell_type": "code",
   "execution_count": null,
   "metadata": {},
   "outputs": [],
   "source": [
    "def one_over_sine(n):\n",
    "    q = QuantumRegister(n)\n",
    "    qc = QuantumCircuit(q)\n",
    "\n",
    "    for i in range(1, n):\n",
    "        qc.h(i)\n",
    "\n",
    "    qc.x(0)\n",
    "    qc.iqft(q[::-1], swap=False)\n",
    "\n",
    "    return qc"
   ]
  },
  {
   "cell_type": "code",
   "execution_count": null,
   "metadata": {},
   "outputs": [],
   "source": [
    "qc = one_over_sine(4)\n",
    "state = qc.run()"
   ]
  },
  {
   "cell_type": "code",
   "execution_count": null,
   "metadata": {},
   "outputs": [],
   "source": [
    "print_state_table(state)"
   ]
  },
  {
   "cell_type": "markdown",
   "metadata": {},
   "source": [
    "**Answer:**"
   ]
  },
  {
   "cell_type": "code",
   "execution_count": null,
   "metadata": {},
   "outputs": [],
   "source": [
    "n = 4\n",
    "N = 2**n\n",
    "\n",
    "qc = one_over_sine(n)\n",
    "state = qc.run()\n",
    "\n",
    "# amplitude of outcome 0 is 1/2\n",
    "assert is_close(abs(state[0])**2, 1/2)\n",
    "\n",
    "for k in range(1, N):\n",
    "    # probability of odd outcomes\n",
    "    if k%2 == 1:\n",
    "        assert is_close(abs(state[k])**2, (sqrt(2)/N/sin(k*pi/N))**2)\n",
    "        assert all_close([state[k]], [sqrt(2)/N*(-1 + 1j*1/tan(k*pi/N))])\n",
    "    # probability of even outcomes (> 0) are 0 \n",
    "    else:\n",
    "        assert is_close(abs(state[k])**2, 0)"
   ]
  }
 ],
 "metadata": {
  "kernelspec": {
   "display_name": "Python 3 (ipykernel)",
   "language": "python",
   "name": "python3"
  },
  "language_info": {
   "codemirror_mode": {
    "name": "ipython",
    "version": 3
   },
   "file_extension": ".py",
   "mimetype": "text/x-python",
   "name": "python",
   "nbconvert_exporter": "python",
   "pygments_lexer": "ipython3",
   "version": "3.9.13"
  }
 },
 "nbformat": 4,
 "nbformat_minor": 4
}
