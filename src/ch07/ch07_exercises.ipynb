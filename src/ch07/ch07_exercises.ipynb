{
 "cells": [
  {
   "cell_type": "code",
   "execution_count": 1,
   "metadata": {},
   "outputs": [],
   "source": [
    "import sys;\n",
    "sys.path.insert(0, '..')"
   ]
  },
  {
   "cell_type": "code",
   "execution_count": 2,
   "metadata": {},
   "outputs": [],
   "source": [
    "from math import sqrt, pi, atan2, cos\n",
    "from util import cis, is_close"
   ]
  },
  {
   "cell_type": "markdown",
   "metadata": {},
   "source": [
    "## Exercise 1\n",
    "\n",
    "How can we make the sequence given above into a valid quantum state?\n",
    "\n",
    "Sequence:"
   ]
  },
  {
   "cell_type": "code",
   "execution_count": 3,
   "metadata": {},
   "outputs": [
    {
     "name": "stdout",
     "output_type": "stream",
     "text": [
      "[(1+0j), (0.70711+0.7071j), 1j, (-0.70711+0.7071j), (-1+0j), (-0.70711-0.7071j), (-0-1j), (0.70711-0.7071j)]\n"
     ]
    }
   ],
   "source": [
    "N = 8\n",
    "sequence = [cis(l*2*pi/N) for l in range(N)]\n",
    "print([(round(amp.real, 5) + 1j*round(amp.imag, 4)) for amp in sequence])"
   ]
  },
  {
   "cell_type": "markdown",
   "metadata": {},
   "source": [
    "**Answer:**\n",
    "\n",
    "Multiply each item by $\\frac{1}{\\sqrt{N}}$"
   ]
  },
  {
   "cell_type": "code",
   "execution_count": 4,
   "metadata": {},
   "outputs": [],
   "source": [
    "N = 8\n",
    "sequence_state = [1/sqrt(N) * cis(l*2*pi/N) for l in range(N)]"
   ]
  },
  {
   "cell_type": "code",
   "execution_count": 5,
   "metadata": {},
   "outputs": [],
   "source": [
    "# check that the squared magnitudes add up to one\n",
    "assert is_close(sum([abs(i)**2 for i in sequence_state]), 1.0)"
   ]
  },
  {
   "cell_type": "markdown",
   "metadata": {},
   "source": [
    "## Exercise 2\n",
    "\n",
    "Show that the encoded angle is reflected in the phase of the amplitude corresponding to outcome 1."
   ]
  },
  {
   "cell_type": "code",
   "execution_count": 6,
   "metadata": {},
   "outputs": [],
   "source": [
    "def geom(n, theta):\n",
    "    N = 2**n\n",
    "    return [sqrt(1/N) * cis(k*theta) for k in range(N)]"
   ]
  },
  {
   "cell_type": "code",
   "execution_count": 7,
   "metadata": {},
   "outputs": [],
   "source": [
    "state = geom(1, pi/3)"
   ]
  },
  {
   "cell_type": "markdown",
   "metadata": {},
   "source": [
    "**Answer:**"
   ]
  },
  {
   "cell_type": "code",
   "execution_count": 8,
   "metadata": {},
   "outputs": [],
   "source": [
    "assert(round(atan2(state[1].imag, state[1].real), 5) == round(pi/3, 5))"
   ]
  },
  {
   "cell_type": "markdown",
   "metadata": {},
   "source": [
    "## Exercise 3\n",
    "\n",
    "\n",
    "In the gate-based implementation of the IQFT, the rotations are applied incrementally with controlled phase rotations. To make it easier to understand the effect of the nested `for` loops in the quantum implementation, below is a classical equivalent of its effect. This function is analogous to the FFT."
   ]
  },
  {
   "cell_type": "code",
   "execution_count": 9,
   "metadata": {},
   "outputs": [],
   "source": [
    "from math import log2\n",
    "\n",
    "def bin_digit(k, j):\n",
    "    return 1 if k & (1 << j) else 0\n",
    "\n",
    "def cfft(state):\n",
    "    n = int(log2(len(state)))\n",
    "    for j in range(n)[::-1]:\n",
    "        for k in range(len(state)):\n",
    "            if bin_digit(k, j) == 0:\n",
    "                # Compute the sum and difference of the amplitude pair\n",
    "                state[k] = 1/sqrt(2)*(state[k] + state[k+2**j])\n",
    "                state[k+2**j] = state[k] - sqrt(2)*state[k+2**j]\n",
    "\n",
    "            else:\n",
    "                state[k] *= cis(-pi * (k%2**j)*2**-j)"
   ]
  },
  {
   "cell_type": "markdown",
   "metadata": {},
   "source": [
    "Verify that the function above gives the same output as the FFT (with a constant $\\frac{1}{\\sqrt{N}}$ and bit reversal)."
   ]
  },
  {
   "cell_type": "markdown",
   "metadata": {},
   "source": [
    "**Answer:**"
   ]
  },
  {
   "cell_type": "code",
   "execution_count": 10,
   "metadata": {},
   "outputs": [],
   "source": [
    "N = 8\n",
    "frequency = 1.7\n",
    "samples = [1/sqrt(N)*cos(2 * pi * frequency * (i / N)) for i in range(N)]"
   ]
  },
  {
   "cell_type": "code",
   "execution_count": 11,
   "metadata": {},
   "outputs": [
    {
     "data": {
      "text/plain": [
       "array([ 0.01813862+0.j        , -0.11373594+0.34545166j,\n",
       "        0.93169317-0.9912542j ,  0.40521579-0.17396922j,\n",
       "        0.36394247+0.j        ,  0.40521579+0.17396922j,\n",
       "        0.93169317+0.9912542j , -0.11373594-0.34545166j])"
      ]
     },
     "execution_count": 11,
     "metadata": {},
     "output_type": "execute_result"
    }
   ],
   "source": [
    "import numpy as np\n",
    "f = np.fft.fft(samples)\n",
    "f"
   ]
  },
  {
   "cell_type": "code",
   "execution_count": 12,
   "metadata": {},
   "outputs": [
    {
     "name": "stdout",
     "output_type": "stream",
     "text": [
      "(0.00641+0.00641j)\n",
      "(-0.04021-0.04021j)\n",
      "(0.3294+0.3294j)\n",
      "(0.14327+0.14327j)\n",
      "(0.12867+0.12867j)\n",
      "(0.14327+0.14327j)\n",
      "(0.3294+0.3294j)\n",
      "(-0.04021-0.04021j)\n"
     ]
    }
   ],
   "source": [
    "for i in f:\n",
    "    adjusted = i*1/sqrt(N)\n",
    "    print(round(adjusted.real, 5) + 1j*round(adjusted.real, 5))"
   ]
  },
  {
   "cell_type": "code",
   "execution_count": 13,
   "metadata": {},
   "outputs": [],
   "source": [
    "cfft(samples)"
   ]
  },
  {
   "cell_type": "code",
   "execution_count": 14,
   "metadata": {},
   "outputs": [],
   "source": [
    "# reverse the order\n",
    "n = int(np.log2(len(samples)))\n",
    "s = samples.copy()\n",
    "for k in range(len(samples)):\n",
    "    s[k] = samples[int(bin(k)[2:].zfill(n)[::-1], 2)]"
   ]
  },
  {
   "cell_type": "code",
   "execution_count": 15,
   "metadata": {},
   "outputs": [
    {
     "name": "stdout",
     "output_type": "stream",
     "text": [
      "(0.00641+0.00641j)\n",
      "(-0.04021-0.04021j)\n",
      "(0.3294+0.3294j)\n",
      "(0.14327+0.14327j)\n",
      "(0.12867+0.12867j)\n",
      "(0.14327+0.14327j)\n",
      "(0.3294+0.3294j)\n",
      "(-0.04021-0.04021j)\n"
     ]
    }
   ],
   "source": [
    "for i in s:\n",
    "    print(round(i.real, 5) + 1j*round(i.real, 5))"
   ]
  }
 ],
 "metadata": {
  "kernelspec": {
   "display_name": "Python 3 (ipykernel)",
   "language": "python",
   "name": "python3"
  },
  "language_info": {
   "codemirror_mode": {
    "name": "ipython",
    "version": 3
   },
   "file_extension": ".py",
   "mimetype": "text/x-python",
   "name": "python",
   "nbconvert_exporter": "python",
   "pygments_lexer": "ipython3",
   "version": "3.9.13"
  }
 },
 "nbformat": 4,
 "nbformat_minor": 4
}
