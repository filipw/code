{
 "cells": [
  {
   "cell_type": "code",
   "execution_count": null,
   "id": "0d02f891",
   "metadata": {
    "ExecuteTime": {
     "end_time": "2023-11-01T18:50:47.143668Z",
     "start_time": "2023-11-01T18:50:46.928513Z"
    }
   },
   "outputs": [],
   "source": [
    "import sys;\n",
    "sys.path.insert(0, '..')"
   ]
  },
  {
   "cell_type": "markdown",
   "id": "be73b7c5",
   "metadata": {},
   "source": [
    "## Chapter 7 Code Snippets and Listings"
   ]
  },
  {
   "cell_type": "markdown",
   "id": "b15d63d2",
   "metadata": {
    "jp-MarkdownHeadingCollapsed": true
   },
   "source": [
    "### Periodic patterns in sound waves (section 7.1.1)"
   ]
  },
  {
   "cell_type": "markdown",
   "id": "aa0755bb-0366-48bf-8046-4639f90d7368",
   "metadata": {},
   "source": [
    "For example, for $N = 8$, we can define discrete samples of the signal using the following Python code:"
   ]
  },
  {
   "cell_type": "code",
   "execution_count": null,
   "id": "bd4a5688",
   "metadata": {
    "ExecuteTime": {
     "end_time": "2023-11-01T18:50:47.188871Z",
     "start_time": "2023-11-01T18:50:46.935950Z"
    }
   },
   "outputs": [],
   "source": [
    "from math import sqrt, pi, cos\n",
    "N = 8\n",
    "frequency = 1.7\n",
    "samples = [1/sqrt(8)*cos(2 * pi * frequency * (t / N)) for t in range(N)]"
   ]
  },
  {
   "cell_type": "markdown",
   "id": "52a6bbc2-e608-48d6-afb6-3f30c16d60f9",
   "metadata": {},
   "source": [
    "We can visualize the wave and the 8 values we computed above:"
   ]
  },
  {
   "cell_type": "code",
   "execution_count": null,
   "id": "c1a3897f",
   "metadata": {
    "ExecuteTime": {
     "end_time": "2023-11-01T18:50:48.277395Z",
     "start_time": "2023-11-01T18:50:46.939249Z"
    },
    "scrolled": true
   },
   "outputs": [],
   "source": [
    "import numpy as np\n",
    "import matplotlib.pyplot as plt\n",
    "\n",
    "x = np.linspace(0, N, 50)\n",
    "wave = [1/sqrt(8)*cos(2 * pi * frequency * (t/N)) for t in x]\n",
    "plt.plot(x, wave, label='signal', color='red')\n",
    "plt.scatter(range(N), samples)\n",
    "plt.show()"
   ]
  },
  {
   "cell_type": "markdown",
   "id": "20a9ad3e",
   "metadata": {
    "jp-MarkdownHeadingCollapsed": true,
    "jupyter": {
     "outputs_hidden": false
    }
   },
   "source": [
    "### Periodic patterns in quantum states (section 7.1.2)"
   ]
  },
  {
   "cell_type": "markdown",
   "id": "50deca3f-59ab-4848-b289-d66514b63f5a",
   "metadata": {},
   "source": [
    "We can create a quantum state with amplitudes that are discrete samples of this complex signal with a given `theta` (for example, $\\frac{\\pi}{3}$) using the following code:"
   ]
  },
  {
   "cell_type": "code",
   "execution_count": null,
   "id": "eacf5709",
   "metadata": {
    "ExecuteTime": {
     "end_time": "2023-11-01T18:50:48.642648Z",
     "start_time": "2023-11-01T18:50:48.625547Z"
    }
   },
   "outputs": [],
   "source": [
    "from util import cis\n",
    "from math import sin\n",
    "\n",
    "theta = pi/3\n",
    "state = [sqrt(1/N) * cis(k*theta) for k in range(N)]"
   ]
  },
  {
   "cell_type": "markdown",
   "id": "f400eeaf",
   "metadata": {},
   "source": [
    "Listing 7.1 Function for creating an `n`-qubit geometric sequence state with angle `theta`"
   ]
  },
  {
   "cell_type": "code",
   "execution_count": null,
   "id": "bf9180af",
   "metadata": {
    "ExecuteTime": {
     "end_time": "2023-11-01T18:50:48.653021Z",
     "start_time": "2023-11-01T18:50:48.628576Z"
    }
   },
   "outputs": [],
   "source": [
    "def geom(n, theta):\n",
    "    N = 2**n\n",
    "    return [sqrt(1/N) * cis(k*theta) for k in range(N)]"
   ]
  },
  {
   "cell_type": "markdown",
   "id": "9dc2381e-f6d1-4920-87aa-8f53fc85a763",
   "metadata": {},
   "source": [
    "Let's use it to create a 3-qubit quantum state that is a geometric sequence with $\\theta = \\frac{\\pi}{3}$:"
   ]
  },
  {
   "cell_type": "code",
   "execution_count": null,
   "id": "42614262",
   "metadata": {
    "ExecuteTime": {
     "end_time": "2023-11-01T18:50:48.659146Z",
     "start_time": "2023-11-01T18:50:48.632359Z"
    }
   },
   "outputs": [],
   "source": [
    "state = geom(3, pi/3)"
   ]
  },
  {
   "cell_type": "markdown",
   "id": "c7d270e0-3a81-48d4-9533-8bf279aaf63a",
   "metadata": {},
   "source": [
    "Let's look at the phase of each of the amplitudes:"
   ]
  },
  {
   "cell_type": "code",
   "execution_count": null,
   "id": "994ea76a",
   "metadata": {
    "ExecuteTime": {
     "end_time": "2023-11-01T18:50:48.659490Z",
     "start_time": "2023-11-01T18:50:48.636433Z"
    }
   },
   "outputs": [],
   "source": [
    "from math import atan2\n",
    "\n",
    "for k in range(len(state)):\n",
    "    print(\"phase of amplitude \", k, \":\", round(atan2(state[k].imag, state[k].real), 5))"
   ]
  },
  {
   "cell_type": "markdown",
   "id": "cf225755-dd48-41bd-be49-2fbf7d781b81",
   "metadata": {},
   "source": [
    "Let's create a 3-qubit quantum state which is a geometric sequence with $\\theta = \\frac{\\pi}{6}$:"
   ]
  },
  {
   "cell_type": "code",
   "execution_count": null,
   "id": "2109c15a",
   "metadata": {
    "ExecuteTime": {
     "end_time": "2023-11-01T18:50:48.662122Z",
     "start_time": "2023-11-01T18:50:48.641239Z"
    }
   },
   "outputs": [],
   "source": [
    "state = geom(3, pi/6)"
   ]
  },
  {
   "cell_type": "markdown",
   "id": "231e8f0c",
   "metadata": {},
   "source": [
    "Listing 7.2 Circuit for encoding a geometric sequence state with `n` qubits for a given frequency `v`"
   ]
  },
  {
   "cell_type": "code",
   "execution_count": null,
   "id": "ea911f8f",
   "metadata": {
    "ExecuteTime": {
     "end_time": "2023-11-01T18:50:48.662192Z",
     "start_time": "2023-11-01T18:50:48.645761Z"
    }
   },
   "outputs": [],
   "source": [
    "from sim_circuit import *\n",
    "\n",
    "def geometric_sequence_circuit(n, v):\n",
    "    theta = v*2*pi/2**n\n",
    "\n",
    "    q = QuantumRegister(n)\n",
    "    qc = QuantumCircuit(q)\n",
    "\n",
    "    for j in range(n):\n",
    "        qc.h(q[j])\n",
    "\n",
    "    for j in range(n):\n",
    "        qc.p(2 ** j * theta, q[j])\n",
    "\n",
    "    return qc"
   ]
  },
  {
   "cell_type": "markdown",
   "id": "9655682f-625b-42c4-8fe4-2b0ee6dd7ecf",
   "metadata": {},
   "source": [
    "Let's we use this function to encode our example samples (`v = 1.7`):"
   ]
  },
  {
   "cell_type": "code",
   "execution_count": null,
   "id": "8318bc07",
   "metadata": {
    "ExecuteTime": {
     "end_time": "2023-11-01T18:50:48.662248Z",
     "start_time": "2023-11-01T18:50:48.649488Z"
    }
   },
   "outputs": [],
   "source": [
    "n = 3\n",
    "v = 1.7\n",
    "qc = geometric_sequence_circuit(n, v)\n",
    "state = qc.run()"
   ]
  },
  {
   "cell_type": "code",
   "execution_count": null,
   "id": "a72399c6",
   "metadata": {
    "jupyter": {
     "outputs_hidden": false
    }
   },
   "outputs": [],
   "source": [
    "from util import print_state_table\n",
    "\n",
    "print_state_table(state)"
   ]
  },
  {
   "cell_type": "markdown",
   "id": "9448306c-ac91-4445-9db4-efb892b4afb3",
   "metadata": {},
   "source": [
    "In this state, all the amplitudes match those of the example signal, $\\frac{1}{\\sqrt{8}}$, and the directions reflect the expected frequency of 1.7. We can check this using the code below:"
   ]
  },
  {
   "cell_type": "code",
   "execution_count": null,
   "id": "a282e101",
   "metadata": {
    "jupyter": {
     "outputs_hidden": false
    }
   },
   "outputs": [],
   "source": [
    "from util import all_close\n",
    "\n",
    "theta = v*2*pi/2**n\n",
    "assert all_close(state, [sqrt(1/2**n) * cis(k*theta) for k in range(2**n)])"
   ]
  },
  {
   "cell_type": "markdown",
   "id": "a37f7184",
   "metadata": {
    "jp-MarkdownHeadingCollapsed": true
   },
   "source": [
    "### Roots of unity and their geometric sequences (section 7.1.3)"
   ]
  },
  {
   "cell_type": "markdown",
   "id": "db62251b-99e5-4709-8120-f03d2ecfef04",
   "metadata": {},
   "source": [
    "Let's check that $\\omega_N^N = 1$ for $N=8$:"
   ]
  },
  {
   "cell_type": "code",
   "execution_count": null,
   "id": "c6744bb4",
   "metadata": {
    "ExecuteTime": {
     "end_time": "2023-11-01T18:50:48.670008Z",
     "start_time": "2023-11-01T18:50:48.655873Z"
    }
   },
   "outputs": [],
   "source": [
    "N = 8\n",
    "omega = cis(2*pi/N)\n",
    "print(abs(omega**N))"
   ]
  },
  {
   "cell_type": "markdown",
   "id": "8f4d6955-e993-4d72-aa09-a58ee7fc198a",
   "metadata": {},
   "source": [
    "In code, we can express the power sequence corresponding to $\\omega_N$ as:"
   ]
  },
  {
   "cell_type": "code",
   "execution_count": null,
   "id": "b2c1a150",
   "metadata": {
    "ExecuteTime": {
     "end_time": "2023-11-01T18:50:48.693625Z",
     "start_time": "2023-11-01T18:50:48.660614Z"
    }
   },
   "outputs": [],
   "source": [
    "omega = cis(2*pi/N)\n",
    "sequence = [omega**k for k in range(N)]"
   ]
  },
  {
   "cell_type": "markdown",
   "id": "604a0d1a-2e1f-41cb-a05b-e01c96944fce",
   "metadata": {},
   "source": [
    "We can also use the `cis` function to do the same:"
   ]
  },
  {
   "cell_type": "code",
   "execution_count": null,
   "id": "bf81dd3f",
   "metadata": {
    "ExecuteTime": {
     "end_time": "2023-11-01T18:50:48.745192Z",
     "start_time": "2023-11-01T18:50:48.665307Z"
    }
   },
   "outputs": [],
   "source": [
    "N = 8\n",
    "sequence_cis = [cis(l*2*pi/N) for l in range(N)]\n",
    "\n",
    "assert all_close(sequence, sequence_cis)"
   ]
  },
  {
   "cell_type": "markdown",
   "id": "93f7e249",
   "metadata": {
    "jp-MarkdownHeadingCollapsed": true
   },
   "source": [
    "### Converting from phase to magnitude encoding with the Hadamard gate (section 7.2)"
   ]
  },
  {
   "cell_type": "markdown",
   "id": "ca3aad6b-a0b5-4f3a-acea-4c64a3ac6fd5",
   "metadata": {},
   "source": [
    "For example, let's represent the frequency $\\frac{1}{3}$ in a single-qubit state.\n",
    "To do this, we will prepare a single-qubit geometric sequence state with the angle $\\theta = \\frac{\\pi}{3}$:"
   ]
  },
  {
   "cell_type": "code",
   "execution_count": null,
   "id": "58d503d8",
   "metadata": {
    "ExecuteTime": {
     "end_time": "2023-11-01T18:50:48.771866Z",
     "start_time": "2023-11-01T18:50:48.668587Z"
    }
   },
   "outputs": [],
   "source": [
    "state = geom(1, pi/3)"
   ]
  },
  {
   "cell_type": "code",
   "execution_count": null,
   "id": "7255f6f6-9ece-4655-9eea-220d5bb5f8dc",
   "metadata": {},
   "outputs": [],
   "source": [
    "print_state_table(state)"
   ]
  },
  {
   "cell_type": "markdown",
   "id": "a8a310a9-aa69-485d-b323-3d5e99253ba0",
   "metadata": {},
   "source": [
    "If we apply an additional Hadamard gate, the magnitudes of both amplitudes will change.\n",
    "Let's look at the following implementation:"
   ]
  },
  {
   "cell_type": "code",
   "execution_count": null,
   "id": "8cb6a784",
   "metadata": {
    "ExecuteTime": {
     "end_time": "2023-11-01T18:50:48.772344Z",
     "start_time": "2023-11-01T18:50:48.672409Z"
    }
   },
   "outputs": [],
   "source": [
    "q = QuantumRegister(1)\n",
    "qc = QuantumCircuit(q)\n",
    "\n",
    "theta = pi/3\n",
    "qc.h(q[0])\n",
    "qc.p(theta, q[0])\n",
    "qc.h(q[0])\n",
    "\n",
    "state = qc.run()"
   ]
  },
  {
   "cell_type": "code",
   "execution_count": null,
   "id": "19c1a61d-32af-43ff-9846-068bd0c42e42",
   "metadata": {},
   "outputs": [],
   "source": [
    "print_state_table(state)"
   ]
  },
  {
   "cell_type": "markdown",
   "id": "7a318cd9-5d0a-4b28-b27b-78f8eaf4ea2f",
   "metadata": {},
   "source": [
    "In this state, the encoded angle is translated in the magnitudes of the amplitudes. The amplitudes of the resulting state have magnitudes $\\cos \\frac{\\theta}{2}$ and $\\sin \\frac{\\theta}{2}$:"
   ]
  },
  {
   "cell_type": "code",
   "execution_count": null,
   "id": "5ec5aca9",
   "metadata": {
    "ExecuteTime": {
     "end_time": "2023-11-01T18:50:48.772402Z",
     "start_time": "2023-11-01T18:50:48.676185Z"
    }
   },
   "outputs": [],
   "source": [
    "from util import is_close\n",
    "\n",
    "theta = pi/3\n",
    "assert is_close(abs(state[0]), cos(theta/2))\n",
    "assert is_close(abs(state[1]), sin(theta/2))"
   ]
  },
  {
   "cell_type": "markdown",
   "id": "aace8abc",
   "metadata": {
    "jp-MarkdownHeadingCollapsed": true
   },
   "source": [
    "### Computing sequence similarity with inner products (section 7.3)"
   ]
  },
  {
   "cell_type": "markdown",
   "id": "f668a754-7b57-4a49-a538-834e10e5ee85",
   "metadata": {},
   "source": [
    "For example, say we bought 4 apples, 2 oranges, 2 peaches, and 3 bananas. Let's assume one apple costs $1.20, one orange costs $1.50, one peach costs $2.00, and one banana costs $0.70. We can express these quantities and prices as lists:"
   ]
  },
  {
   "cell_type": "code",
   "execution_count": null,
   "id": "4d98d5f6",
   "metadata": {
    "ExecuteTime": {
     "end_time": "2023-11-01T18:50:48.772475Z",
     "start_time": "2023-11-01T18:50:48.679468Z"
    }
   },
   "outputs": [],
   "source": [
    "quantities = [4, 2, 2, 3]\n",
    "prices = [1.2, 1.5, 2, 0.7]"
   ]
  },
  {
   "cell_type": "markdown",
   "id": "adde4651-fb25-46c0-9859-fbc4c7a8ba08",
   "metadata": {},
   "source": [
    "To calculate the total price for the list of items, we multiply the quantity of each item by its price and add the results together:"
   ]
  },
  {
   "cell_type": "code",
   "execution_count": null,
   "id": "f490bb42",
   "metadata": {
    "ExecuteTime": {
     "end_time": "2023-11-01T18:50:48.780831Z",
     "start_time": "2023-11-01T18:50:48.682666Z"
    }
   },
   "outputs": [],
   "source": [
    "print(sum([quantities[k] * prices[k] for k in range(len(quantities))]))"
   ]
  },
  {
   "cell_type": "markdown",
   "id": "284774c0",
   "metadata": {},
   "source": [
    "Listing 7.3 Compute the inner product of two state vectors"
   ]
  },
  {
   "cell_type": "code",
   "execution_count": null,
   "id": "ccbfea41",
   "metadata": {
    "ExecuteTime": {
     "end_time": "2023-11-01T18:50:48.781099Z",
     "start_time": "2023-11-01T18:50:48.686014Z"
    }
   },
   "outputs": [],
   "source": [
    "def inner(v1, v2):\n",
    "    assert(len(v1) == len(v2))\n",
    "    return sum(z1*z2.conjugate() for z1, z2 in zip(v1, v2))"
   ]
  },
  {
   "cell_type": "markdown",
   "id": "877c4608",
   "metadata": {
    "jp-MarkdownHeadingCollapsed": true
   },
   "source": [
    "### The classical (discrete) Fourier transform (section 7.4.1)"
   ]
  },
  {
   "cell_type": "markdown",
   "id": "b92bf496-5b82-417d-87ff-c5df05e049c2",
   "metadata": {},
   "source": [
    "We can represent each Fourier basis in Python code with a list:"
   ]
  },
  {
   "cell_type": "code",
   "execution_count": null,
   "id": "a3f3f1e7",
   "metadata": {
    "ExecuteTime": {
     "end_time": "2023-11-01T18:50:48.782888Z",
     "start_time": "2023-11-01T18:50:48.695908Z"
    }
   },
   "outputs": [],
   "source": [
    "N = 4\n",
    "omega = cis(2*pi/N)\n",
    "\n",
    "F_0 = [omega**(0*k) for k in range(N)]\n",
    "F_1 = [omega**(1*k) for k in range(N)]\n",
    "F_2 = [omega**(2*k) for k in range(N)]\n",
    "F_3 = [omega**(3*k) for k in range(N)]"
   ]
  },
  {
   "cell_type": "markdown",
   "id": "3e730813-61c6-493f-a683-9cd1a22254e4",
   "metadata": {},
   "source": [
    "If we inspect the first basis, we see that its components are equal to 1:"
   ]
  },
  {
   "cell_type": "code",
   "execution_count": null,
   "id": "75c897df",
   "metadata": {
    "ExecuteTime": {
     "end_time": "2023-11-01T18:50:48.783306Z",
     "start_time": "2023-11-01T18:50:48.698608Z"
    }
   },
   "outputs": [],
   "source": [
    "print(F_0)"
   ]
  },
  {
   "cell_type": "markdown",
   "id": "8110b7d3-ad58-42c4-8772-a00ed072fedc",
   "metadata": {},
   "source": [
    "Alternatively, we can use the following code to find the Fourier bases:"
   ]
  },
  {
   "cell_type": "code",
   "execution_count": null,
   "id": "239926c9",
   "metadata": {
    "ExecuteTime": {
     "end_time": "2023-11-01T18:50:48.783513Z",
     "start_time": "2023-11-01T18:50:48.703884Z"
    }
   },
   "outputs": [],
   "source": [
    "N = 4\n",
    "\n",
    "F_0 = [cis(k*0*2*pi/N) for k in range(N)]\n",
    "F_1 = [cis(k*1*2*pi/N) for k in range(N)]\n",
    "F_2 = [cis(k*2*2*pi/N) for k in range(N)]\n",
    "F_3 = [cis(k*3*2*pi/N) for k in range(N)]"
   ]
  },
  {
   "cell_type": "markdown",
   "id": "596b5e0a-aea9-412c-a904-29164d05a119",
   "metadata": {},
   "source": [
    "Let's return to our earlier example of samples from a sinusoidal wave:"
   ]
  },
  {
   "cell_type": "code",
   "execution_count": null,
   "id": "1485a2ac",
   "metadata": {
    "ExecuteTime": {
     "end_time": "2023-11-01T18:50:48.783701Z",
     "start_time": "2023-11-01T18:50:48.707241Z"
    }
   },
   "outputs": [],
   "source": [
    "N = 8\n",
    "frequency = 1.7\n",
    "samples = [1/sqrt(N)*cos(2 * pi * frequency * (i / N)) for i in range(N)]"
   ]
  },
  {
   "cell_type": "markdown",
   "id": "e3655129-3d45-46a1-a264-4d1ecb9255dc",
   "metadata": {},
   "source": [
    "To get the first item of the DFT of this signal, we need to compute the inner product between the discrete signal and the corresponding Fourier basis ($F_0$). We can use the `inner` function defined in the previous section:"
   ]
  },
  {
   "cell_type": "code",
   "execution_count": null,
   "id": "75430754",
   "metadata": {
    "ExecuteTime": {
     "end_time": "2023-11-01T18:50:48.783867Z",
     "start_time": "2023-11-01T18:50:48.711234Z"
    }
   },
   "outputs": [],
   "source": [
    "F_0 = [cis(k*0*2*pi/N) for k in range(N)]\n",
    "similarity = inner(samples, F_0)\n",
    "\n",
    "print(round(similarity.real, 5) + 1j*round(similarity.imag, 5))"
   ]
  },
  {
   "cell_type": "markdown",
   "id": "3b76e8e7-2573-4a0d-b587-1a0cb91708d3",
   "metadata": {},
   "source": [
    "We can compute the entire sequence with a list comprehension:"
   ]
  },
  {
   "cell_type": "code",
   "execution_count": null,
   "id": "38dceb83",
   "metadata": {
    "ExecuteTime": {
     "end_time": "2023-11-01T18:50:48.784183Z",
     "start_time": "2023-11-01T18:50:48.714009Z"
    }
   },
   "outputs": [],
   "source": [
    "dft = [inner(samples, [cis(k*l*2*pi/N) for k in range(N)]) for l in range(8)]\n",
    "\n",
    "for x in dft:\n",
    "    print(round(x.real, 5) + 1j*round(x.imag, 5))"
   ]
  },
  {
   "cell_type": "markdown",
   "id": "b9bfedde-572e-4c15-829b-67711efdba91",
   "metadata": {},
   "source": [
    "Let's check that these results match what we get when we use `numpy`:"
   ]
  },
  {
   "cell_type": "code",
   "execution_count": null,
   "id": "b7830d42",
   "metadata": {
    "ExecuteTime": {
     "end_time": "2023-11-01T18:50:48.784348Z",
     "start_time": "2023-11-01T18:50:48.720198Z"
    }
   },
   "outputs": [],
   "source": [
    "f = np.fft.fft(samples)\n",
    "\n",
    "for x in f:\n",
    "    print(round(x.real, 5) + 1j*round(x.imag, 5))"
   ]
  },
  {
   "cell_type": "markdown",
   "id": "17caaa21",
   "metadata": {
    "jp-MarkdownHeadingCollapsed": true
   },
   "source": [
    "### Introducing the QFT and IQFT (section 7.4.2)"
   ]
  },
  {
   "cell_type": "markdown",
   "id": "74c3b9d7",
   "metadata": {},
   "source": [
    "Listing 7.4 Compute the Fourier basis for a given `N` and `l`"
   ]
  },
  {
   "cell_type": "code",
   "execution_count": null,
   "id": "ce75d519",
   "metadata": {
    "ExecuteTime": {
     "end_time": "2023-11-01T18:50:48.784497Z",
     "start_time": "2023-11-01T18:50:48.723466Z"
    }
   },
   "outputs": [],
   "source": [
    "def fourier_basis(N, l):\n",
    "    return [1/sqrt(N) * cis(k*l*2*pi/N) for k in range(N)]"
   ]
  },
  {
   "cell_type": "markdown",
   "id": "45aa99f9",
   "metadata": {},
   "source": [
    "Listing 7.5 Function for simulating the IQFT on a list representing a quantum state"
   ]
  },
  {
   "cell_type": "code",
   "execution_count": null,
   "id": "1176305c",
   "metadata": {
    "ExecuteTime": {
     "end_time": "2023-11-01T18:50:48.797532Z",
     "start_time": "2023-11-01T18:50:48.746927Z"
    }
   },
   "outputs": [],
   "source": [
    "def icft(state):\n",
    "    N = len(state)\n",
    "    s = [state[k] for k in range(N)]\n",
    "\n",
    "    for i in range(N):\n",
    "        state[i] = inner(s, fourier_basis(N, i))"
   ]
  },
  {
   "cell_type": "markdown",
   "id": "800bdc80",
   "metadata": {},
   "source": [
    "Listing 5.6 Function for simulating the QFT on a list representing a quantum state"
   ]
  },
  {
   "cell_type": "code",
   "execution_count": null,
   "id": "62938f76",
   "metadata": {
    "ExecuteTime": {
     "end_time": "2023-11-01T18:50:48.797662Z",
     "start_time": "2023-11-01T18:50:48.750015Z"
    }
   },
   "outputs": [],
   "source": [
    "def cft(state):\n",
    "    N = len(state)\n",
    "    s = [state[k] for k in range(N)]\n",
    "\n",
    "    for i in range(N):\n",
    "        state[i] = inner(s, fourier_basis(N, -i))"
   ]
  },
  {
   "cell_type": "markdown",
   "id": "e031d998",
   "metadata": {
    "jp-MarkdownHeadingCollapsed": true
   },
   "source": [
    "### Quantum circuits for the QFT and IQFT (section 7.5)"
   ]
  },
  {
   "cell_type": "markdown",
   "id": "f0297610",
   "metadata": {},
   "source": [
    "Listing 7.7 Quantum circuits for QFT and IQFT"
   ]
  },
  {
   "cell_type": "code",
   "execution_count": null,
   "id": "436ec365",
   "metadata": {
    "ExecuteTime": {
     "end_time": "2023-11-01T18:50:48.797721Z",
     "start_time": "2023-11-01T18:50:48.759764Z"
    }
   },
   "outputs": [],
   "source": [
    "def qft(qc, targets, swap=True):\n",
    "    for j in range(len(targets))[::-1]:\n",
    "        qc.h(targets[j])\n",
    "        for k in range(j)[::-1]:\n",
    "            qc.cp(pi * 2.0 ** (k - j), targets[j], targets[k])\n",
    "\n",
    "    if swap:\n",
    "        qc.mswap(targets)\n",
    "\n",
    "\n",
    "def iqft(qc, targets, swap=True):\n",
    "    for j in range(len(targets))[::-1]:\n",
    "        qc.h(targets[j])\n",
    "        for k in range(j)[::-1]:\n",
    "            qc.cp(-pi * 2 ** (k - j), targets[j], targets[k])\n",
    "\n",
    "    if swap:\n",
    "        qc.mswap(targets)\n",
    "\n",
    "class QFT(QuantumCircuit):\n",
    "    def __init__(self, m, reversed=False, swap=True):\n",
    "        super().__init__(QuantumRegister(m))\n",
    "        targets = range(m)\n",
    "        if reversed:\n",
    "            targets = targets[::-1]\n",
    "\n",
    "        qft(self, targets, swap)\n",
    "\n",
    "\n",
    "class IQFT(QuantumCircuit):\n",
    "    def __init__(self, m, reversed=False, swap=True):\n",
    "        super().__init__(QuantumRegister(m))\n",
    "        targets = range(m)\n",
    "        if reversed:\n",
    "            targets = targets[::-1]\n",
    "\n",
    "        iqft(self, targets, swap)"
   ]
  },
  {
   "cell_type": "markdown",
   "id": "be954905-06bf-428e-8c28-ae2aa50ddb03",
   "metadata": {},
   "source": [
    "Listing 7.8 Methods to append QFT and IQFT to a circuit instance\n",
    "\n",
    "**Note:** these will be added to the `QuantumCircuit` class"
   ]
  },
  {
   "cell_type": "code",
   "execution_count": null,
   "id": "c7f9f6bb-c53c-42e1-ba3e-9d41d34c71e0",
   "metadata": {},
   "outputs": [],
   "source": [
    "def append_qft(self, reg, reversed=False, swap=True):\n",
    "    self.append(QFT(len(reg), reversed, swap), reg)\n",
    "\n",
    "def append_iqft(self, reg, reversed=False, swap=True):\n",
    "    self.append(IQFT(len(reg), reversed, swap), reg)"
   ]
  },
  {
   "cell_type": "markdown",
   "id": "16059058-e9e8-4537-af59-622f00481bb2",
   "metadata": {},
   "source": [
    "**Efficient classical implementation**\n",
    "\n",
    "The following is a much more efficient version of the classical implementation of the IQFT shown in the previous section."
   ]
  },
  {
   "cell_type": "code",
   "execution_count": null,
   "id": "e36ff961-5f5a-43a4-8967-ea18cc7a563e",
   "metadata": {},
   "outputs": [],
   "source": [
    "def classical_inverse_fourier(state, step, targets):\n",
    "    n = len(targets)\n",
    "    sq2 = sqrt(2)\n",
    "    sq2i = 1/sqrt(2)\n",
    "    for j in range(n)[::-1]:\n",
    "        dist = 2**j\n",
    "        rot = cis(-pi/dist)\n",
    "        rots = [1 for _ in range(dist)]\n",
    "        r = 1\n",
    "        for m in range(dist):\n",
    "            rots[m] = r\n",
    "            r = r*rot\n",
    "\n",
    "        for l in range(2**(n-j-1)):\n",
    "            i = 0\n",
    "            for k in range(2*l*dist, (2*l+1)*dist):\n",
    "                state[k] = sq2i*(state[k] + state[k+dist])\n",
    "                state[k+dist] = (state[k] - sq2*state[k+dist])*rots[i]\n",
    "                i += 1"
   ]
  },
  {
   "cell_type": "markdown",
   "id": "d09df6eb",
   "metadata": {},
   "source": [
    "### Understanding the IQFT step-by-step (section 7.5.1)"
   ]
  },
  {
   "cell_type": "markdown",
   "id": "72ccc4b5-320a-412d-b146-cfca503b5757",
   "metadata": {},
   "source": [
    "Here is how the successive division method works. We start by dividing a given decimal number (13) by 2 and record the quotient and remainder. Since $13 = 6\\cdot2 + 1$, the quotient is 6 and the remainder is 1. The remainder (1) is the first binary digit of the given number (starting from the right)."
   ]
  },
  {
   "cell_type": "markdown",
   "id": "4f691f15-ed8d-4ea5-82ae-628690eb3ef5",
   "metadata": {},
   "source": [
    "Python has a built-in function called `divmod` that gives the quotient and remainder of a division. If we use it, we get the expected results:"
   ]
  },
  {
   "cell_type": "code",
   "execution_count": null,
   "id": "75b0bbef",
   "metadata": {
    "ExecuteTime": {
     "end_time": "2023-11-01T18:50:48.879905Z",
     "start_time": "2023-11-01T18:50:48.764263Z"
    }
   },
   "outputs": [],
   "source": [
    "divmod(13, 2)"
   ]
  },
  {
   "cell_type": "markdown",
   "id": "6b8bb28d-3463-4ac2-bd1d-b0c806829f57",
   "metadata": {},
   "source": [
    "We continue the process by applying `divmod` to the quotients:"
   ]
  },
  {
   "cell_type": "code",
   "execution_count": null,
   "id": "a04fa706",
   "metadata": {
    "ExecuteTime": {
     "end_time": "2023-11-01T18:50:48.898251Z",
     "start_time": "2023-11-01T18:50:48.767983Z"
    }
   },
   "outputs": [],
   "source": [
    "divmod(6, 2)"
   ]
  },
  {
   "cell_type": "code",
   "execution_count": null,
   "id": "d12f3f87",
   "metadata": {
    "ExecuteTime": {
     "end_time": "2023-11-01T18:50:48.912941Z",
     "start_time": "2023-11-01T18:50:48.773277Z"
    }
   },
   "outputs": [],
   "source": [
    "divmod(3, 2)"
   ]
  },
  {
   "cell_type": "code",
   "execution_count": null,
   "id": "d4e79b38",
   "metadata": {
    "ExecuteTime": {
     "end_time": "2023-11-01T18:50:48.913142Z",
     "start_time": "2023-11-01T18:50:48.776775Z"
    }
   },
   "outputs": [],
   "source": [
    "divmod(1, 2)"
   ]
  }
 ],
 "metadata": {
  "kernelspec": {
   "display_name": "Python 3 (ipykernel)",
   "language": "python",
   "name": "python3"
  },
  "language_info": {
   "codemirror_mode": {
    "name": "ipython",
    "version": 3
   },
   "file_extension": ".py",
   "mimetype": "text/x-python",
   "name": "python",
   "nbconvert_exporter": "python",
   "pygments_lexer": "ipython3",
   "version": "3.9.13"
  }
 },
 "nbformat": 4,
 "nbformat_minor": 5
}
