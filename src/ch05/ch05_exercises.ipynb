{
 "cells": [
  {
   "cell_type": "code",
   "execution_count": null,
   "id": "fcf8f406-3d9a-4332-89e9-d61850b6d316",
   "metadata": {},
   "outputs": [],
   "source": [
    "import sys;\n",
    "sys.path.insert(0, '..')"
   ]
  },
  {
   "cell_type": "code",
   "execution_count": null,
   "id": "dcb72100-d659-480d-868d-198c04a02ebf",
   "metadata": {},
   "outputs": [],
   "source": [
    "from math import sqrt\n",
    "from util import print_state_table, generate_state, is_close\n",
    "\n",
    "from sim_circuit import *"
   ]
  },
  {
   "cell_type": "markdown",
   "id": "6bda0f80-90ab-4b8d-846b-07628ff30444",
   "metadata": {},
   "source": [
    "## Exercise 1\n",
    "\n",
    "Starting with $n = 4$ qubits in a uniform superposition:"
   ]
  },
  {
   "cell_type": "code",
   "execution_count": null,
   "id": "cde6e51c-4afc-4276-aac2-a6dfa81f39dd",
   "metadata": {},
   "outputs": [],
   "source": [
    "n = 4\n",
    "state = [1/sqrt(2**n) for _ in range(2**n)]"
   ]
  },
  {
   "cell_type": "markdown",
   "id": "f44e578b-7d9e-40d8-bc5e-6e46218ea635",
   "metadata": {},
   "source": [
    "Use the classical predicate definition for good outcomes 2 and 9 below to create a classical phase oracle, apply it to the state, and check if the amplitudes of the good outcomes are rotated by $180^\\circ$."
   ]
  },
  {
   "cell_type": "code",
   "execution_count": null,
   "id": "f1868542-9907-44bf-9038-73755973d717",
   "metadata": {},
   "outputs": [],
   "source": [
    "predicate = lambda k: True if k in [2, 9] else False"
   ]
  },
  {
   "cell_type": "markdown",
   "id": "4eb90415-d19d-4976-a450-452be44d6d13",
   "metadata": {},
   "source": [
    "**Answer**:"
   ]
  },
  {
   "cell_type": "code",
   "execution_count": null,
   "id": "80d9f271-a369-4a79-9dc5-56137794579f",
   "metadata": {},
   "outputs": [],
   "source": [
    "def c_phase_oracle(state, predicate):\n",
    "    for item in range(len(state)):\n",
    "        if predicate(item):\n",
    "            state[item] *= -1"
   ]
  },
  {
   "cell_type": "code",
   "execution_count": null,
   "id": "0a629f85-a8c7-40c4-b612-61f717da8f7d",
   "metadata": {},
   "outputs": [],
   "source": [
    "c_phase_oracle(state, predicate)"
   ]
  },
  {
   "cell_type": "code",
   "execution_count": null,
   "id": "74d9d707-5de8-48e0-bffb-e1d6362a5444",
   "metadata": {},
   "outputs": [],
   "source": [
    "print_state_table(state)"
   ]
  },
  {
   "cell_type": "markdown",
   "id": "2368535c-0652-4ac0-bf0b-760faf100d9f",
   "metadata": {},
   "source": [
    "## Exercise 2\n",
    "\n",
    "Create a random state with $n = 4$ qubits and apply a bit oracle for good outcome 11."
   ]
  },
  {
   "cell_type": "markdown",
   "id": "a6feaecd-0aba-4537-a171-2c097c20c363",
   "metadata": {},
   "source": [
    "**Answer:**"
   ]
  },
  {
   "cell_type": "code",
   "execution_count": null,
   "id": "fe3bd014-0bdb-4c95-995b-b2fc703977a9",
   "metadata": {},
   "outputs": [],
   "source": [
    "n = 4\n",
    "state = generate_state(n)"
   ]
  },
  {
   "cell_type": "code",
   "execution_count": null,
   "id": "4206ff01-88bc-45ba-8ea9-e99f025551b3",
   "metadata": {},
   "outputs": [],
   "source": [
    "def c_bit_oracle(state, predicate):\n",
    "    N = len(state)\n",
    "    state = state + [0 for _ in range(N)]\n",
    "    for item in range(N):\n",
    "        if predicate(item):\n",
    "            state[N + item] = state[item]\n",
    "            state[item] = 0\n",
    "    return state"
   ]
  },
  {
   "cell_type": "code",
   "execution_count": null,
   "id": "5a090911-8259-43bd-a98d-4320795088b8",
   "metadata": {},
   "outputs": [],
   "source": [
    "predicate = lambda k: True if k == 11 else False"
   ]
  },
  {
   "cell_type": "code",
   "execution_count": null,
   "id": "385cf9a7-cee8-48b3-9761-d43f63bd4dd9",
   "metadata": {},
   "outputs": [],
   "source": [
    "tag_state = c_bit_oracle(state, predicate)"
   ]
  },
  {
   "cell_type": "code",
   "execution_count": null,
   "id": "8e4b4fb1-6e2c-4a15-bc73-07168f8b5dbe",
   "metadata": {},
   "outputs": [],
   "source": [
    "print_state_table(tag_state)"
   ]
  },
  {
   "cell_type": "markdown",
   "id": "37f225c2-3165-497f-a21e-22c2dc77f083",
   "metadata": {},
   "source": [
    "## Exercise 3\n",
    "\n",
    "Show that for the two properties described above are true for the set of good outcomes $G_4$."
   ]
  },
  {
   "cell_type": "markdown",
   "id": "3d91b020-fe51-453c-b2fc-9c30d3f45c97",
   "metadata": {},
   "source": [
    "**Answer:**\n",
    "\n",
    "For $n = 4$, the set of good outcomes is\n",
    "\n",
    "$$G_4 = \\{0000, 0001, 0010, 0100, 0101, 1000, 1001, 1010\\}$$\n",
    "\n",
    "First property:\n",
    "\n",
    "There are five binary strings in the set of good outcomes $G_4$ with the first digit 0: 0000, 0001, 0010, 0100, 0101.\n",
    "The binary string made up of the last $n - 1 = 3$ digits in each of these binary strings (000, 001, 010, 100, and 101) are in the set\n",
    "\n",
    "$$G_{n - 1} = G_3 = 0000, 0001, 0010, 0100, 0101$$\n",
    "\n",
    "\n",
    "Second property:\n",
    "\n",
    "There are three binary strings in $G_4$ with the first digit 1: 1000, 1001, and 1010.\n",
    "The binary strings made up of the $n - 2 = 2$ digits are in the set\n",
    "\n",
    "$$G_{n - 2} = G_2 = \\{00, 01, 10\\}$$"
   ]
  },
  {
   "cell_type": "markdown",
   "id": "a71c0f25-dbd6-4ed8-af19-bfd5c54c0a10",
   "metadata": {},
   "source": [
    "## Exercise 4\n",
    "\n",
    "Check that the ratio between each pair of good outcomes with the first digit 0 and good outcomes with the first digit 1 is the golden ratio."
   ]
  },
  {
   "cell_type": "markdown",
   "id": "b250563d-0be7-4fb4-9bee-14108e4d12d3",
   "metadata": {},
   "source": [
    "**Answer:**"
   ]
  },
  {
   "cell_type": "code",
   "execution_count": null,
   "id": "b86ad4c1-8072-4789-9e68-6bada78efdfa",
   "metadata": {},
   "outputs": [],
   "source": [
    "from math import asin\n",
    "\n",
    "def fib_circuit(n):\n",
    "    theta = 2*asin((sqrt(5) - 1)/2)\n",
    "\n",
    "    q = QuantumRegister(n)\n",
    "    qc = QuantumCircuit(q)\n",
    "\n",
    "    for i in range(n):\n",
    "        qc.ry(theta, q[i])\n",
    "\n",
    "    for i in range(n - 1):\n",
    "        qc.cry(-theta, q[i], q[i + 1])\n",
    "\n",
    "    return qc"
   ]
  },
  {
   "cell_type": "code",
   "execution_count": null,
   "id": "36017182-4af0-4a58-99de-47b9452391dc",
   "metadata": {},
   "outputs": [],
   "source": [
    "qc = fib_circuit(3)\n",
    "state = qc.run()"
   ]
  },
  {
   "cell_type": "code",
   "execution_count": null,
   "id": "11022e2d-9e6e-4a40-a280-6e64ec3279c7",
   "metadata": {},
   "outputs": [],
   "source": [
    "print_state_table(state)"
   ]
  },
  {
   "cell_type": "markdown",
   "id": "26945e04-6842-4256-af45-4da1c7e78817",
   "metadata": {},
   "source": [
    "The good outcomes with the first digit 0 are 000 (0), 001 (1), and 010 (2). The good outcomes with the first digit 1 are 100 (4) and 101 (5)."
   ]
  },
  {
   "cell_type": "code",
   "execution_count": null,
   "id": "34765f41-85e9-46cd-a6e5-a2295997551a",
   "metadata": {},
   "outputs": [],
   "source": [
    "good_outcomes_0 = [0, 1, 2]\n",
    "good_outcomes_1 = [4, 5]\n",
    "\n",
    "for outcome_0 in good_outcomes_0:\n",
    "    for outcome_1 in good_outcomes_1:\n",
    "        is_close(abs(state[outcome_0])**2/abs(state[outcome_1])**2, (1+sqrt(5))/2)"
   ]
  }
 ],
 "metadata": {
  "kernelspec": {
   "display_name": "Python 3 (ipykernel)",
   "language": "python",
   "name": "python3"
  },
  "language_info": {
   "codemirror_mode": {
    "name": "ipython",
    "version": 3
   },
   "file_extension": ".py",
   "mimetype": "text/x-python",
   "name": "python",
   "nbconvert_exporter": "python",
   "pygments_lexer": "ipython3",
   "version": "3.9.13"
  }
 },
 "nbformat": 4,
 "nbformat_minor": 5
}
