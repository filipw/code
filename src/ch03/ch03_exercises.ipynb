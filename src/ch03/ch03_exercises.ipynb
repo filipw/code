{
 "cells": [
  {
   "cell_type": "code",
   "execution_count": null,
   "metadata": {
    "ExecuteTime": {
     "end_time": "2024-03-31T18:00:16.324855Z",
     "start_time": "2024-03-31T18:00:16.319131Z"
    }
   },
   "outputs": [],
   "source": [
    "import sys\n",
    "sys.path.insert(0, '..')"
   ]
  },
  {
   "cell_type": "code",
   "execution_count": null,
   "metadata": {
    "ExecuteTime": {
     "end_time": "2024-03-31T18:00:17.808749Z",
     "start_time": "2024-03-31T18:00:16.359204Z"
    }
   },
   "outputs": [],
   "source": [
    "from math import sqrt, atan2, pi, cos, sin\n",
    "import numpy as np\n",
    "from util import cis"
   ]
  },
  {
   "cell_type": "markdown",
   "metadata": {},
   "source": [
    "## Exercise 1\n",
    "\n",
    "What directions correspond to amplitudes that are real numbers?\n"
   ]
  },
  {
   "cell_type": "markdown",
   "metadata": {},
   "source": [
    "**Answer**:\n",
    "\n",
    "Directions 0, $\\pm 180^\\circ$/$\\pm \\pi$.\n",
    "\n",
    "Consider the polar form of a complex number:\n",
    "\n",
    "$r(\\cos\\theta + i\\sin\\theta)$\n",
    "\n",
    "If $\\sin \\theta = 0$, then the imaginary part of the complex number will be 0 (so the value will be a real number only).\n",
    "We know that $\\sin \\theta = 0$ for $\\theta = \\pi$ and $\\theta = -\\pi$."
   ]
  },
  {
   "cell_type": "markdown",
   "metadata": {},
   "source": [
    "## Exercise 2\n",
    "\n",
    "Write code that verifies that multiplying the 1-side of the example state below by -1, reverses its direction."
   ]
  },
  {
   "cell_type": "code",
   "execution_count": null,
   "metadata": {
    "ExecuteTime": {
     "end_time": "2024-03-31T18:00:17.813692Z",
     "start_time": "2024-03-31T18:00:17.810587Z"
    }
   },
   "outputs": [],
   "source": [
    "state = [sqrt(0.3), -sqrt(0.7)]"
   ]
  },
  {
   "cell_type": "markdown",
   "metadata": {},
   "source": [
    "**Answer:**"
   ]
  },
  {
   "cell_type": "code",
   "execution_count": null,
   "metadata": {
    "ExecuteTime": {
     "end_time": "2024-03-31T18:00:17.818503Z",
     "start_time": "2024-03-31T18:00:17.814772Z"
    }
   },
   "outputs": [],
   "source": [
    "direction_1side_before = atan2(state[1].real, state[1].imag)\n",
    "print(\"{0}pi radians, {1} degrees\".format(direction_1side_before/pi, direction_1side_before * (180/pi)))"
   ]
  },
  {
   "cell_type": "code",
   "execution_count": null,
   "metadata": {
    "ExecuteTime": {
     "end_time": "2024-03-31T18:00:17.822781Z",
     "start_time": "2024-03-31T18:00:17.820383Z"
    }
   },
   "outputs": [],
   "source": [
    "state = [state[0], -state[1]]"
   ]
  },
  {
   "cell_type": "code",
   "execution_count": null,
   "metadata": {
    "ExecuteTime": {
     "end_time": "2024-03-31T18:00:17.826968Z",
     "start_time": "2024-03-31T18:00:17.823952Z"
    }
   },
   "outputs": [],
   "source": [
    "direction_1side_after = atan2(state[1].real, state[1].imag)\n",
    "print(\"{0}pi radians, {1} degrees\".format(direction_1side_after/pi, direction_1side_after * (180/pi)))"
   ]
  },
  {
   "cell_type": "code",
   "execution_count": null,
   "metadata": {
    "ExecuteTime": {
     "end_time": "2024-03-31T18:00:17.830409Z",
     "start_time": "2024-03-31T18:00:17.827933Z"
    }
   },
   "outputs": [],
   "source": [
    "assert (direction_1side_after == pi+direction_1side_before)"
   ]
  },
  {
   "cell_type": "markdown",
   "metadata": {},
   "source": [
    "# Exercise 3\n",
    "\n",
    "Find the values $a, b, c$ and $d$ for which the following is true for any pair of amplitudes $z_0, z_1$:\n",
    "\n",
    "\n",
    "$$\\begin{bmatrix}\n",
    "a & b\\\\\n",
    "c & d\n",
    "\\end{bmatrix}\n",
    "\\begin{bmatrix}\n",
    "z_0\\\\\n",
    "z_1\n",
    "\\end{bmatrix}\n",
    "=\n",
    "\\begin{bmatrix}\n",
    "z_0 \\\\\n",
    "z_1\n",
    "\\end{bmatrix}$$"
   ]
  },
  {
   "cell_type": "markdown",
   "metadata": {},
   "source": [
    "**Answer:**\n",
    "\n",
    "a=1, b=0, c=0, d=1\n",
    "\n",
    "$\\begin{bmatrix}\n",
    "1 & 0\\\\\n",
    "0 & 1\n",
    "\\end{bmatrix}\n",
    "\\begin{bmatrix}\n",
    "z_0\\\\\n",
    "z_1\n",
    "\\end{bmatrix}\n",
    "=\n",
    "\\begin{bmatrix}\n",
    "z_0 \\\\\n",
    "z_1\n",
    "\\end{bmatrix}$"
   ]
  },
  {
   "cell_type": "code",
   "execution_count": null,
   "metadata": {
    "ExecuteTime": {
     "end_time": "2024-03-31T18:00:17.834034Z",
     "start_time": "2024-03-31T18:00:17.831511Z"
    }
   },
   "outputs": [],
   "source": [
    "state = [sqrt(0.3), -sqrt(0.7)]\n",
    "\n",
    "(a, b, c, d) = (1, 0, 0, 1)\n",
    "state = [a*state[0] + b*state[1], c*state[0] + d*state[1]]"
   ]
  },
  {
   "cell_type": "code",
   "execution_count": null,
   "metadata": {
    "ExecuteTime": {
     "end_time": "2024-03-31T18:00:17.836996Z",
     "start_time": "2024-03-31T18:00:17.835100Z"
    }
   },
   "outputs": [],
   "source": [
    "assert (state == [sqrt(0.3), -sqrt(0.7)])"
   ]
  },
  {
   "cell_type": "markdown",
   "metadata": {},
   "source": [
    "## Exercise 4\n",
    "\n",
    "Show that $YX = -XY$, $ZX = -XZ$, and $ZY = - YZ$."
   ]
  },
  {
   "cell_type": "markdown",
   "metadata": {},
   "source": [
    "**Answer**:\n",
    "\n",
    "$YX = -XY$\n",
    "\n",
    "$\\begin{bmatrix}\n",
    "0 & -i\\\\\n",
    "i & 0\n",
    "\\end{bmatrix}\n",
    "\\begin{bmatrix}\n",
    "0 & 1\\\\\n",
    "1 & 0\n",
    "\\end{bmatrix}\n",
    "=\n",
    "\\begin{bmatrix}\n",
    "0 & -1\\\\\n",
    "-1 & 0\n",
    "\\end{bmatrix}\n",
    "\\begin{bmatrix}\n",
    "0 & -i\\\\\n",
    "i & 0\n",
    "\\end{bmatrix}\n",
    "$\n",
    "\n",
    "$\\begin{bmatrix}\n",
    "-i & 0 \\\\\n",
    "0 & i\n",
    "\\end{bmatrix}\n",
    "=\n",
    "\\begin{bmatrix}\n",
    "-i & 0 \\\\\n",
    "0 & i\n",
    "\\end{bmatrix}$"
   ]
  },
  {
   "cell_type": "code",
   "execution_count": null,
   "metadata": {
    "ExecuteTime": {
     "end_time": "2024-03-31T18:00:17.840234Z",
     "start_time": "2024-03-31T18:00:17.837912Z"
    }
   },
   "outputs": [],
   "source": [
    "x_gate = np.array([[0, 1], [1, 0]])\n",
    "y_gate = np.array([[0, complex(0, -1)], [complex(0, 1), 0]])"
   ]
  },
  {
   "cell_type": "code",
   "execution_count": null,
   "metadata": {
    "ExecuteTime": {
     "end_time": "2024-03-31T18:00:17.848359Z",
     "start_time": "2024-03-31T18:00:17.842686Z"
    }
   },
   "outputs": [],
   "source": [
    "assert (np.matmul(y_gate, x_gate) == np.matmul(-x_gate, y_gate)).all"
   ]
  },
  {
   "cell_type": "markdown",
   "metadata": {},
   "source": [
    "**Answer**:\n",
    "\n",
    "$ZX = -XZ$\n",
    "\n",
    "$\\begin{bmatrix}\n",
    "1 & 0\\\\\n",
    "0 & -1\n",
    "\\end{bmatrix}\n",
    "\\begin{bmatrix}\n",
    "0 & 1\\\\\n",
    "1 & 0\n",
    "\\end{bmatrix}\n",
    "=\n",
    "\\begin{bmatrix}\n",
    "0 & -1\\\\\n",
    "-1 & 0\n",
    "\\end{bmatrix}\n",
    "\\begin{bmatrix}\n",
    "1 & 0\\\\\n",
    "0 & -1\n",
    "\\end{bmatrix}\n",
    "$\n",
    "\n",
    "$\\begin{bmatrix}\n",
    "0 & 1 \\\\\n",
    "-1 & 0\n",
    "\\end{bmatrix}\n",
    "=\n",
    "\\begin{bmatrix}\n",
    "0 & 1 \\\\\n",
    "-1 & 0\n",
    "\\end{bmatrix}$"
   ]
  },
  {
   "cell_type": "code",
   "execution_count": null,
   "metadata": {
    "ExecuteTime": {
     "end_time": "2024-03-31T18:00:17.851969Z",
     "start_time": "2024-03-31T18:00:17.849234Z"
    }
   },
   "outputs": [],
   "source": [
    "x_gate = np.array([[0, 1], [1, 0]])\n",
    "z_gate = np.array([[1, 0], [0, -1]])"
   ]
  },
  {
   "cell_type": "code",
   "execution_count": null,
   "metadata": {
    "ExecuteTime": {
     "end_time": "2024-03-31T18:00:17.855585Z",
     "start_time": "2024-03-31T18:00:17.852913Z"
    }
   },
   "outputs": [],
   "source": [
    "assert (np.matmul(z_gate, x_gate) == np.matmul(-x_gate, z_gate)).all"
   ]
  },
  {
   "cell_type": "markdown",
   "metadata": {},
   "source": [
    "**Answer**:\n",
    "\n",
    "$ZY = -YZ$\n",
    "\n",
    "$\\begin{bmatrix}\n",
    "1 & 0\\\\\n",
    "0 & -1\n",
    "\\end{bmatrix}\n",
    "\\begin{bmatrix}\n",
    "0 & -i\\\\\n",
    "i & 0\n",
    "\\end{bmatrix}\n",
    "=\n",
    "\\begin{bmatrix}\n",
    "0 & i\\\\\n",
    "-i & 0\n",
    "\\end{bmatrix}\n",
    "\\begin{bmatrix}\n",
    "1 & 0\\\\\n",
    "0 & -1\n",
    "\\end{bmatrix}\n",
    "$\n",
    "\n",
    "$\\begin{bmatrix}\n",
    "0 & -i \\\\\n",
    "-i & 0\n",
    "\\end{bmatrix}\n",
    "=\n",
    "\\begin{bmatrix}\n",
    "0 & -i \\\\\n",
    "-i & 0\n",
    "\\end{bmatrix}$"
   ]
  },
  {
   "cell_type": "code",
   "execution_count": null,
   "metadata": {
    "ExecuteTime": {
     "end_time": "2024-03-31T18:00:17.859115Z",
     "start_time": "2024-03-31T18:00:17.856491Z"
    }
   },
   "outputs": [],
   "source": [
    "z_gate = np.array([[1, 0], [0, -1]])\n",
    "y_gate = np.array([[0, complex(0, -1)], [complex(0, 1), 0]])"
   ]
  },
  {
   "cell_type": "code",
   "execution_count": null,
   "metadata": {
    "ExecuteTime": {
     "end_time": "2024-03-31T18:00:17.862416Z",
     "start_time": "2024-03-31T18:00:17.860048Z"
    }
   },
   "outputs": [],
   "source": [
    "assert (np.matmul(z_gate, y_gate) == np.matmul(-y_gate, z_gate)).all"
   ]
  },
  {
   "cell_type": "markdown",
   "metadata": {},
   "source": [
    "## Exercise 5\n",
    "\n",
    "Check that rotations of the same type compose by adding rotation angles.\n",
    "For example, $R_Y(\\theta_2)R_Y(\\theta_1) = R_Y(\\theta_1 + \\theta_2)$.\n"
   ]
  },
  {
   "cell_type": "markdown",
   "metadata": {},
   "source": [
    "**Answer:**\n",
    "\n",
    "$\\begin{bmatrix}\n",
    "\\cos \\frac{\\theta_2}{2} & -\\sin \\frac{\\theta_2}{2}\\\\\n",
    "\\sin \\frac{\\theta_2}{2} & \\cos \\frac{\\theta_2}{2}\n",
    "\\end{bmatrix}\n",
    "\\begin{bmatrix}\n",
    "\\cos \\frac{\\theta_1}{2} & -\\sin \\frac{\\theta_1}{2}\\\\\n",
    "\\sin \\frac{\\theta_1}{2} & \\cos \\frac{\\theta_1}{2}\n",
    "\\end{bmatrix}\n",
    "=\n",
    "\\begin{bmatrix}\n",
    "\\cos \\frac{\\theta_2}{2} \\cos \\frac{\\theta_1}{2} - \\sin \\frac{\\theta_2}{2} \\sin \\frac{\\theta_1}{2} & -\\cos \\frac{\\theta_2}{2} \\sin \\frac{\\theta_1}{2} - \\sin \\frac{\\theta_2}{2}\\cos \\frac{\\theta_1}{2} \\\\\n",
    "\\sin \\frac{\\theta_2}{2} \\cos \\frac{\\theta_1}{2} + \\cos \\frac{\\theta_2}{2}\\sin \\frac{\\theta_1}{2} & -\\sin \\frac{\\theta_2}{2} \\sin \\frac{\\theta_1}{2} + \\cos \\frac{\\theta_2}{2} \\cos \\frac{\\theta_1}{2}\n",
    "\\end{bmatrix}\n",
    "=\n",
    "\\begin{bmatrix}\n",
    "\\cos \\frac{\\theta_2 + \\theta_1}{2} & -\\sin \\frac{\\theta_2 + \\theta_1}{2} \\\\\n",
    "\\sin \\frac{\\theta_2 + \\theta_1}{2} & \\cos \\frac{\\theta_2 + \\theta_1}{2}\n",
    "\\end{bmatrix}\n",
    "$"
   ]
  },
  {
   "cell_type": "code",
   "execution_count": null,
   "metadata": {
    "ExecuteTime": {
     "end_time": "2024-03-31T18:00:17.867461Z",
     "start_time": "2024-03-31T18:00:17.863314Z"
    }
   },
   "outputs": [],
   "source": [
    "state1 = [sqrt(0.3), -sqrt(0.7)]\n",
    "\n",
    "theta1 = pi\n",
    "theta2 = pi/3\n",
    "\n",
    "# apply ry(theta2)\n",
    "(a, b, c, d) = (cos(theta2/2), -sin(theta2/2), sin(theta2/2), cos(theta2/2))\n",
    "state1 = [a*state1[0] + b*state1[1], c*state1[0] + d*state1[1]]\n",
    "\n",
    "# apply ry(theta1)\n",
    "(a, b, c, d) = (cos(theta1/2), -sin(theta1/2), sin(theta1/2), cos(theta1/2))\n",
    "state1 = [a*state1[0] + b*state1[1], c*state1[0] + d*state1[1]]"
   ]
  },
  {
   "cell_type": "code",
   "execution_count": null,
   "metadata": {
    "ExecuteTime": {
     "end_time": "2024-03-31T18:00:17.874974Z",
     "start_time": "2024-03-31T18:00:17.868486Z"
    }
   },
   "outputs": [],
   "source": [
    "state1"
   ]
  },
  {
   "cell_type": "code",
   "execution_count": null,
   "metadata": {
    "ExecuteTime": {
     "end_time": "2024-03-31T18:00:17.879903Z",
     "start_time": "2024-03-31T18:00:17.876217Z"
    }
   },
   "outputs": [],
   "source": [
    "state2 = [sqrt(0.3), -sqrt(0.7)]\n",
    "\n",
    "# apply ry(theta1 + theta2)\n",
    "(a, b, c, d) = (cos((theta1 + theta2)/2), -sin((theta1 + theta2)/2), sin((theta1 + theta2)/2), cos((theta1 + theta2)/2))\n",
    "state2 = [a*state2[0] + b*state2[1], c*state2[0] + d*state2[1]]"
   ]
  },
  {
   "cell_type": "code",
   "execution_count": null,
   "metadata": {
    "ExecuteTime": {
     "end_time": "2024-03-31T18:00:17.883029Z",
     "start_time": "2024-03-31T18:00:17.880790Z"
    }
   },
   "outputs": [],
   "source": [
    "state2"
   ]
  },
  {
   "cell_type": "code",
   "execution_count": null,
   "metadata": {
    "ExecuteTime": {
     "end_time": "2024-03-31T18:00:17.886104Z",
     "start_time": "2024-03-31T18:00:17.883938Z"
    }
   },
   "outputs": [],
   "source": [
    "from util import all_close\n",
    "\n",
    "assert all_close(state1, state2)"
   ]
  },
  {
   "cell_type": "markdown",
   "metadata": {},
   "source": [
    "## Exercise 6\n",
    "\n",
    "Use the definitions of the Y, Z, and H gates to prove that they are their own inverses.\n"
   ]
  },
  {
   "cell_type": "markdown",
   "metadata": {},
   "source": [
    "**Y-Gate**:"
   ]
  },
  {
   "cell_type": "code",
   "execution_count": null,
   "metadata": {
    "ExecuteTime": {
     "end_time": "2024-03-31T18:00:17.889843Z",
     "start_time": "2024-03-31T18:00:17.887107Z"
    }
   },
   "outputs": [],
   "source": [
    "state = [sqrt(0.3), -sqrt(0.7)]\n",
    "state"
   ]
  },
  {
   "cell_type": "code",
   "execution_count": null,
   "metadata": {
    "ExecuteTime": {
     "end_time": "2024-03-31T18:00:17.893902Z",
     "start_time": "2024-03-31T18:00:17.890817Z"
    }
   },
   "outputs": [],
   "source": [
    "# apply Y-gate\n",
    "state = [-1j*state[1], 1j*state[0]]\n",
    "state"
   ]
  },
  {
   "cell_type": "code",
   "execution_count": null,
   "metadata": {
    "ExecuteTime": {
     "end_time": "2024-03-31T18:00:17.898253Z",
     "start_time": "2024-03-31T18:00:17.895265Z"
    },
    "scrolled": false
   },
   "outputs": [],
   "source": [
    "# apply second Y-gate\n",
    "state = [-1j*state[1], 1j*state[0]]\n",
    "state"
   ]
  },
  {
   "cell_type": "markdown",
   "metadata": {},
   "source": [
    "**Z-Gate**"
   ]
  },
  {
   "cell_type": "code",
   "execution_count": null,
   "metadata": {
    "ExecuteTime": {
     "end_time": "2024-03-31T18:00:17.902028Z",
     "start_time": "2024-03-31T18:00:17.899014Z"
    }
   },
   "outputs": [],
   "source": [
    "state = [sqrt(0.3), -sqrt(0.7)]\n",
    "state"
   ]
  },
  {
   "cell_type": "code",
   "execution_count": null,
   "metadata": {
    "ExecuteTime": {
     "end_time": "2024-03-31T18:00:17.906059Z",
     "start_time": "2024-03-31T18:00:17.903123Z"
    }
   },
   "outputs": [],
   "source": [
    "# apply Z-gate\n",
    "state = [state[0], -state[1]]\n",
    "state"
   ]
  },
  {
   "cell_type": "code",
   "execution_count": null,
   "metadata": {
    "ExecuteTime": {
     "end_time": "2024-03-31T18:00:17.910223Z",
     "start_time": "2024-03-31T18:00:17.907140Z"
    }
   },
   "outputs": [],
   "source": [
    "# apply second Z-gate\n",
    "state = [state[0], -state[1]]\n",
    "state"
   ]
  },
  {
   "cell_type": "markdown",
   "metadata": {},
   "source": [
    "**Hadamard Gate**"
   ]
  },
  {
   "cell_type": "code",
   "execution_count": null,
   "metadata": {
    "ExecuteTime": {
     "end_time": "2024-03-31T18:00:17.913966Z",
     "start_time": "2024-03-31T18:00:17.911183Z"
    }
   },
   "outputs": [],
   "source": [
    "state = [sqrt(0.3), -sqrt(0.7)]\n",
    "state"
   ]
  },
  {
   "cell_type": "code",
   "execution_count": null,
   "metadata": {
    "ExecuteTime": {
     "end_time": "2024-03-31T18:00:17.918308Z",
     "start_time": "2024-03-31T18:00:17.914859Z"
    }
   },
   "outputs": [],
   "source": [
    "# Apply H-gate\n",
    "state = [sqrt(0.5)*(state[0] + state[1]), sqrt(0.5)*(state[0] -state[1])]\n",
    "state"
   ]
  },
  {
   "cell_type": "code",
   "execution_count": null,
   "metadata": {
    "ExecuteTime": {
     "end_time": "2024-03-31T18:00:17.925856Z",
     "start_time": "2024-03-31T18:00:17.922506Z"
    }
   },
   "outputs": [],
   "source": [
    "# Apply second H-gate\n",
    "state = [sqrt(0.5)*(state[0] + state[1]), sqrt(0.5)*(state[0] -state[1])]\n",
    "state"
   ]
  }
 ],
 "metadata": {
  "kernelspec": {
   "display_name": "Python 3 (ipykernel)",
   "language": "python",
   "name": "python3"
  },
  "language_info": {
   "codemirror_mode": {
    "name": "ipython",
    "version": 3
   },
   "file_extension": ".py",
   "mimetype": "text/x-python",
   "name": "python",
   "nbconvert_exporter": "python",
   "pygments_lexer": "ipython3",
   "version": "3.9.13"
  }
 },
 "nbformat": 4,
 "nbformat_minor": 1
}
