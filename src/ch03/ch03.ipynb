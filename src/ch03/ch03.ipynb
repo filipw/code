{
 "cells": [
  {
   "cell_type": "code",
   "execution_count": null,
   "id": "39e91671",
   "metadata": {
    "ExecuteTime": {
     "end_time": "2024-03-31T17:58:53.460019Z",
     "start_time": "2024-03-31T17:58:53.453353Z"
    }
   },
   "outputs": [],
   "source": [
    "import sys;\n",
    "sys.path.insert(0, '..')"
   ]
  },
  {
   "cell_type": "markdown",
   "id": "72fbed3e",
   "metadata": {},
   "source": [
    "## Chapter 3 Code Snippets and Listings"
   ]
  },
  {
   "cell_type": "markdown",
   "id": "a18efcf6",
   "metadata": {},
   "source": [
    "### Encoding single-qubit states with lists (section 3.1.3)"
   ]
  },
  {
   "cell_type": "markdown",
   "id": "290feb1a",
   "metadata": {},
   "source": [
    "Example single-qubit quantum states as a list of complex numbers:"
   ]
  },
  {
   "cell_type": "code",
   "execution_count": null,
   "id": "initial_id",
   "metadata": {
    "ExecuteTime": {
     "end_time": "2024-03-31T17:58:53.945919Z",
     "start_time": "2024-03-31T17:58:53.943476Z"
    }
   },
   "outputs": [],
   "source": [
    "state = [0.2958+0.51235j, -0.40311+0.69821j] # in Python j is the imaginary unit"
   ]
  },
  {
   "cell_type": "code",
   "execution_count": null,
   "id": "815c1606",
   "metadata": {
    "ExecuteTime": {
     "end_time": "2024-03-31T17:58:53.983023Z",
     "start_time": "2024-03-31T17:58:53.975588Z"
    }
   },
   "outputs": [],
   "source": [
    "state[0]"
   ]
  },
  {
   "cell_type": "code",
   "execution_count": null,
   "id": "516d8a14",
   "metadata": {
    "ExecuteTime": {
     "end_time": "2024-03-31T17:58:54.036018Z",
     "start_time": "2024-03-31T17:58:54.033056Z"
    }
   },
   "outputs": [],
   "source": [
    "from math import sqrt\n",
    "\n",
    "state1 = [1, 0]\n",
    "\n",
    "state2 = [0, 1]\n",
    "\n",
    "state3 = [sqrt(1/2), sqrt(1/2)]\n",
    "\n",
    "state4 = [sqrt(0.3), sqrt(0.7)]"
   ]
  },
  {
   "cell_type": "markdown",
   "id": "e184a9b6",
   "metadata": {},
   "source": [
    "We can use the built-in Python functions `real` and `imag` to get the real and imaginary parts of a complex number:"
   ]
  },
  {
   "cell_type": "code",
   "execution_count": null,
   "id": "2c003b6d",
   "metadata": {
    "ExecuteTime": {
     "end_time": "2024-03-31T17:58:54.064119Z",
     "start_time": "2024-03-31T17:58:54.061400Z"
    }
   },
   "outputs": [],
   "source": [
    "state = [1, 0]\n",
    "print(state[0].real, state[0].imag)"
   ]
  },
  {
   "cell_type": "markdown",
   "id": "1558a854",
   "metadata": {},
   "source": [
    "The sum of the squared magnitudes must be 1. We can get the magnitude using the `abs` function:"
   ]
  },
  {
   "cell_type": "code",
   "execution_count": null,
   "id": "3735d4b9",
   "metadata": {
    "ExecuteTime": {
     "end_time": "2024-03-31T17:58:54.123946Z",
     "start_time": "2024-03-31T17:58:54.121077Z"
    }
   },
   "outputs": [],
   "source": [
    "state = [1, 0]\n",
    "assert sum([abs(k)**2 for k in state]) == 1\n",
    "\n",
    "state1 = [sqrt(0.3), sqrt(0.7)]\n",
    "assert sum([abs(k)**2 for k in state1]) == 1"
   ]
  },
  {
   "cell_type": "markdown",
   "id": "4014ddb3",
   "metadata": {},
   "source": [
    "Example of a negative real number amplitude, whose angle is $180^\\circ$ or $\\pi$:"
   ]
  },
  {
   "cell_type": "code",
   "execution_count": null,
   "id": "89daaaef",
   "metadata": {
    "ExecuteTime": {
     "end_time": "2024-03-31T17:58:54.150493Z",
     "start_time": "2024-03-31T17:58:54.148012Z"
    }
   },
   "outputs": [],
   "source": [
    "state = [sqrt(0.3), -sqrt(0.7)]"
   ]
  },
  {
   "cell_type": "markdown",
   "id": "fc39b914",
   "metadata": {},
   "source": [
    "Get the direction of an amplitude in radians using the `atan2` function:"
   ]
  },
  {
   "cell_type": "code",
   "execution_count": null,
   "id": "e2507f97",
   "metadata": {
    "ExecuteTime": {
     "end_time": "2024-03-31T17:58:54.196370Z",
     "start_time": "2024-03-31T17:58:54.193389Z"
    }
   },
   "outputs": [],
   "source": [
    "from math import atan2\n",
    "\n",
    "state = [sqrt(0.3), -sqrt(0.7)]\n",
    "direction = atan2(state[1].imag, state[1].real) # Remember the direction (in radians) is atan2(y, x)\n",
    "print(direction)"
   ]
  },
  {
   "cell_type": "markdown",
   "id": "92c35f96",
   "metadata": {},
   "source": [
    "Convert from radians to degrees:"
   ]
  },
  {
   "cell_type": "code",
   "execution_count": null,
   "id": "6cb702a7",
   "metadata": {
    "ExecuteTime": {
     "end_time": "2024-03-31T17:58:54.224873Z",
     "start_time": "2024-03-31T17:58:54.221298Z"
    }
   },
   "outputs": [],
   "source": [
    "from math import pi\n",
    "\n",
    "direction * (180/pi)"
   ]
  },
  {
   "cell_type": "markdown",
   "id": "57767be8",
   "metadata": {},
   "source": [
    "Example state with amplitude directions $\\frac{5\\pi}{7}$ and $\\frac{\\pi}{5}$ radians:"
   ]
  },
  {
   "cell_type": "code",
   "execution_count": null,
   "id": "fe2a14c8",
   "metadata": {
    "ExecuteTime": {
     "end_time": "2024-03-31T17:58:54.273247Z",
     "start_time": "2024-03-31T17:58:54.270488Z"
    }
   },
   "outputs": [],
   "source": [
    "from math import cos, sin\n",
    "\n",
    "state = [sqrt(0.3) * (cos(5 * pi / 7) + 1j * sin(5 * pi / 7)),\n",
    "         sqrt(0.7) * (cos(pi / 5) + 1j * sin(pi / 5))]\n",
    "\n",
    "print(state)"
   ]
  },
  {
   "cell_type": "code",
   "execution_count": null,
   "id": "ce4ba187",
   "metadata": {
    "ExecuteTime": {
     "end_time": "2024-03-31T17:58:54.300595Z",
     "start_time": "2024-03-31T17:58:54.297790Z"
    }
   },
   "outputs": [],
   "source": [
    "table = [[k, state[k]] for k in range(len(state))]\n",
    "for row in table:\n",
    "    print(row)"
   ]
  },
  {
   "cell_type": "code",
   "execution_count": null,
   "id": "7c49788f",
   "metadata": {
    "ExecuteTime": {
     "end_time": "2024-03-31T17:58:54.361739Z",
     "start_time": "2024-03-31T17:58:54.358558Z"
    }
   },
   "outputs": [],
   "source": [
    "formatted_table = [\n",
    "    [round(x.real, 5) + 1j * round(x.imag, 5) if isinstance(x, complex) else x\n",
    "     for x in table[k]] for k in range(len(table))]\n",
    "for row in formatted_table:\n",
    "    print(row)"
   ]
  },
  {
   "cell_type": "markdown",
   "id": "bd802a3a",
   "metadata": {},
   "source": [
    "Get the magnitude of an amplitude:"
   ]
  },
  {
   "cell_type": "code",
   "execution_count": null,
   "id": "a4fcbcec",
   "metadata": {
    "ExecuteTime": {
     "end_time": "2024-03-31T17:58:54.408482Z",
     "start_time": "2024-03-31T17:58:54.405721Z"
    }
   },
   "outputs": [],
   "source": [
    "abs(state[0])"
   ]
  },
  {
   "cell_type": "markdown",
   "id": "75574159",
   "metadata": {},
   "source": [
    "Get the probability of an outcome by squaring the magnitude:"
   ]
  },
  {
   "cell_type": "code",
   "execution_count": null,
   "id": "a9cd8d4a",
   "metadata": {
    "ExecuteTime": {
     "end_time": "2024-03-31T17:58:54.461139Z",
     "start_time": "2024-03-31T17:58:54.458005Z"
    }
   },
   "outputs": [],
   "source": [
    "abs(state[0])**2"
   ]
  },
  {
   "cell_type": "markdown",
   "id": "a38f7356",
   "metadata": {},
   "source": [
    "Create state table with a row for each outcome and the corresponding amplitude, direction, magnitude and probability:"
   ]
  },
  {
   "cell_type": "code",
   "execution_count": null,
   "id": "12c2c84f",
   "metadata": {
    "ExecuteTime": {
     "end_time": "2024-03-31T17:58:54.485103Z",
     "start_time": "2024-03-31T17:58:54.480812Z"
    }
   },
   "outputs": [],
   "source": [
    "expanded_table = [\n",
    "    [k, state[k], atan2(state[k].imag, state[k].real) * (180 / pi),\n",
    "     abs(state[k]), abs(state[k]) ** 2] for k in range(len(state))]\n",
    "\n",
    "formatted_expanded_table = [[round(x, 5) if isinstance(x, float) else round(\n",
    "    x.real, 5) + 1j * round(x.imag, 5) if isinstance(x, complex) else x for\n",
    "                             x in expanded_table[k]] for k in\n",
    "                            range(len(expanded_table))]\n",
    "\n",
    "for row in formatted_expanded_table:\n",
    "    print(row)"
   ]
  },
  {
   "cell_type": "markdown",
   "id": "1420a20f",
   "metadata": {},
   "source": [
    "In the notebooks, we will use the function below to create state tables:"
   ]
  },
  {
   "cell_type": "code",
   "execution_count": null,
   "id": "92b6dab3",
   "metadata": {
    "ExecuteTime": {
     "end_time": "2024-03-31T17:58:56.134810Z",
     "start_time": "2024-03-31T17:58:54.537484Z"
    }
   },
   "outputs": [],
   "source": [
    "from util import print_state_table\n",
    "\n",
    "print_state_table(state)"
   ]
  },
  {
   "cell_type": "markdown",
   "id": "7c506605",
   "metadata": {},
   "source": [
    "### Writing a single-qubit quantum computing simulator in Python (section 3.1.4)"
   ]
  },
  {
   "cell_type": "markdown",
   "id": "9ae01ecf",
   "metadata": {},
   "source": [
    "Listing 3.1 Function to create a default single-qubit state"
   ]
  },
  {
   "cell_type": "code",
   "execution_count": null,
   "id": "019a0ef5",
   "metadata": {
    "ExecuteTime": {
     "end_time": "2024-03-31T17:58:56.139824Z",
     "start_time": "2024-03-31T17:58:56.136575Z"
    }
   },
   "outputs": [],
   "source": [
    "def init_state():\n",
    "    state = [0 for _ in range(2)] # Create a list with two 0 entries\n",
    "    state[0] = 1 # Change the first value (index 0) to 1 because in a default single-qubit state the probability of outcome 0 is 1\n",
    "    return state"
   ]
  },
  {
   "cell_type": "code",
   "execution_count": null,
   "id": "b4f2c628",
   "metadata": {
    "ExecuteTime": {
     "end_time": "2024-03-31T17:58:56.143670Z",
     "start_time": "2024-03-31T17:58:56.140740Z"
    }
   },
   "outputs": [],
   "source": [
    "state = init_state()\n",
    "print(state)"
   ]
  },
  {
   "cell_type": "markdown",
   "id": "64295498",
   "metadata": {},
   "source": [
    "Listing 3.2 Function for validating a list of complex numbers is a valid single-qubit state"
   ]
  },
  {
   "cell_type": "code",
   "execution_count": null,
   "id": "fddf2c22",
   "metadata": {
    "ExecuteTime": {
     "end_time": "2024-03-31T17:58:56.148650Z",
     "start_time": "2024-03-31T17:58:56.145626Z"
    }
   },
   "outputs": [],
   "source": [
    "from util import is_close\n",
    "\n",
    "def prepare_state(*a):\n",
    "    state = [a[k] for k in range(len(a))] # Create a new state object using the values passed to the function\n",
    "    assert(len(state) == 2) # Check that the state has two amplitudes\n",
    "    assert(is_close(sum([abs(state[k])**2 for k in range(len(state))]), 1)) # Check that the sum of the magnitudes is 1\n",
    "    return state"
   ]
  },
  {
   "cell_type": "code",
   "execution_count": null,
   "id": "f28a6603",
   "metadata": {
    "ExecuteTime": {
     "end_time": "2024-03-31T17:58:56.151989Z",
     "start_time": "2024-03-31T17:58:56.149619Z"
    }
   },
   "outputs": [],
   "source": [
    "list = [0.2958+0.51235j, -0.40311+0.69821j]\n",
    "state = prepare_state(*list)"
   ]
  },
  {
   "cell_type": "markdown",
   "id": "3248f51d",
   "metadata": {},
   "source": [
    "#### Rotation shortcut (section 3.2.1)"
   ]
  },
  {
   "cell_type": "markdown",
   "id": "0c3a126a",
   "metadata": {},
   "source": [
    "Listing 3.3 Shortcut function for rotations"
   ]
  },
  {
   "cell_type": "code",
   "execution_count": null,
   "id": "46c336aa",
   "metadata": {
    "ExecuteTime": {
     "end_time": "2024-03-31T17:58:56.155260Z",
     "start_time": "2024-03-31T17:58:56.152965Z"
    }
   },
   "outputs": [],
   "source": [
    "def cis(theta):\n",
    "    return cos(theta) + 1j*sin(theta)"
   ]
  },
  {
   "cell_type": "markdown",
   "id": "032ed818",
   "metadata": {},
   "source": [
    "#### Basic single-qubit gates (section 3.2.2)"
   ]
  },
  {
   "cell_type": "markdown",
   "id": "111f808c",
   "metadata": {},
   "source": [
    "The following code snippets simulate gate transformations on a single-qubit state."
   ]
  },
  {
   "cell_type": "markdown",
   "id": "4ed9d909",
   "metadata": {},
   "source": [
    "**X-gate:**"
   ]
  },
  {
   "cell_type": "code",
   "execution_count": null,
   "id": "17fb2ebd",
   "metadata": {
    "ExecuteTime": {
     "end_time": "2024-03-31T17:58:56.158290Z",
     "start_time": "2024-03-31T17:58:56.156253Z"
    }
   },
   "outputs": [],
   "source": [
    "state = [state[1], state[0]]"
   ]
  },
  {
   "cell_type": "markdown",
   "id": "ae3e0685",
   "metadata": {},
   "source": [
    "Example:"
   ]
  },
  {
   "cell_type": "code",
   "execution_count": null,
   "id": "406cab82",
   "metadata": {
    "ExecuteTime": {
     "end_time": "2024-03-31T17:58:56.163342Z",
     "start_time": "2024-03-31T17:58:56.159195Z"
    }
   },
   "outputs": [],
   "source": [
    "state = [0.2958+0.51235j, -0.40311+0.69821j]\n",
    "print_state_table(state)\n",
    "\n",
    "state = [state[1], state[0]]\n",
    "\n",
    "print_state_table(state)"
   ]
  },
  {
   "cell_type": "markdown",
   "id": "21a63733",
   "metadata": {},
   "source": [
    "**Y-gate:**"
   ]
  },
  {
   "cell_type": "code",
   "execution_count": null,
   "id": "9d787676b96b7c1c",
   "metadata": {
    "ExecuteTime": {
     "end_time": "2024-03-31T17:58:56.166842Z",
     "start_time": "2024-03-31T17:58:56.164670Z"
    }
   },
   "outputs": [],
   "source": [
    "state = [state[0], -state[1]]"
   ]
  },
  {
   "cell_type": "markdown",
   "id": "8380d76f",
   "metadata": {},
   "source": [
    "Example:"
   ]
  },
  {
   "cell_type": "code",
   "execution_count": null,
   "id": "5e279677",
   "metadata": {
    "ExecuteTime": {
     "end_time": "2024-03-31T17:58:56.174532Z",
     "start_time": "2024-03-31T17:58:56.170326Z"
    }
   },
   "outputs": [],
   "source": [
    "state = [0.2958+0.51235j, -0.40311+0.69821j]\n",
    "print_state_table(state)\n",
    "\n",
    "state = [state[0], -state[1]]\n",
    "\n",
    "print_state_table(state)"
   ]
  },
  {
   "cell_type": "markdown",
   "id": "8df840ec",
   "metadata": {},
   "source": [
    "**Phase gate:**"
   ]
  },
  {
   "cell_type": "code",
   "execution_count": null,
   "id": "282317df",
   "metadata": {
    "ExecuteTime": {
     "end_time": "2024-03-31T17:58:56.178190Z",
     "start_time": "2024-03-31T17:58:56.175711Z"
    }
   },
   "outputs": [],
   "source": [
    "phi = pi/6\n",
    "state = [state[0], cis(phi)*state[1]] # we can use the cis shortcut function from listing 3.3"
   ]
  },
  {
   "cell_type": "markdown",
   "id": "799f0eeb",
   "metadata": {},
   "source": [
    "Example:"
   ]
  },
  {
   "cell_type": "code",
   "execution_count": null,
   "id": "80cdbcf4",
   "metadata": {
    "ExecuteTime": {
     "end_time": "2024-03-31T17:58:56.183400Z",
     "start_time": "2024-03-31T17:58:56.179499Z"
    }
   },
   "outputs": [],
   "source": [
    "state = [0.2958+0.51235j, -0.40311+0.69821j]\n",
    "print_state_table(state)\n",
    "\n",
    "phi = pi/6\n",
    "state = [state[0], cis(phi)*state[1]]\n",
    "\n",
    "print_state_table(state)"
   ]
  },
  {
   "cell_type": "markdown",
   "id": "ffc0d7cc",
   "metadata": {},
   "source": [
    "**Hadamard gate:**"
   ]
  },
  {
   "cell_type": "code",
   "execution_count": null,
   "id": "827e5434",
   "metadata": {
    "ExecuteTime": {
     "end_time": "2024-03-31T17:58:56.186825Z",
     "start_time": "2024-03-31T17:58:56.184441Z"
    }
   },
   "outputs": [],
   "source": [
    "state = [sqrt(0.5)*(state[0] + state[1]), sqrt(0.5)*(state[0] -state[1])]"
   ]
  },
  {
   "cell_type": "markdown",
   "id": "44669c67",
   "metadata": {},
   "source": [
    "Example:"
   ]
  },
  {
   "cell_type": "code",
   "execution_count": null,
   "id": "28c16f0d",
   "metadata": {
    "ExecuteTime": {
     "end_time": "2024-03-31T17:58:56.192090Z",
     "start_time": "2024-03-31T17:58:56.187890Z"
    }
   },
   "outputs": [],
   "source": [
    "state = [0.2958+0.51235j, -0.40311+0.69821j]\n",
    "print_state_table(state)\n",
    "\n",
    "state = [sqrt(0.5)*(state[0] + state[1]), sqrt(0.5)*(state[0] -state[1])]\n",
    "\n",
    "print_state_table(state)"
   ]
  },
  {
   "cell_type": "markdown",
   "id": "7e6b8339",
   "metadata": {},
   "source": [
    "**$R_Z$-gate:**"
   ]
  },
  {
   "cell_type": "code",
   "execution_count": null,
   "id": "8bb6776c",
   "metadata": {
    "ExecuteTime": {
     "end_time": "2024-03-31T17:58:56.195301Z",
     "start_time": "2024-03-31T17:58:56.193060Z"
    }
   },
   "outputs": [],
   "source": [
    "theta = pi/3\n",
    "state = [cis(-theta/2)*state[0], cis(theta/2)*state[1]]"
   ]
  },
  {
   "cell_type": "markdown",
   "id": "819c6ced",
   "metadata": {},
   "source": [
    "Example:"
   ]
  },
  {
   "cell_type": "code",
   "execution_count": null,
   "id": "738fdbb6",
   "metadata": {
    "ExecuteTime": {
     "end_time": "2024-03-31T17:58:56.200546Z",
     "start_time": "2024-03-31T17:58:56.196238Z"
    }
   },
   "outputs": [],
   "source": [
    "state = [0.2958+0.51235j, -0.40311+0.69821j]\n",
    "print_state_table(state)\n",
    "\n",
    "theta = pi/3\n",
    "state = [cis(-theta/2)*state[0], cis(theta/2)*state[1]]\n",
    "\n",
    "print_state_table(state)"
   ]
  },
  {
   "cell_type": "markdown",
   "id": "eddf4cfa",
   "metadata": {},
   "source": [
    "**Y-gate:**"
   ]
  },
  {
   "cell_type": "code",
   "execution_count": null,
   "id": "9a23b5d5",
   "metadata": {
    "ExecuteTime": {
     "end_time": "2024-03-31T17:58:56.203851Z",
     "start_time": "2024-03-31T17:58:56.201597Z"
    }
   },
   "outputs": [],
   "source": [
    "state = [-1j*state[1], 1j*state[0]]"
   ]
  },
  {
   "cell_type": "markdown",
   "id": "3708917f",
   "metadata": {},
   "source": [
    "Example:"
   ]
  },
  {
   "cell_type": "code",
   "execution_count": null,
   "id": "7446c5f1",
   "metadata": {
    "ExecuteTime": {
     "end_time": "2024-03-31T17:58:56.210060Z",
     "start_time": "2024-03-31T17:58:56.205861Z"
    }
   },
   "outputs": [],
   "source": [
    "state = [0.2958+0.51235j, -0.40311+0.69821j]\n",
    "print_state_table(state)\n",
    "\n",
    "theta = pi/3\n",
    "state = [-1j*state[1], 1j*state[0]]\n",
    "\n",
    "print_state_table(state)"
   ]
  },
  {
   "cell_type": "markdown",
   "id": "fc7eb933",
   "metadata": {},
   "source": [
    "#### The general form of a single-qubit gate (section 3.2.3)"
   ]
  },
  {
   "cell_type": "markdown",
   "id": "eb4e6f8a",
   "metadata": {},
   "source": [
    "Applying a Hadamard gate to a single qubit state using the general form of single-qubit gates:"
   ]
  },
  {
   "cell_type": "code",
   "execution_count": null,
   "id": "a1824463",
   "metadata": {
    "ExecuteTime": {
     "end_time": "2024-03-31T17:58:56.215644Z",
     "start_time": "2024-03-31T17:58:56.212100Z"
    }
   },
   "outputs": [],
   "source": [
    "(a, b, c, d) = (1/sqrt(2), 1/sqrt(2), 1/sqrt(2), -1/sqrt(2))\n",
    "state = [a*state[0] + b*state[1], c*state[0] + d*state[1]]"
   ]
  },
  {
   "cell_type": "markdown",
   "id": "e610c7cf",
   "metadata": {},
   "source": [
    "#### More basic single-qubit gates (section 3.2.4)"
   ]
  },
  {
   "cell_type": "markdown",
   "id": "e21d3329",
   "metadata": {},
   "source": [
    "**$R_X$-gate**\n",
    "\n",
    "Following are examples of applying a $R_X$-gate to an initial single-qubit state with various angle parameters:"
   ]
  },
  {
   "cell_type": "code",
   "execution_count": null,
   "id": "cbbeeb88",
   "metadata": {
    "ExecuteTime": {
     "end_time": "2024-03-31T17:58:56.223105Z",
     "start_time": "2024-03-31T17:58:56.217206Z"
    }
   },
   "outputs": [],
   "source": [
    "state = init_state()\n",
    "\n",
    "print_state_table(state)\n",
    "\n",
    "theta = 0\n",
    "(a, b, c, d) = (cos(theta/2), complex(0, -sin(theta/2)), complex(0, -sin(theta/2)), cos(theta/2))\n",
    "state = [a*state[0] + b*state[1], c*state[0] + d*state[1]]\n",
    "print_state_table(state)"
   ]
  },
  {
   "cell_type": "code",
   "execution_count": null,
   "id": "7ad449be",
   "metadata": {
    "ExecuteTime": {
     "end_time": "2024-03-31T17:58:56.231442Z",
     "start_time": "2024-03-31T17:58:56.224629Z"
    }
   },
   "outputs": [],
   "source": [
    "state = init_state()\n",
    "\n",
    "print_state_table(state)\n",
    "\n",
    "theta = pi\n",
    "(a, b, c, d) = (cos(theta/2), complex(0, -sin(theta/2)), complex(0, -sin(theta/2)), cos(theta/2))\n",
    "state = [a*state[0] + b*state[1], c*state[0] + d*state[1]]\n",
    "print_state_table(state)"
   ]
  },
  {
   "cell_type": "code",
   "execution_count": null,
   "id": "e4b3a306",
   "metadata": {
    "ExecuteTime": {
     "end_time": "2024-03-31T17:58:56.239955Z",
     "start_time": "2024-03-31T17:58:56.233732Z"
    }
   },
   "outputs": [],
   "source": [
    "state = init_state()\n",
    "\n",
    "print_state_table(state)\n",
    "\n",
    "theta = pi/2\n",
    "(a, b, c, d) = (cos(theta/2), complex(0, -sin(theta/2)), complex(0, -sin(theta/2)), cos(theta/2))\n",
    "state = [a*state[0] + b*state[1], c*state[0] + d*state[1]]\n",
    "print_state_table(state)"
   ]
  },
  {
   "cell_type": "code",
   "execution_count": null,
   "id": "ce96924e",
   "metadata": {
    "ExecuteTime": {
     "end_time": "2024-03-31T17:58:56.253458Z",
     "start_time": "2024-03-31T17:58:56.244544Z"
    }
   },
   "outputs": [],
   "source": [
    "state = init_state()\n",
    "\n",
    "print_state_table(state)\n",
    "\n",
    "theta = 2*pi\n",
    "(a, b, c, d) = (cos(theta/2), complex(0, -sin(theta/2)), complex(0, -sin(theta/2)), cos(theta/2))\n",
    "state = [a*state[0] + b*state[1], c*state[0] + d*state[1]]\n",
    "print_state_table(state)"
   ]
  },
  {
   "cell_type": "code",
   "execution_count": null,
   "id": "2ef01e88",
   "metadata": {
    "ExecuteTime": {
     "end_time": "2024-03-31T17:58:56.269997Z",
     "start_time": "2024-03-31T17:58:56.262994Z"
    }
   },
   "outputs": [],
   "source": [
    "state = init_state()\n",
    "\n",
    "print_state_table(state)\n",
    "\n",
    "theta = 3*pi/2\n",
    "(a, b, c, d) = (cos(theta/2), complex(0, -sin(theta/2)), complex(0, -sin(theta/2)), cos(theta/2))\n",
    "state = [a*state[0] + b*state[1], c*state[0] + d*state[1]]\n",
    "print_state_table(state)"
   ]
  },
  {
   "cell_type": "markdown",
   "id": "6d612111",
   "metadata": {},
   "source": [
    "**$R_Y$-gate**\n",
    "\n",
    "Following are examples of applying a $R_Y$-gate to an initial single-qubit state with various angle parameters:"
   ]
  },
  {
   "cell_type": "code",
   "execution_count": null,
   "id": "4c180c83",
   "metadata": {
    "ExecuteTime": {
     "end_time": "2024-03-31T17:58:56.275145Z",
     "start_time": "2024-03-31T17:58:56.271011Z"
    }
   },
   "outputs": [],
   "source": [
    "state = init_state()\n",
    "\n",
    "print_state_table(state)\n",
    "\n",
    "theta = 0\n",
    "(a, b, c, d) = (cos(theta/2), -sin(theta/2), sin(theta/2), cos(theta/2))\n",
    "state = [a*state[0] + b*state[1], c*state[0] + d*state[1]]\n",
    "print_state_table(state)"
   ]
  },
  {
   "cell_type": "code",
   "execution_count": null,
   "id": "1e70f61b",
   "metadata": {
    "ExecuteTime": {
     "end_time": "2024-03-31T17:58:56.280803Z",
     "start_time": "2024-03-31T17:58:56.276117Z"
    }
   },
   "outputs": [],
   "source": [
    "state = init_state()\n",
    "\n",
    "print_state_table(state)\n",
    "\n",
    "theta = pi\n",
    "(a, b, c, d) = (cos(theta/2), -sin(theta/2), sin(theta/2), cos(theta/2))\n",
    "state = [a*state[0] + b*state[1], c*state[0] + d*state[1]]\n",
    "print_state_table(state)"
   ]
  },
  {
   "cell_type": "code",
   "execution_count": null,
   "id": "7e76c167",
   "metadata": {
    "ExecuteTime": {
     "end_time": "2024-03-31T17:58:56.285609Z",
     "start_time": "2024-03-31T17:58:56.281711Z"
    }
   },
   "outputs": [],
   "source": [
    "state = init_state()\n",
    "\n",
    "print_state_table(state)\n",
    "\n",
    "theta = pi/2\n",
    "(a, b, c, d) = (cos(theta/2), -sin(theta/2), sin(theta/2), cos(theta/2))\n",
    "state = [a*state[0] + b*state[1], c*state[0] + d*state[1]]\n",
    "print_state_table(state)"
   ]
  },
  {
   "cell_type": "code",
   "execution_count": null,
   "id": "98339de3",
   "metadata": {
    "ExecuteTime": {
     "end_time": "2024-03-31T17:58:56.296259Z",
     "start_time": "2024-03-31T17:58:56.291523Z"
    }
   },
   "outputs": [],
   "source": [
    "state = init_state()\n",
    "\n",
    "print_state_table(state)\n",
    "\n",
    "theta = 2*pi\n",
    "(a, b, c, d) = (cos(theta/2), -sin(theta/2), sin(theta/2), cos(theta/2))\n",
    "state = [a*state[0] + b*state[1], c*state[0] + d*state[1]]\n",
    "print_state_table(state)"
   ]
  },
  {
   "cell_type": "code",
   "execution_count": null,
   "id": "749d079a",
   "metadata": {
    "ExecuteTime": {
     "end_time": "2024-03-31T17:58:56.302010Z",
     "start_time": "2024-03-31T17:58:56.297154Z"
    }
   },
   "outputs": [],
   "source": [
    "state = init_state()\n",
    "\n",
    "print_state_table(state)\n",
    "\n",
    "theta = 3*pi/2\n",
    "(a, b, c, d) = (cos(theta/2), -sin(theta/2), sin(theta/2), cos(theta/2))\n",
    "state = [a*state[0] + b*state[1], c*state[0] + d*state[1]]\n",
    "print_state_table(state)"
   ]
  },
  {
   "cell_type": "markdown",
   "id": "3fc2a2b9",
   "metadata": {},
   "source": [
    "#### Single-qubit gate inverses (section 3.2.5)"
   ]
  },
  {
   "cell_type": "code",
   "execution_count": null,
   "id": "f455f5b0",
   "metadata": {
    "ExecuteTime": {
     "end_time": "2024-03-31T17:58:56.305449Z",
     "start_time": "2024-03-31T17:58:56.302977Z"
    }
   },
   "outputs": [],
   "source": [
    "state = init_state() # create a single-qubit default state\n",
    "\n",
    "state = [state[1], state[0]] # Apply an X-gate to the state\n",
    "\n",
    "print(state)"
   ]
  },
  {
   "cell_type": "code",
   "execution_count": null,
   "id": "25775758",
   "metadata": {
    "ExecuteTime": {
     "end_time": "2024-03-31T17:58:56.308960Z",
     "start_time": "2024-03-31T17:58:56.306509Z"
    }
   },
   "outputs": [],
   "source": [
    "state = [state[1], state[0]]\n",
    "\n",
    "print(state)"
   ]
  },
  {
   "cell_type": "markdown",
   "id": "91e9d6d4",
   "metadata": {},
   "source": [
    "#### Printing and visualizing the state (section 3.3.1)\n"
   ]
  },
  {
   "cell_type": "markdown",
   "id": "f225faf0",
   "metadata": {},
   "source": [
    "Listing 3.4 Function for visualizing a quantum state with a state table"
   ]
  },
  {
   "cell_type": "code",
   "execution_count": null,
   "id": "491682c0",
   "metadata": {
    "ExecuteTime": {
     "end_time": "2024-03-31T17:58:56.315497Z",
     "start_time": "2024-03-31T17:58:56.310751Z"
    }
   },
   "outputs": [],
   "source": [
    "def to_table(s, decimals=5):\n",
    "    table = [\n",
    "        [k, s[k], atan2(s[k].imag, s[k].real) / (2 * pi) * 360, abs(s[k]),\n",
    "         abs(s[k]) ** 2] for k in range(len(s))] # Create nested lists with outcome, amplitude, direction, magnitude, and probability\n",
    "\n",
    "    table_r = [[round(x, decimals) if isinstance(x, float) else round(\n",
    "        x.real) + 1j * round(x.imag, decimals) if isinstance(x,complex) else\n",
    "    x for x in table[k]] for k in range(len(table))] # Round the values (the default number of digits is 5)\n",
    "\n",
    "    return table_r\n",
    "\n",
    "def print_state(state, decimals=5): # Create a function that prints the state table for a given state\n",
    "    print(*to_table(state, decimals),sep='\\n')"
   ]
  },
  {
   "cell_type": "code",
   "execution_count": null,
   "id": "dfc938e9",
   "metadata": {
    "ExecuteTime": {
     "end_time": "2024-03-31T17:58:56.319238Z",
     "start_time": "2024-03-31T17:58:56.316716Z"
    }
   },
   "outputs": [],
   "source": [
    "state = init_state()\n",
    "print_state(state)"
   ]
  },
  {
   "cell_type": "markdown",
   "id": "20695dfa",
   "metadata": {},
   "source": [
    "#### Transforming a single-qubit state (section 3.3.2)"
   ]
  },
  {
   "cell_type": "markdown",
   "id": "8ff56b68",
   "metadata": {},
   "source": [
    "We can use nested lists to encode the four values of a gate:"
   ]
  },
  {
   "cell_type": "code",
   "execution_count": null,
   "id": "b253ef73",
   "metadata": {
    "ExecuteTime": {
     "end_time": "2024-03-31T17:58:56.322444Z",
     "start_time": "2024-03-31T17:58:56.320230Z"
    }
   },
   "outputs": [],
   "source": [
    "gate = [[a, b], [c, d]]"
   ]
  },
  {
   "cell_type": "markdown",
   "id": "4412fe4e",
   "metadata": {},
   "source": [
    "Listing 3.5 Code implementations of basic single-qubit gates"
   ]
  },
  {
   "cell_type": "code",
   "execution_count": null,
   "id": "ef8d6979",
   "metadata": {
    "ExecuteTime": {
     "end_time": "2024-03-31T17:58:56.328959Z",
     "start_time": "2024-03-31T17:58:56.323371Z"
    }
   },
   "outputs": [],
   "source": [
    "x = [[0, 1], [1, 0]]\n",
    "\n",
    "z = [[1, 0], [0, -1]]\n",
    "\n",
    "def phase(theta):\n",
    "    return [[1, 0], [0, complex(cos(theta), sin(theta))]]\n",
    "\n",
    "h = [[1/sqrt(2), 1/sqrt(2)], [1/sqrt(2), -1/sqrt(2)]]\n",
    "\n",
    "def rz(theta):\n",
    "    return [[complex(cos(theta / 2), -sin(theta / 2)), 0],\n",
    "            [0, complex(cos(theta / 2), sin(theta / 2))]]\n",
    "\n",
    "y = [[0, complex(0, -1)], [complex(0, 1), 0]]\n",
    "\n",
    "def rx(theta):\n",
    "    return [[cos(theta/2), complex(0, -sin(theta/2))],\n",
    "            [complex(0, -sin(theta/2)), cos(theta/2)]]\n",
    "\n",
    "def ry(theta):\n",
    "    return [[cos(theta/2), -sin(theta/2)], [sin(theta/2), cos(theta/2)]]"
   ]
  },
  {
   "cell_type": "markdown",
   "id": "b70a9671",
   "metadata": {},
   "source": [
    "We can compute the new amplitude for outcome 0 with:"
   ]
  },
  {
   "cell_type": "code",
   "execution_count": null,
   "id": "56abf2be",
   "metadata": {
    "ExecuteTime": {
     "end_time": "2024-03-31T17:58:56.333846Z",
     "start_time": "2024-03-31T17:58:56.330237Z"
    }
   },
   "outputs": [],
   "source": [
    "gate[0][0]*state[0] + gate[0][1]*state[1]"
   ]
  },
  {
   "cell_type": "markdown",
   "id": "f13dc8a4",
   "metadata": {},
   "source": [
    "and the new amplitude for outcome 1 with:"
   ]
  },
  {
   "cell_type": "code",
   "execution_count": null,
   "id": "0312bcc6",
   "metadata": {
    "ExecuteTime": {
     "end_time": "2024-03-31T17:58:56.338261Z",
     "start_time": "2024-03-31T17:58:56.335044Z"
    }
   },
   "outputs": [],
   "source": [
    "gate[1][0]*state[0] + gate[1][1]*state[1]"
   ]
  },
  {
   "cell_type": "markdown",
   "id": "62e3c6cd",
   "metadata": {},
   "source": [
    "Listing 3.6 Function for simulating applying gate transformations to a single-qubit gate"
   ]
  },
  {
   "cell_type": "code",
   "execution_count": null,
   "id": "32ea5e68",
   "metadata": {
    "ExecuteTime": {
     "end_time": "2024-03-31T17:58:56.342354Z",
     "start_time": "2024-03-31T17:58:56.339347Z"
    }
   },
   "outputs": [],
   "source": [
    "def transform(state, gate):\n",
    "    assert(len(state) == 2) # Check that the state has two values\n",
    "    z0 = state[0]\n",
    "    z1 = state[1]\n",
    "    state[0] = gate[0][0]*z0 + gate[0][1]*z1 # Find the new value of the first amplitude\n",
    "    state[1] = gate[1][0]*z0 + gate[1][1]*z1 # Find the new value of the second amplitude"
   ]
  },
  {
   "cell_type": "markdown",
   "id": "fed52cd6",
   "metadata": {},
   "source": [
    "#### Single-qubit circuits (section 3.3.3)"
   ]
  },
  {
   "cell_type": "markdown",
   "id": "ce092403",
   "metadata": {},
   "source": [
    "Example single-qubit circuit:"
   ]
  },
  {
   "cell_type": "code",
   "execution_count": null,
   "id": "a37a5517",
   "metadata": {
    "ExecuteTime": {
     "end_time": "2024-03-31T17:58:56.345969Z",
     "start_time": "2024-03-31T17:58:56.343273Z"
    }
   },
   "outputs": [],
   "source": [
    "s = init_state()\n",
    "transform(s, ry(2*pi/3))\n",
    "transform(s, x)\n",
    "transform(s, phase(pi/3))\n",
    "transform(s, h)"
   ]
  },
  {
   "cell_type": "code",
   "execution_count": null,
   "id": "51de6638",
   "metadata": {
    "ExecuteTime": {
     "end_time": "2024-03-31T17:58:56.349122Z",
     "start_time": "2024-03-31T17:58:56.346979Z"
    }
   },
   "outputs": [],
   "source": [
    "print_state(s)"
   ]
  },
  {
   "cell_type": "code",
   "execution_count": null,
   "id": "310d5174",
   "metadata": {
    "ExecuteTime": {
     "end_time": "2024-03-31T17:58:56.353359Z",
     "start_time": "2024-03-31T17:58:56.350198Z"
    }
   },
   "outputs": [],
   "source": [
    "print_state_table(s)"
   ]
  },
  {
   "cell_type": "markdown",
   "id": "0c695a62",
   "metadata": {},
   "source": [
    "### Simulating measurement of single-qubit states (section 3.4)"
   ]
  },
  {
   "cell_type": "markdown",
   "id": "2ac43b1f",
   "metadata": {},
   "source": [
    "Simulate 10 runs of the example circuit above:"
   ]
  },
  {
   "cell_type": "code",
   "execution_count": null,
   "id": "be8ca1a7",
   "metadata": {
    "ExecuteTime": {
     "end_time": "2024-03-31T17:58:56.357528Z",
     "start_time": "2024-03-31T17:58:56.354296Z"
    }
   },
   "outputs": [],
   "source": [
    "from random import choices\n",
    "from collections import Counter\n",
    "\n",
    "samples = choices(range(len(s)), [abs(s[k])**2 for k in range(len(s))], k=10) # we can use a list comprehension to find the respective probabilities\n",
    "print(samples)"
   ]
  },
  {
   "cell_type": "code",
   "execution_count": null,
   "id": "638f841f",
   "metadata": {
    "ExecuteTime": {
     "end_time": "2024-03-31T17:58:56.361810Z",
     "start_time": "2024-03-31T17:58:56.358830Z"
    }
   },
   "outputs": [],
   "source": [
    "for (k, v) in Counter(samples).items():\n",
    "    print(str(k) + ' -> ' + str(v))"
   ]
  },
  {
   "cell_type": "markdown",
   "id": "d3b0faae",
   "metadata": {},
   "source": [
    "Simulate 1000 runs of the example circuit:"
   ]
  },
  {
   "cell_type": "code",
   "execution_count": null,
   "id": "e35bd43f",
   "metadata": {
    "ExecuteTime": {
     "end_time": "2024-03-31T17:58:56.366273Z",
     "start_time": "2024-03-31T17:58:56.363047Z"
    }
   },
   "outputs": [],
   "source": [
    "samples = choices(range(len(s)), [abs(s[k])**2 for k in range(len(s))], k=1000)\n",
    "for (k, v) in Counter(samples).items():\n",
    "    print(str(k) + ' -> ' + str(v))"
   ]
  },
  {
   "cell_type": "markdown",
   "id": "d743fbab",
   "metadata": {},
   "source": [
    "### Encoding the uniform distribution in a single-qubit quantum state (section 3.4.1)"
   ]
  },
  {
   "cell_type": "code",
   "execution_count": null,
   "id": "6de647d9",
   "metadata": {
    "ExecuteTime": {
     "end_time": "2024-03-31T17:58:56.369470Z",
     "start_time": "2024-03-31T17:58:56.367139Z"
    }
   },
   "outputs": [],
   "source": [
    "state = init_state()\n",
    "\n",
    "transform(state, h)\n",
    "\n",
    "print_state(state)"
   ]
  },
  {
   "cell_type": "code",
   "execution_count": null,
   "id": "a85c8a60",
   "metadata": {
    "ExecuteTime": {
     "end_time": "2024-03-31T17:58:56.373860Z",
     "start_time": "2024-03-31T17:58:56.370484Z"
    }
   },
   "outputs": [],
   "source": [
    "samples = choices(range(len(state)), [abs(state[k])**2 for k in range(len(state))], k=10)\n",
    "\n",
    "for (k, v) in Counter(samples).items():\n",
    "    print(str(k) + ' -> ' + str(v))"
   ]
  },
  {
   "cell_type": "markdown",
   "id": "32c6600e",
   "metadata": {},
   "source": [
    "#### Encoding a Bernoulli distribution in a single-qubit quantum state (section 3.5.1)"
   ]
  },
  {
   "cell_type": "code",
   "execution_count": null,
   "id": "758a2ac4",
   "metadata": {
    "ExecuteTime": {
     "end_time": "2024-03-31T17:58:56.377835Z",
     "start_time": "2024-03-31T17:58:56.374956Z"
    }
   },
   "outputs": [],
   "source": [
    "from math import acos\n",
    "\n",
    "p = 0.7\n",
    "theta = 2*acos(sqrt(p)) # find theta according to p\n",
    "\n",
    "s = init_state()\n",
    "transform(s, ry(theta)) # apply an ry(theta) rotation\n",
    "\n",
    "print_state(s)"
   ]
  },
  {
   "cell_type": "code",
   "execution_count": null,
   "id": "260f72ae",
   "metadata": {
    "ExecuteTime": {
     "end_time": "2024-03-31T17:58:56.381258Z",
     "start_time": "2024-03-31T17:58:56.378757Z"
    }
   },
   "outputs": [],
   "source": [
    "print_state_table(s)"
   ]
  },
  {
   "cell_type": "markdown",
   "id": "3f445cad",
   "metadata": {},
   "source": [
    "#### Encoding a number with a single-qubit (section 3.5.2)"
   ]
  },
  {
   "cell_type": "markdown",
   "id": "69d3a32e",
   "metadata": {},
   "source": [
    "Encoding the value $x = 273.5$ in the magnitude of an amplitude:"
   ]
  },
  {
   "cell_type": "code",
   "execution_count": null,
   "id": "ac24af08",
   "metadata": {
    "ExecuteTime": {
     "end_time": "2024-03-31T17:58:56.384722Z",
     "start_time": "2024-03-31T17:58:56.382178Z"
    }
   },
   "outputs": [],
   "source": [
    "x = 273.5\n",
    "theta = 2*acos(x/1000) # find theta according to the value of x\n",
    "assert is_close(cos(theta/2), x/1000) # check that theta is close to value to be encoded\n",
    "\n",
    "state = init_state()\n",
    "transform(state, ry(theta)) # apply an ry(theta) rotation"
   ]
  },
  {
   "cell_type": "code",
   "execution_count": null,
   "id": "f5df3507",
   "metadata": {
    "ExecuteTime": {
     "end_time": "2024-03-31T17:58:56.387753Z",
     "start_time": "2024-03-31T17:58:56.385556Z"
    }
   },
   "outputs": [],
   "source": [
    "print_state(state)"
   ]
  },
  {
   "cell_type": "code",
   "execution_count": null,
   "id": "0bba50b5",
   "metadata": {
    "ExecuteTime": {
     "end_time": "2024-03-31T17:58:56.391407Z",
     "start_time": "2024-03-31T17:58:56.388748Z"
    }
   },
   "outputs": [],
   "source": [
    "print_state_table(state)"
   ]
  },
  {
   "cell_type": "markdown",
   "id": "e946f247",
   "metadata": {},
   "source": [
    "Encoding the value $x = 273.5$ in the phase of an amplitude:"
   ]
  },
  {
   "cell_type": "code",
   "execution_count": null,
   "id": "194f6d38",
   "metadata": {
    "ExecuteTime": {
     "end_time": "2024-03-31T17:58:56.395116Z",
     "start_time": "2024-03-31T17:58:56.392456Z"
    }
   },
   "outputs": [],
   "source": [
    "x = 273.5\n",
    "theta = pi*x/1000 # find theta according to the value of x\n",
    "\n",
    "state = init_state()\n",
    "transform(state, h) # apply an H-gate\n",
    "transform(state, phase(theta)) # apply a p(theta) rotation\n",
    "\n",
    "print_state(state)"
   ]
  },
  {
   "cell_type": "code",
   "execution_count": null,
   "id": "dc526422",
   "metadata": {
    "ExecuteTime": {
     "end_time": "2024-03-31T17:58:56.398572Z",
     "start_time": "2024-03-31T17:58:56.395909Z"
    }
   },
   "outputs": [],
   "source": [
    "print_state_table(state)"
   ]
  },
  {
   "cell_type": "code",
   "execution_count": null,
   "id": "a5b06a07",
   "metadata": {
    "ExecuteTime": {
     "end_time": "2024-03-31T17:58:56.402221Z",
     "start_time": "2024-03-31T17:58:56.399340Z"
    }
   },
   "outputs": [],
   "source": [
    "direction_1 = atan2(state[1].imag, state[1].real) # get direction of amplitude corresponding to outcome 1\n",
    "round(direction_1/pi*1000, 1) # solve for x"
   ]
  }
 ],
 "metadata": {
  "kernelspec": {
   "display_name": "Python 3 (ipykernel)",
   "language": "python",
   "name": "python3"
  },
  "language_info": {
   "codemirror_mode": {
    "name": "ipython",
    "version": 3
   },
   "file_extension": ".py",
   "mimetype": "text/x-python",
   "name": "python",
   "nbconvert_exporter": "python",
   "pygments_lexer": "ipython3",
   "version": "3.9.13"
  }
 },
 "nbformat": 4,
 "nbformat_minor": 5
}
