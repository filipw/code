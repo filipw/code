{
 "cells": [
  {
   "cell_type": "code",
   "execution_count": null,
   "metadata": {
    "ExecuteTime": {
     "end_time": "2023-11-15T16:52:11.139244Z",
     "start_time": "2023-11-15T16:52:10.369499Z"
    }
   },
   "outputs": [],
   "source": [
    "import sys;\n",
    "sys.path.insert(0, '..')"
   ]
  },
  {
   "cell_type": "markdown",
   "metadata": {},
   "source": [
    "## Chapter 9 Code Snippets and Listings"
   ]
  },
  {
   "cell_type": "markdown",
   "metadata": {
    "jp-MarkdownHeadingCollapsed": true
   },
   "source": [
    "### Estimating the frequency of a periodic quantum state (9.1)"
   ]
  },
  {
   "cell_type": "markdown",
   "metadata": {},
   "source": [
    "Listing 9.1 Function to create a circuit that encodes a frequency value `v` in a quantum state with `n` qubits"
   ]
  },
  {
   "cell_type": "code",
   "execution_count": null,
   "metadata": {
    "ExecuteTime": {
     "end_time": "2023-11-15T16:52:11.139533Z",
     "start_time": "2023-11-15T16:52:10.498725Z"
    }
   },
   "outputs": [],
   "source": [
    "from sim_circuit import QuantumRegister, QuantumCircuit\n",
    "from math import pi\n",
    "\n",
    "def encode_frequency(n, v):\n",
    "    q = QuantumRegister(n)\n",
    "    qc = QuantumCircuit(q)\n",
    "\n",
    "    for j in range(n):\n",
    "        qc.h(q[j])\n",
    "\n",
    "    for j in range(n):\n",
    "        qc.p(2 * pi / 2 ** (n - j) * v, q[j])\n",
    "\n",
    "    qc.report('geometric_sequence') # This report will show us the geometric sequence state\n",
    "\n",
    "    qc.iqft(range(n))\n",
    "\n",
    "    qc.report('iqft')\n",
    "\n",
    "    return qc"
   ]
  },
  {
   "cell_type": "markdown",
   "metadata": {},
   "source": [
    "Listing 9.2 Generate a phased discrete sinc state with `n` qubits and a frequency value `v`"
   ]
  },
  {
   "cell_type": "code",
   "execution_count": null,
   "metadata": {
    "ExecuteTime": {
     "start_time": "2023-11-15T16:52:10.523444Z"
    }
   },
   "outputs": [],
   "source": [
    "from util import cis, prod\n",
    "\n",
    "def complex_sincd(n, v):\n",
    "    N = 2 ** n\n",
    "    return [prod(\n",
    "        cos((v - k) * pi / 2 ** (j + 1)) * cis((v - k) * pi / 2 ** (j + 1))\n",
    "        for j in range(n)) for k in range(2 ** n)]"
   ]
  },
  {
   "cell_type": "markdown",
   "metadata": {},
   "source": [
    "Let's consider two examples. We will create two circuits with $n = 3$ qubits, and frequencies $v = 3$ and $v = 3.8$, using the function calls below:"
   ]
  },
  {
   "cell_type": "code",
   "execution_count": null,
   "metadata": {
    "ExecuteTime": {
     "start_time": "2023-11-15T16:52:10.524904Z"
    }
   },
   "outputs": [],
   "source": [
    "n = 3\n",
    "\n",
    "qc1 = encode_frequency(n, 3)\n",
    "\n",
    "qc2 = encode_frequency(n, 3.8)"
   ]
  },
  {
   "cell_type": "markdown",
   "metadata": {},
   "source": [
    "Let's simulate 10 runs of this circuit:"
   ]
  },
  {
   "cell_type": "code",
   "execution_count": null,
   "metadata": {
    "ExecuteTime": {
     "start_time": "2023-11-15T16:52:10.526892Z"
    }
   },
   "outputs": [],
   "source": [
    "result = qc1.measure(shots = 10)"
   ]
  },
  {
   "cell_type": "code",
   "execution_count": null,
   "metadata": {
    "ExecuteTime": {
     "start_time": "2023-11-15T16:52:10.528625Z"
    }
   },
   "outputs": [],
   "source": [
    "result['counts']"
   ]
  },
  {
   "cell_type": "code",
   "execution_count": null,
   "metadata": {
    "ExecuteTime": {
     "start_time": "2023-11-15T16:52:10.530310Z"
    }
   },
   "outputs": [],
   "source": [
    "from util import plot_bars\n",
    "\n",
    "for outcome in range(2**n):\n",
    "    result['counts'][outcome] = result['counts'].get(outcome, 0)\n",
    "    \n",
    "plot_bars(dict(sorted(result['counts'].items())), '', 'Outcomes', 'Frequency', color='grey')"
   ]
  },
  {
   "cell_type": "markdown",
   "metadata": {},
   "source": [
    "Next, let's simulate 10 runs of the second example circuit (`v = 3.8`):"
   ]
  },
  {
   "cell_type": "code",
   "execution_count": null,
   "metadata": {
    "ExecuteTime": {
     "start_time": "2023-11-15T16:52:10.532355Z"
    }
   },
   "outputs": [],
   "source": [
    "result = qc2.measure(shots = 10)"
   ]
  },
  {
   "cell_type": "code",
   "execution_count": null,
   "metadata": {
    "ExecuteTime": {
     "start_time": "2023-11-15T16:52:10.534098Z"
    }
   },
   "outputs": [],
   "source": [
    "result['counts']"
   ]
  },
  {
   "cell_type": "code",
   "execution_count": null,
   "metadata": {
    "ExecuteTime": {
     "start_time": "2023-11-15T16:52:10.535788Z"
    }
   },
   "outputs": [],
   "source": [
    "for outcome in range(2**n):\n",
    "    result['counts'][outcome] = result['counts'].get(outcome, 0)\n",
    "    \n",
    "plot_bars(dict(sorted(result['counts'].items())), '', 'Outcomes', 'Frequency', color='grey')"
   ]
  },
  {
   "cell_type": "markdown",
   "metadata": {
    "jp-MarkdownHeadingCollapsed": true
   },
   "source": [
    "### Getting better angle estimates with more qubits (section 9.1.1)"
   ]
  },
  {
   "cell_type": "markdown",
   "metadata": {},
   "source": [
    "First, let's create a circuit with $n = 3$ and $v_3 = 4.76$:"
   ]
  },
  {
   "cell_type": "code",
   "execution_count": null,
   "metadata": {
    "ExecuteTime": {
     "start_time": "2023-11-15T16:52:10.537334Z"
    }
   },
   "outputs": [],
   "source": [
    "n = 3\n",
    "v = 4.76\n",
    "qc = encode_frequency(n, v)"
   ]
  },
  {
   "cell_type": "code",
   "execution_count": null,
   "metadata": {
    "ExecuteTime": {
     "start_time": "2023-11-15T16:52:10.538958Z"
    }
   },
   "outputs": [],
   "source": [
    "from util import list_to_dict\n",
    "\n",
    "state = qc.run()\n",
    "probs = [abs(a)**2 for a in state]\n",
    "plot_bars(list_to_dict(probs, False), f'v = {v}', 'Outcomes', 'Probabilities')"
   ]
  },
  {
   "cell_type": "code",
   "execution_count": null,
   "metadata": {
    "ExecuteTime": {
     "start_time": "2023-11-15T16:52:10.540815Z"
    }
   },
   "outputs": [],
   "source": [
    "result = qc.measure(shots = 100)\n",
    "\n",
    "result['counts']"
   ]
  },
  {
   "cell_type": "markdown",
   "metadata": {},
   "source": [
    "Let's simulate 100 shots of this circuit:"
   ]
  },
  {
   "cell_type": "code",
   "execution_count": null,
   "metadata": {
    "ExecuteTime": {
     "start_time": "2023-11-15T16:52:10.542329Z"
    }
   },
   "outputs": [],
   "source": [
    "n = 5\n",
    "v = 19.05\n",
    "qc = encode_frequency(n, v)"
   ]
  },
  {
   "cell_type": "code",
   "execution_count": null,
   "metadata": {
    "ExecuteTime": {
     "start_time": "2023-11-15T16:52:10.543953Z"
    }
   },
   "outputs": [],
   "source": [
    "state = qc.run()\n",
    "probs = [abs(a)**2 for a in state]\n",
    "plot_bars(list_to_dict(probs, False), f'v = {v}', 'Outcomes', 'Probabilities')"
   ]
  },
  {
   "cell_type": "markdown",
   "metadata": {},
   "source": [
    "Let's simulate 100 runs of this circuit:"
   ]
  },
  {
   "cell_type": "code",
   "execution_count": null,
   "metadata": {
    "ExecuteTime": {
     "start_time": "2023-11-15T16:52:10.545546Z"
    }
   },
   "outputs": [],
   "source": [
    "result = qc.measure(shots = 100)\n",
    "\n",
    "result['counts']"
   ]
  },
  {
   "cell_type": "markdown",
   "metadata": {
    "jp-MarkdownHeadingCollapsed": true
   },
   "source": [
    "### Reading between the ticks: getting better estimates with interpolation (section 9.1.2)"
   ]
  },
  {
   "cell_type": "markdown",
   "metadata": {},
   "source": [
    "We can approximate the decimal part of the encoded frequency by\n",
    "\n",
    "$$\\frac{\\sqrt{p_a}}{\\sqrt{p_a} + \\sqrt{p_b}}$$\n",
    "\n",
    "where $p_a$ and $p_b$ are the probabilities of the outcomes that fall above and below the true value $v$ of a frequency that is not an integer."
   ]
  },
  {
   "cell_type": "markdown",
   "metadata": {},
   "source": [
    "Let's apply this method by revisiting the circuit for $n = 3$ and $v_3 = 4.76$, where the simulated measurement results were:"
   ]
  },
  {
   "cell_type": "code",
   "execution_count": null,
   "metadata": {
    "ExecuteTime": {
     "start_time": "2023-11-15T16:52:10.547230Z"
    }
   },
   "outputs": [],
   "source": [
    "result['counts'] = {5: 79, 4: 12, 6: 3, 7: 3, 3: 2, 2: 1}"
   ]
  },
  {
   "cell_type": "markdown",
   "metadata": {},
   "source": [
    "In the pseudo-random samples, the two most frequent outcomes were 4 and 5. So, we estimate the integer part of the encoded value with 4. We can compute our estimate of the decimal part of the encoded value with the following Python code:"
   ]
  },
  {
   "cell_type": "code",
   "execution_count": null,
   "metadata": {
    "ExecuteTime": {
     "start_time": "2023-11-15T16:52:10.549053Z"
    }
   },
   "outputs": [],
   "source": [
    "from math import sqrt\n",
    "\n",
    "p_4 = result['counts'][4]/sum(result['counts'].values()) # <1>\n",
    "p_5 = result['counts'][5]/sum(result['counts'].values())\n",
    "\n",
    "decimal_estimate = sqrt(p_5)/(sqrt(p_4)+ sqrt(p_5))"
   ]
  },
  {
   "cell_type": "code",
   "execution_count": null,
   "metadata": {
    "ExecuteTime": {
     "start_time": "2023-11-15T16:52:10.551039Z"
    }
   },
   "outputs": [],
   "source": [
    "decimal_estimate"
   ]
  },
  {
   "cell_type": "markdown",
   "metadata": {
    "jp-MarkdownHeadingCollapsed": true
   },
   "source": [
    "### Quantum circuits as rotations with eigenstates and eigenvalues (section 9.2)"
   ]
  },
  {
   "cell_type": "markdown",
   "metadata": {},
   "source": [
    "Let's start with single qubit circuit created by the function below which consists of one $R_Y$-gate with an angle parameter of $2\\theta$:"
   ]
  },
  {
   "cell_type": "code",
   "execution_count": null,
   "metadata": {
    "ExecuteTime": {
     "start_time": "2023-11-15T16:52:10.552727Z"
    }
   },
   "outputs": [],
   "source": [
    "def ry_circuit(theta):\n",
    "    q = QuantumRegister(1)\n",
    "    qc = QuantumCircuit(q)\n",
    "    qc.ry(theta, q[0])\n",
    "\n",
    "    return qc"
   ]
  },
  {
   "cell_type": "markdown",
   "metadata": {},
   "source": [
    "The circuit returned by the function `ry_eigen_circuit` below prepares th single-qubit state $[\\frac{i}{\\sqrt{2}}, \\frac{1}{\\sqrt{2}}]$:"
   ]
  },
  {
   "cell_type": "code",
   "execution_count": null,
   "metadata": {
    "ExecuteTime": {
     "start_time": "2023-11-15T16:52:10.554547Z"
    }
   },
   "outputs": [],
   "source": [
    "def ry_eigen_circuit():\n",
    "    q = QuantumRegister(1)\n",
    "    qc = QuantumCircuit(q)\n",
    "\n",
    "    qc.x(q[0])\n",
    "    qc.rx(-pi/2, q[0])\n",
    "\n",
    "    return qc"
   ]
  },
  {
   "cell_type": "code",
   "execution_count": null,
   "metadata": {
    "ExecuteTime": {
     "start_time": "2023-11-15T16:52:10.556342Z"
    }
   },
   "outputs": [],
   "source": [
    "from util import print_state_table\n",
    "\n",
    "qc = ry_eigen_circuit()\n",
    "state = qc.run()\n",
    "\n",
    "print_state_table(state)"
   ]
  },
  {
   "cell_type": "markdown",
   "metadata": {},
   "source": [
    "We can check that the state prepared by this circuit matches $[\\frac{i}{\\sqrt{2}}, \\frac{1}{\\sqrt{2}}]$ using the following code:"
   ]
  },
  {
   "cell_type": "code",
   "execution_count": null,
   "metadata": {
    "ExecuteTime": {
     "start_time": "2023-11-15T16:52:10.558181Z"
    }
   },
   "outputs": [],
   "source": [
    "from util import all_close\n",
    "\n",
    "qc = ry_eigen_circuit()\n",
    "state = qc.run()\n",
    "\n",
    "assert all_close(state, [1j/sqrt(2), 1/sqrt(2)])"
   ]
  },
  {
   "cell_type": "markdown",
   "metadata": {},
   "source": [
    "Now, let's apply the $R_Y \\left( \\frac{\\pi}{3} \\right)$ gate to the eigenstate:"
   ]
  },
  {
   "cell_type": "code",
   "execution_count": null,
   "metadata": {
    "ExecuteTime": {
     "start_time": "2023-11-15T16:52:10.560066Z"
    }
   },
   "outputs": [],
   "source": [
    "q = QuantumRegister(1)\n",
    "qc = QuantumCircuit(q)\n",
    "\n",
    "qc.x(q[0])\n",
    "qc.rx(-pi/2, q[0])\n",
    "\n",
    "theta = pi/6\n",
    "\n",
    "qc.ry(2*theta, q[0])\n",
    "\n",
    "state = qc.run()"
   ]
  },
  {
   "cell_type": "code",
   "execution_count": null,
   "metadata": {
    "ExecuteTime": {
     "start_time": "2023-11-15T16:52:10.562254Z"
    },
    "scrolled": true
   },
   "outputs": [],
   "source": [
    "print_state_table(state)"
   ]
  },
  {
   "cell_type": "markdown",
   "metadata": {},
   "source": [
    "We can apply the circuit to the eigenstate multiple times, and the magnitudes of the amplitudes will not change, but the amplitudes will be rotated by the same angle every time:"
   ]
  },
  {
   "cell_type": "code",
   "execution_count": null,
   "metadata": {
    "ExecuteTime": {
     "start_time": "2023-11-15T16:52:10.564354Z"
    }
   },
   "outputs": [],
   "source": [
    "q = QuantumRegister(1)\n",
    "qc = QuantumCircuit(q)\n",
    "\n",
    "qc.x(q[0])\n",
    "qc.rx(-pi/2, q[0])\n",
    "\n",
    "theta = pi/6\n",
    "\n",
    "qc.ry(2*theta, q[0]) # <1>\n",
    "qc.ry(2*theta, q[0]) # <1>\n",
    "\n",
    "state = qc.run()"
   ]
  },
  {
   "cell_type": "code",
   "execution_count": null,
   "metadata": {
    "ExecuteTime": {
     "start_time": "2023-11-15T16:52:10.566111Z"
    }
   },
   "outputs": [],
   "source": [
    "print_state_table(state)"
   ]
  },
  {
   "cell_type": "markdown",
   "metadata": {
    "jp-MarkdownHeadingCollapsed": true
   },
   "source": [
    "### The quantum phase estimation algorithm (section 9.3)"
   ]
  },
  {
   "cell_type": "markdown",
   "metadata": {},
   "source": [
    "First, our \"step 0\" is to create two registers: one with $m$ qubits that will be used to encode the eigenstate, called the target register, and one with $n$ qubits that we will use to obtain the estimate, called the estimation register. In this example, we only need one qubit for our target register, and we will use $n = 3$ qubits for our estimation register:"
   ]
  },
  {
   "cell_type": "code",
   "execution_count": null,
   "metadata": {
    "ExecuteTime": {
     "start_time": "2023-11-15T16:52:10.567517Z"
    }
   },
   "outputs": [],
   "source": [
    "n = 3\n",
    "q = QuantumRegister(n)\n",
    "a = QuantumRegister(1)\n",
    "qc = QuantumCircuit(q, a)"
   ]
  },
  {
   "cell_type": "markdown",
   "metadata": {},
   "source": [
    "Step 1 is to prepare an eigenstate of the circuit $U$ in the target register:"
   ]
  },
  {
   "cell_type": "code",
   "execution_count": null,
   "metadata": {
    "ExecuteTime": {
     "start_time": "2023-11-15T16:52:10.569193Z"
    }
   },
   "outputs": [],
   "source": [
    "qc.x(a[0])\n",
    "qc.rx(-pi/2, a[0])"
   ]
  },
  {
   "cell_type": "markdown",
   "metadata": {},
   "source": [
    "Next, we apply Hadamard gates to each of the qubits in the estimation register. Then, for each qubit $k$]in the estimation register, we apply the circuit $U$ to the target register $2^k$ times, controlled on qubit $k$. To perform this step (step 2) we can write two for-loops:"
   ]
  },
  {
   "cell_type": "code",
   "execution_count": null,
   "metadata": {
    "ExecuteTime": {
     "start_time": "2023-11-15T16:52:10.570296Z"
    }
   },
   "outputs": [],
   "source": [
    "for i in range(n):\n",
    "    qc.h(q[i])\n",
    "\n",
    "theta = 4.7*2*pi/2**n\n",
    "\n",
    "for i in range(n):\n",
    "    for _ in range(2**i):\n",
    "        qc.cry(2*theta, q[i], a[0])  # <1> "
   ]
  },
  {
   "cell_type": "markdown",
   "metadata": {},
   "source": [
    "Remember from chapter 3 that the inverse of an $R_X(\\theta)$ rotation is $R_X(-\\theta)$, and that the X-gate is its' own inverse. We can apply the inverse of the circuit which prepared the eigenstate with the following code:"
   ]
  },
  {
   "cell_type": "code",
   "execution_count": null,
   "metadata": {
    "ExecuteTime": {
     "start_time": "2023-11-15T16:52:10.571353Z"
    }
   },
   "outputs": [],
   "source": [
    "qc.rx(pi/2, a[0])\n",
    "qc.x(a[0])"
   ]
  },
  {
   "cell_type": "markdown",
   "metadata": {},
   "source": [
    "Finally, we apply an IQFT to the estimation register with the following code:"
   ]
  },
  {
   "cell_type": "code",
   "execution_count": null,
   "metadata": {
    "ExecuteTime": {
     "start_time": "2023-11-15T16:52:10.572522Z"
    }
   },
   "outputs": [],
   "source": [
    "qc.append_iqft(q)"
   ]
  },
  {
   "cell_type": "code",
   "execution_count": null,
   "metadata": {},
   "outputs": [],
   "source": [
    "state = qc.run()\n",
    "print_state_table(state)"
   ]
  },
  {
   "cell_type": "markdown",
   "metadata": {},
   "source": [
    "We can check that the estimation register is the phased discrete sinc state we expect with the following Python code:"
   ]
  },
  {
   "cell_type": "code",
   "execution_count": null,
   "metadata": {
    "ExecuteTime": {
     "start_time": "2023-11-15T16:52:10.573694Z"
    }
   },
   "outputs": [],
   "source": [
    "from util import all_close\n",
    "from math import cos\n",
    "\n",
    "n = 3\n",
    "theta = 4.7*2*pi/2**n\n",
    "s = complex_sincd(n, theta/(2*pi)*2**n)\n",
    "assert all_close(state[:2**n], s)"
   ]
  },
  {
   "cell_type": "markdown",
   "metadata": {
    "jp-MarkdownHeadingCollapsed": true
   },
   "source": [
    "### Circuit-level implementation of the quantum phase estimation algorithm (section 9.4)"
   ]
  },
  {
   "cell_type": "markdown",
   "metadata": {},
   "source": [
    "Listing 9.3 Function for creating the phase estimation circuit"
   ]
  },
  {
   "cell_type": "code",
   "execution_count": null,
   "metadata": {
    "ExecuteTime": {
     "start_time": "2023-11-15T16:52:10.584017Z"
    }
   },
   "outputs": [],
   "source": [
    "def phase_estimation_circuit(n, circuit, eigen_circuit=None):\n",
    "    q = QuantumRegister(n)\n",
    "    a = QuantumRegister(sum(circuit.regs)) # step 0 (the size of the target register is the same as the number of qubits in the circuit parameter)\n",
    "    qc = QuantumCircuit(q, a) # target register is last\n",
    "\n",
    "    if eigen_circuit is not None:\n",
    "        qc.append(eigen_circuit, a)\n",
    "        qc.report('eigenstate')\n",
    "\n",
    "    for i in range(n): # step 1: If a circuit which prepares an eigenstate is passed to the function, then we apply it to the target register\n",
    "        qc.h(q[i])\n",
    "\n",
    "    for i in range(n): # step 2\n",
    "        for _ in range(2**i):\n",
    "            qc.c_append(circuit, q[i], a)\n",
    "\n",
    "    qc.report('geometric_sequence_superposition')\n",
    "\n",
    "    if eigen_circuit is not None: # optional step 3\n",
    "        qc.append(eigen_circuit.inverse(), a)\n",
    "        qc.report('geometric_sequence')\n",
    "\n",
    "    qc.append_iqft(q) #step 4\n",
    "    qc.report('estimate')\n",
    "\n",
    "    return qc"
   ]
  },
  {
   "cell_type": "markdown",
   "metadata": {},
   "source": [
    "Let's create the circuit for the example above:"
   ]
  },
  {
   "cell_type": "code",
   "execution_count": null,
   "metadata": {
    "ExecuteTime": {
     "start_time": "2023-11-15T16:52:10.584957Z"
    }
   },
   "outputs": [],
   "source": [
    "n = 3\n",
    "N = 2**n\n",
    "theta = 4.7*2*pi/N\n",
    "\n",
    "qc = phase_estimation_circuit(n, ry_circuit(2*theta), ry_eigen_circuit())"
   ]
  },
  {
   "cell_type": "markdown",
   "metadata": {},
   "source": [
    "We can check that this circuit matches the step-by-step results we got in the previous section using the following code:"
   ]
  },
  {
   "cell_type": "code",
   "execution_count": null,
   "metadata": {
    "ExecuteTime": {
     "start_time": "2023-11-15T16:52:10.585865Z"
    }
   },
   "outputs": [],
   "source": [
    "eig = qc.reports['eigenstate'][2]\n",
    "assert all_close(eig, [1j/sqrt(2) if k == 0 else 0 for k in range(N)] +\n",
    "    [1/sqrt(2) if k == 0 else 0 for k in range(N)])\n",
    "\n",
    "geom = qc.reports['geometric_sequence'][2]\n",
    "g = [1/sqrt(N)*cis(k*theta) for k in range(N)]\n",
    "assert all_close(geom[:N], g)\n",
    "\n",
    "estimate = qc.reports['estimate'][2]\n",
    "s = complex_sincd(n, theta/(2*pi)*N)\n",
    "assert all_close(estimate, s + [0 for _ in range(N)])"
   ]
  },
  {
   "cell_type": "markdown",
   "metadata": {},
   "source": [
    "### An alternative implementation of phase estimation circuit without qubit swaps (section 9.6)"
   ]
  },
  {
   "cell_type": "markdown",
   "metadata": {},
   "source": [
    "Listing 9.4 Alternative implementation for creating the phase estimating circuit without qubit swaps in the IQFT"
   ]
  },
  {
   "cell_type": "code",
   "execution_count": null,
   "metadata": {
    "ExecuteTime": {
     "start_time": "2023-11-15T16:52:10.586846Z"
    }
   },
   "outputs": [],
   "source": [
    "def phase_estimation_circuit(n, circuit, eigen_circuit=None, swap=True):\n",
    "    q = QuantumRegister(n)\n",
    "    a = QuantumRegister(sum(circuit.regs))\n",
    "    qc = QuantumCircuit(q, a) # a is last (at the bottom)\n",
    "\n",
    "    if eigen_circuit is not None:\n",
    "        qc.append(eigen_circuit, a)\n",
    "    qc.report('eigenstate')\n",
    "\n",
    "    for i in range(n):\n",
    "        qc.h(q[i])\n",
    "\n",
    "    for i in range(n):\n",
    "        for _ in range(2**i):\n",
    "            if swap:\n",
    "                qc.c_append(circuit, q[i], a)\n",
    "            else:\n",
    "                qc.c_append(circuit, q[n-1-i], a) # reverse the target qubit order\n",
    "                \n",
    "    qc.report('geometric_sequence_superposition')\n",
    "\n",
    "    if eigen_circuit is not None:\n",
    "        qc.append(eigen_circuit.inverse(), a)\n",
    "\n",
    "    qc.report('geometric_sequence')\n",
    "\n",
    "    qc.append_iqft(q, False if swap else True, swap) # apply an IQFT to the estimation register with qubits in reverse order and without swaps\n",
    "    qc.report('estimate')\n",
    "\n",
    "    return qc"
   ]
  },
  {
   "cell_type": "markdown",
   "metadata": {},
   "source": [
    "The following Python code creates a circuit for the same problem as in the previous section using the alternative implementation:"
   ]
  },
  {
   "cell_type": "code",
   "execution_count": null,
   "metadata": {
    "ExecuteTime": {
     "start_time": "2023-11-15T16:52:10.588067Z"
    }
   },
   "outputs": [],
   "source": [
    "n = 3\n",
    "N = 2**n\n",
    "theta = 4.7*2*pi/N\n",
    "swap = False\n",
    "\n",
    "qc = phase_estimation_circuit(n, ry_circuit(2*theta), ry_eigen_circuit(), swap)"
   ]
  },
  {
   "cell_type": "markdown",
   "metadata": {},
   "source": [
    "We can check that the amplitudes of the geometric sequence state match the geometric sequence state created using the first method with the following code:"
   ]
  },
  {
   "cell_type": "code",
   "execution_count": null,
   "metadata": {
    "ExecuteTime": {
     "start_time": "2023-11-15T16:52:10.589402Z"
    }
   },
   "outputs": [],
   "source": [
    "from util import reverse_index_state\n",
    "\n",
    "geom = qc.reports['geometric_sequence'][2]\n",
    "g = [1/sqrt(N)*cis(k*theta) for k in range(N)]\n",
    "assert all_close(geom[:N], g if swap else reverse_index_state(g)) #The periodic state created has amplitudes in reversed order. We can use the utility function `reverse_index_state` to reorder the amplitudes."
   ]
  },
  {
   "cell_type": "code",
   "execution_count": null,
   "metadata": {
    "ExecuteTime": {
     "start_time": "2023-11-15T16:52:10.590421Z"
    }
   },
   "outputs": [],
   "source": [
    "from util_qiskit import show_reports\n",
    "show_reports(qc)"
   ]
  },
  {
   "cell_type": "markdown",
   "metadata": {},
   "source": [
    "We end up with the same phased discrete sinc state as the one created using the first implementation:"
   ]
  },
  {
   "cell_type": "code",
   "execution_count": null,
   "metadata": {
    "ExecuteTime": {
     "start_time": "2023-11-15T16:52:10.592468Z"
    }
   },
   "outputs": [],
   "source": [
    "estimate = qc.reports['estimate'][2]\n",
    "s = complex_sincd(n, theta/(2*pi)*N)\n",
    "assert all_close(estimate, s + [0 for _ in range(N)])"
   ]
  },
  {
   "cell_type": "markdown",
   "metadata": {},
   "source": [
    "The function `test_ry_phase_estimation` below checks that the amplitudes of the state match the expected values for 10 pseudo-random values of $\\theta$:"
   ]
  },
  {
   "cell_type": "code",
   "execution_count": null,
   "metadata": {
    "ExecuteTime": {
     "start_time": "2023-11-15T16:52:10.593355Z"
    }
   },
   "outputs": [],
   "source": [
    "from random import uniform\n",
    "\n",
    "def test_ry_phase_estimation():\n",
    "    n = 3\n",
    "    N = 2**n\n",
    "\n",
    "    random_thetas = [uniform(-pi, pi) for _ in range(10)]\n",
    "\n",
    "    for theta in random_thetas:\n",
    "        for swap in [True, False]:\n",
    "            qc = phase_estimation_circuit(n, ry_circuit(theta), ry_eigen_circuit(), swap)\n",
    "\n",
    "            eig = qc.reports['eigenstate'][2]\n",
    "            assert all_close(eig, [1j/sqrt(2) if k == 0 else 0 for k in range(N)] +\n",
    "                             [1/sqrt(2) if k == 0 else 0 for k in range(N)])\n",
    "\n",
    "            geom = qc.reports['geometric_sequence'][2]\n",
    "            g = [1/sqrt(N)*cis(k*theta/2) for k in range(N)]\n",
    "            assert all_close(geom[:N], g if swap else reverse_index_state(g))\n",
    "\n",
    "            estimate = qc.reports['estimate'][2]\n",
    "            s = complex_sincd(n, theta/2/(2*pi)*N)\n",
    "            assert all_close(estimate[:N], s)"
   ]
  },
  {
   "cell_type": "code",
   "execution_count": null,
   "metadata": {
    "ExecuteTime": {
     "start_time": "2023-11-15T16:52:10.594281Z"
    }
   },
   "outputs": [],
   "source": [
    "test_ry_phase_estimation()"
   ]
  },
  {
   "cell_type": "markdown",
   "metadata": {},
   "source": [
    "### Additional tests"
   ]
  },
  {
   "cell_type": "code",
   "execution_count": null,
   "metadata": {
    "ExecuteTime": {
     "start_time": "2023-11-15T16:52:10.595218Z"
    }
   },
   "outputs": [],
   "source": [
    "from util_qiskit import same_as_qiskit\n",
    "\n",
    "for n in range(10):\n",
    "    for eigen in [True, False]:\n",
    "        for swap in [True, False]:\n",
    "            qc = phase_estimation_circuit(n, ry_circuit(theta), ry_eigen_circuit() if eigen else None, swap)\n",
    "            assert same_as_qiskit(qc)"
   ]
  },
  {
   "cell_type": "code",
   "execution_count": null,
   "metadata": {
    "ExecuteTime": {
     "start_time": "2023-11-15T16:52:10.596150Z"
    }
   },
   "outputs": [],
   "source": [
    "from math import sin\n",
    "from util import rev, inner\n",
    "from algo import fourier_basis\n",
    "\n",
    "def test_ry_phase_estimation_no_eigen():\n",
    "    n = 3\n",
    "    N = 2**n\n",
    "\n",
    "    random_thetas = [uniform(-pi, pi) for _ in range(10)]\n",
    "\n",
    "    for theta in random_thetas:\n",
    "        for swap in [True, False]:\n",
    "            qc = phase_estimation_circuit(n, ry_circuit(theta), None, swap)\n",
    "            geom = qc.reports['geometric_sequence'][2]\n",
    "            if swap:\n",
    "                g = [1/sqrt(N)*cos(k*theta/2) for k in range(N)] + [1/sqrt(N)*sin(k*theta/2) for k in range(N)]\n",
    "            else:\n",
    "                g = [1/sqrt(N)*cos(rev(n, k)*theta/2) for k in range(N)] + [1/sqrt(N)*sin(rev(n, k)*theta/2) for k in range(N)]\n",
    "\n",
    "            # print(g)\n",
    "            assert all_close(geom, g)\n",
    "\n",
    "            e = qc.reports['estimate'][2]\n",
    "            # tabulate_state(e)\n",
    "\n",
    "            g = [1/sqrt(N)*cos(k*theta/2) for k in range(N)] + [1/sqrt(N)*sin(k*theta/2) for k in range(N)]\n",
    "            f = ([inner(g[:N], fourier_basis(N, k)) for k in range(N)] +\n",
    "                 [inner(g[N:], fourier_basis(N, k)) for k in range(N)])\n",
    "            # fourier_basis(N, k)) = [sqrt(1/N) * cis(j*k*2*pi/N) for j in range(N)]\n",
    "            # print(f)\n",
    "            assert all_close(e, f)\n",
    "\n",
    "            v = 2**(n-2)*theta/pi\n",
    "\n",
    "            c = complex_sincd(n, v)\n",
    "            assert all_close(c, [e[k] + 1j*e[k+N] for k in range(N)])\n",
    "\n",
    "            d = complex_sincd(n, N-v)\n",
    "            assert all_close(e, [(c[k] + d[k])/2 for k in range(N)] + [-1j*(c[k] - d[k])/2 for k in range(N)])"
   ]
  },
  {
   "cell_type": "code",
   "execution_count": null,
   "metadata": {
    "ExecuteTime": {
     "start_time": "2023-11-15T16:52:10.597162Z"
    }
   },
   "outputs": [],
   "source": [
    "test_ry_phase_estimation_no_eigen()"
   ]
  }
 ],
 "metadata": {
  "kernelspec": {
   "display_name": "Python 3 (ipykernel)",
   "language": "python",
   "name": "python3"
  },
  "language_info": {
   "codemirror_mode": {
    "name": "ipython",
    "version": 3
   },
   "file_extension": ".py",
   "mimetype": "text/x-python",
   "name": "python",
   "nbconvert_exporter": "python",
   "pygments_lexer": "ipython3",
   "version": "3.9.13"
  }
 },
 "nbformat": 4,
 "nbformat_minor": 4
}
