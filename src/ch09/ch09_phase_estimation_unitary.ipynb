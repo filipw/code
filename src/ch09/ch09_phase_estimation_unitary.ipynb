{
 "cells": [
  {
   "cell_type": "code",
   "execution_count": null,
   "id": "d66a9d07",
   "metadata": {},
   "outputs": [],
   "source": [
    "import sys;\n",
    "sys.path.insert(0, '..')"
   ]
  },
  {
   "cell_type": "code",
   "execution_count": null,
   "id": "f0857bc2",
   "metadata": {},
   "outputs": [],
   "source": [
    "from math import log2\n",
    "import numpy as np\n",
    "\n",
    "from sim_circuit import QuantumRegister, QuantumCircuit\n",
    "\n",
    "\n",
    "def phase_estimation_unitary(n, U, swap=True):\n",
    "    assert(U.shape[0] == U.shape[1])\n",
    "    m = int(log2(U.shape[0]))\n",
    "\n",
    "    eigvals, eigvecs = np.linalg.eig(U)\n",
    "\n",
    "    q = QuantumRegister(n)\n",
    "    a = QuantumRegister(m)\n",
    "    qc = QuantumCircuit(q, a) # ancilla is last\n",
    "\n",
    "    qc.append_u(eigvecs, a)\n",
    "    qc.report('eigenstate')\n",
    "\n",
    "    for i in range(n):\n",
    "        qc.h(q[i])\n",
    "\n",
    "    for i in range(n):\n",
    "        if swap:\n",
    "            for _ in range(2**i):\n",
    "                qc.c_append_u(U, q[i], a)\n",
    "        else:\n",
    "            # qubit reversal\n",
    "            for _ in range(2**i):\n",
    "                qc.c_append_u(U, q[n-1-i], a)\n",
    "            # decreasing powers of 2\n",
    "            # for _ in range(2**(n-1-i)):\n",
    "            #     qc.c_append_u(U, q[i], a)\n",
    "\n",
    "    qc.report('geometric_sequence_superposition')\n",
    "\n",
    "    qc.append_u(np.conj(eigvecs.transpose()), a)\n",
    "\n",
    "    qc.report('geometric_sequence')\n",
    "\n",
    "    qc.iqft(q if swap else q[::-1], swap)\n",
    "    qc.report('estimate')\n",
    "\n",
    "    return qc"
   ]
  },
  {
   "cell_type": "code",
   "execution_count": null,
   "id": "931a99ca",
   "metadata": {},
   "outputs": [],
   "source": [
    "import scipy.stats\n",
    "    \n",
    "n = 3\n",
    "m = 2\n",
    "    \n",
    "U = scipy.stats.unitary_group.rvs(2**m)\n",
    "qc = phase_estimation_unitary(n, U, swap=True)"
   ]
  },
  {
   "cell_type": "code",
   "execution_count": null,
   "id": "665569bf",
   "metadata": {},
   "outputs": [],
   "source": [
    "from math import pi\n",
    "\n",
    "eigvals, _ = np.linalg.eig(U)\n",
    "theta = np.angle(eigvals[0])\n",
    "if theta < 0:\n",
    "    theta += 2*pi\n",
    "\n",
    "v = theta/pi*2**(n-1)\n",
    "print('\\nfrequency from eigenvalue', v)"
   ]
  },
  {
   "cell_type": "code",
   "execution_count": null,
   "id": "458e88f0",
   "metadata": {},
   "outputs": [],
   "source": [
    "from util import print_state_table\n",
    "\n",
    "state = qc.run()\n",
    "print_state_table(qc.run())"
   ]
  },
  {
   "cell_type": "code",
   "execution_count": null,
   "id": "0596ba35",
   "metadata": {},
   "outputs": [],
   "source": [
    "result = qc.measure(shots = 1000)\n",
    "\n",
    "sorted_counts = sorted(result['counts'].items(), key = lambda item: item[1], reverse=True)\n",
    "sorted_counts"
   ]
  },
  {
   "cell_type": "code",
   "execution_count": null,
   "id": "78b0424c",
   "metadata": {
    "scrolled": true
   },
   "outputs": [],
   "source": [
    "from math import sqrt \n",
    "\n",
    "top_two = sorted(sorted_counts[:2])\n",
    "\n",
    "p_below, p_above = top_two[0][1], top_two[1][1]\n",
    "\n",
    "decimal_estimate = sqrt(p_above)/(sqrt(p_below)+ sqrt(p_above))\n",
    "\n",
    "estimate = top_two[0][0] + decimal_estimate\n",
    "print('\\nfrequency from eigenvalue', v, '\\nfrequency from measurement', estimate, '\\nerror', abs(v - estimate))"
   ]
  },
  {
   "cell_type": "code",
   "execution_count": null,
   "id": "24cd4852",
   "metadata": {},
   "outputs": [],
   "source": [
    "from util import all_close, cis, prod\n",
    "from math import cos\n",
    "\n",
    "def complex_sincd(n, v):\n",
    "    N = 2 ** n\n",
    "    return [prod(\n",
    "        cos((v - k) * pi / 2 ** (j + 1)) * cis((v - k) * pi / 2 ** (j + 1))\n",
    "        for j in range(n)) for k in range(2 ** n)]\n",
    "\n",
    "\n",
    "assert all_close(state, complex_sincd(n, v))"
   ]
  },
  {
   "cell_type": "code",
   "execution_count": null,
   "id": "4a50c2e1",
   "metadata": {},
   "outputs": [],
   "source": [
    "def test_unitary_inverse():\n",
    "    n = 3\n",
    "    m = 2\n",
    "    \n",
    "    U = scipy.stats.unitary_group.rvs(2**m)\n",
    "    qc = phase_estimation_unitary(n, U, swap=True)\n",
    "    qci = qc.inverse()\n",
    "\n",
    "    qc.append(qci, QuantumRegister(m+n))\n",
    "    state = qc.run()\n",
    "    tabulate_state(state)\n",
    "\n",
    "    assert all_close(state, init_state(m+n))"
   ]
  }
 ],
 "metadata": {
  "kernelspec": {
   "display_name": "Python 3 (ipykernel)",
   "language": "python",
   "name": "python3"
  },
  "language_info": {
   "codemirror_mode": {
    "name": "ipython",
    "version": 3
   },
   "file_extension": ".py",
   "mimetype": "text/x-python",
   "name": "python",
   "nbconvert_exporter": "python",
   "pygments_lexer": "ipython3",
   "version": "3.9.13"
  }
 },
 "nbformat": 4,
 "nbformat_minor": 5
}
