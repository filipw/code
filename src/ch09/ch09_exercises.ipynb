{
 "cells": [
  {
   "cell_type": "code",
   "execution_count": null,
   "id": "fefdecc3-700c-443a-9c09-1691273d35c4",
   "metadata": {},
   "outputs": [],
   "source": [
    "import sys;\n",
    "sys.path.insert(0, '..')"
   ]
  },
  {
   "cell_type": "code",
   "execution_count": null,
   "id": "c4a86da6-fb66-4bc0-b587-9aa97df1acb4",
   "metadata": {},
   "outputs": [],
   "source": [
    "from math import pi, sqrt\n",
    "\n",
    "from util import cis, all_close\n",
    "from sim_circuit import *"
   ]
  },
  {
   "cell_type": "markdown",
   "id": "a79aa35d-8505-4fca-a672-0c26a8fd8219",
   "metadata": {},
   "source": [
    "## Exercise 1\n",
    "\n",
    "Using the angle parameter $\\theta = 12.85$ and $n = 4$ qubits, use both methods (integer and ratio of magnitudes) to get an estimate for $\\theta$ using 100 shots."
   ]
  },
  {
   "cell_type": "markdown",
   "id": "f61a96db-b9e3-4066-839d-f5415e8e37a8",
   "metadata": {},
   "source": [
    "**Answer:**"
   ]
  },
  {
   "cell_type": "code",
   "execution_count": null,
   "id": "dd08c38f-aca3-4f4c-b32e-f16dc1113715",
   "metadata": {},
   "outputs": [],
   "source": [
    "def encode_frequency(n, v):\n",
    "    q = QuantumRegister(n)\n",
    "    qc = QuantumCircuit(q)\n",
    "\n",
    "    for j in range(n):\n",
    "        qc.h(q[j])\n",
    "\n",
    "    for j in range(n):\n",
    "        qc.p(2 * pi / 2 ** (n - j) * v, q[j])\n",
    "\n",
    "    qc.report('geometric_sequence')\n",
    "\n",
    "    qc.iqft(range(n))\n",
    "\n",
    "    qc.report('iqft')\n",
    "\n",
    "    return qc"
   ]
  },
  {
   "cell_type": "markdown",
   "id": "86ef1efc-fe83-449f-acf7-f383b5eccdb8",
   "metadata": {},
   "source": [
    "We can get the value $v$ to encode using $v = \\theta \\frac{2^n}{2 \\pi}$:\n",
    "\n",
    "$v = 12.85 \\frac{2^4}{2 \\pi}$"
   ]
  },
  {
   "cell_type": "code",
   "execution_count": null,
   "id": "1d0a059d-ca68-4cbf-8637-7e75b2a038e0",
   "metadata": {},
   "outputs": [],
   "source": [
    "n = 4\n",
    "theta = 12.85 * (pi/180) #convert to radians\n",
    "v = theta*2**n/(2*pi)\n",
    "v"
   ]
  },
  {
   "cell_type": "code",
   "execution_count": null,
   "id": "a4779e5c-698b-4324-943e-b981e223220d",
   "metadata": {},
   "outputs": [],
   "source": [
    "n = 4\n",
    "\n",
    "qc = encode_frequency(n, v)"
   ]
  },
  {
   "cell_type": "code",
   "execution_count": null,
   "id": "4271fbdf-5c9b-40c0-b980-cc49e8e4389d",
   "metadata": {},
   "outputs": [],
   "source": [
    "result = qc.measure(shots = 100)"
   ]
  },
  {
   "cell_type": "code",
   "execution_count": null,
   "id": "b2441ff5-b075-48cd-902d-bcd08b218f2c",
   "metadata": {},
   "outputs": [],
   "source": [
    "result['counts']"
   ]
  },
  {
   "cell_type": "markdown",
   "id": "567440bf-0a9d-4204-81bb-870ddcc66399",
   "metadata": {},
   "source": [
    "The most frequent outcome is 1, so the estimate using the most frequent outcome method is\n",
    "\n",
    "$\\theta = 1 \\frac{2 \\pi}{2^n}$"
   ]
  },
  {
   "cell_type": "code",
   "execution_count": null,
   "id": "aa92cd12-c6a3-472a-bbe6-8fe048fe298c",
   "metadata": {},
   "outputs": [],
   "source": [
    "1*2*pi/(2**n)"
   ]
  },
  {
   "cell_type": "markdown",
   "id": "78661b67-26b0-40e6-80b5-0c8ab53fb90b",
   "metadata": {},
   "source": [
    "The estimate using the two most frequent outcomes is (note, in this case the lower of the two most frequent outcomes is 0 so we estimate the integer part by 0)"
   ]
  },
  {
   "cell_type": "code",
   "execution_count": null,
   "id": "162e70c2-ef53-4737-9372-8e2d3e432909",
   "metadata": {},
   "outputs": [],
   "source": [
    "p_0 = result['counts'][0]/sum(result['counts'].values())\n",
    "p_1 = result['counts'][1]/sum(result['counts'].values())\n",
    "\n",
    "decimal_estimate = sqrt(p_1)/(sqrt(p_0)+ sqrt(p_1))\n",
    "\n",
    "decimal_estimate"
   ]
  },
  {
   "cell_type": "markdown",
   "id": "ad99df84-a3fe-4d1d-a2e7-bc40462cea3f",
   "metadata": {},
   "source": [
    "## Exercise 2\n",
    "\n",
    "We can describe the eigenstate in this example as\n",
    "\n",
    "$$\\vert \\psi \\rangle = \\begin{bmatrix}\\frac{i}{\\sqrt{2}} \\\\ \\frac{1}{\\sqrt{2}} \\end{bmatrix}$$\n",
    "\n",
    "The operator is a latexmath:[$R_Y$]-gate with angle parameter latexmath:[$2\\theta$].\n",
    "The two-by-two matrix form of an latexmath:[$R_Y$]-gate is\n",
    "\n",
    "$$\\begin{bmatrix} \\cos \\theta & -\\sin \\theta\\\\ \\sin \\theta & \\cos \\theta \\end{bmatrix}$$\n",
    "\n",
    "We can express the application of the operator to the eigenstate as\n",
    "\n",
    "$$R_Y(2\\theta) \\vert \\psi \\rangle$$\n",
    "\n",
    "Show that the complex number $\\text{cis} \\left( \\theta \\right) $ is the eigenvalue of the eigenstate $\\vert \\psi \\rangle$.\n"
   ]
  },
  {
   "cell_type": "markdown",
   "id": "d92fb0af-5a8c-4d3f-b044-82022bb7fa16",
   "metadata": {},
   "source": [
    "**Answer:**\n",
    "\n",
    "We can express the application of the operator to the eigenstate as\n",
    "\n",
    "$$\\begin{align}\n",
    "R_Y(2\\theta) \\vert \\psi \\rangle & = \\begin{bmatrix} \\cos \\theta & -\\sin \\theta\\\\ \\sin \\theta & \\cos \\theta \\end{bmatrix} \\begin{bmatrix}\\frac{i}{\\sqrt{2}} \\\\ \\frac{1}{\\sqrt{2}} \\end{bmatrix} \\\\\n",
    "& = \\begin{bmatrix}\\frac{i}{\\sqrt{2}}\\cos \\theta - \\frac{1}{\\sqrt{2}}\\sin \\theta\\\\ \\frac{i}{\\sqrt{2}}\\sin \\theta + \\frac{1}{\\sqrt{2}}\\cos \\theta \\end{bmatrix} \\\\\n",
    "& = \\begin{bmatrix}\\frac{i}{\\sqrt{2}}\\left( \\cos \\theta + i \\sin \\theta \\right) \\\\ \\frac{1}{\\sqrt{2}} \\left( i\\sin \\theta + cos \\theta \\right) \\end{bmatrix} \\\\\n",
    "& = \\begin{bmatrix}\\frac{i}{\\sqrt{2}} \\text{cis} \\left( \\theta \\right)  \\\\ \\frac{1}{\\sqrt{2}} \\text{cis} \\left( \\theta \\right) \\end{bmatrix} = \\text{cis} \\left( \\theta \\right) \\vert \\psi \\rangle\n",
    "\\end{align}\n",
    "$$\n",
    "\n",
    "The complex number $\\text{cis} \\left( \\theta \\right) $ is the eigenvalue of the eigenstate $\\vert \\psi \\rangle$.\n"
   ]
  },
  {
   "cell_type": "markdown",
   "id": "1bc62f16-5761-4f46-9c19-2ec19f5f0038",
   "metadata": {},
   "source": [
    "## Exercise 3\n",
    "\n",
    "Let's look at the Phase gate in the context of eigenstates and eigenvalues.\n",
    "An eigenstate of the circuit can be created by applying an X-gate to a single qubit in its initial state.\n",
    "The Python code below creates this state:"
   ]
  },
  {
   "cell_type": "code",
   "execution_count": null,
   "id": "cc14cf89-4483-4518-84ef-ab9913f13348",
   "metadata": {},
   "outputs": [],
   "source": [
    "q = QuantumRegister(1)\n",
    "qc = QuantumCircuit(q)\n",
    "qc.x(q[0])\n",
    "\n",
    "state = qc.run()"
   ]
  },
  {
   "cell_type": "markdown",
   "id": "f388c6e0-be00-40f4-be7e-89e62548659e",
   "metadata": {},
   "source": [
    "Apply the circuit (a phase gate with angle parameter $\\theta$) to the state created above using various values for $\\theta$.\n",
    "Check that each time the circuit is applied, the amplitudes of the state are multiplied by $\\text{cis}(\\theta)$."
   ]
  },
  {
   "cell_type": "markdown",
   "id": "3c7314bd-3a44-4d04-90f0-6bc21313edb7",
   "metadata": {},
   "source": [
    "**Answer:**"
   ]
  },
  {
   "cell_type": "code",
   "execution_count": null,
   "id": "068ce4b0-01d1-4adc-8158-2e14a32ec396",
   "metadata": {},
   "outputs": [],
   "source": [
    "print_state_table(state)"
   ]
  },
  {
   "cell_type": "code",
   "execution_count": null,
   "id": "4dd2f8df-9463-4425-ac6d-1e196d56009d",
   "metadata": {},
   "outputs": [],
   "source": [
    "q = QuantumRegister(1)\n",
    "qc = QuantumCircuit(q)\n",
    "qc.x(q[0])\n",
    "\n",
    "theta = pi\n",
    "qc.p(theta, q[0])\n",
    "\n",
    "state1 = qc.run()\n",
    "print_state_table(state1)"
   ]
  },
  {
   "cell_type": "code",
   "execution_count": null,
   "id": "45373dae-769e-430e-8e49-49d051501b93",
   "metadata": {},
   "outputs": [],
   "source": [
    "assert all_close(state1, [a*cis(theta) for a in state])"
   ]
  },
  {
   "cell_type": "code",
   "execution_count": null,
   "id": "9cfb44b6-a238-489d-a720-f657b8b0bcb1",
   "metadata": {},
   "outputs": [],
   "source": [
    "q = QuantumRegister(1)\n",
    "qc = QuantumCircuit(q)\n",
    "qc.x(q[0])\n",
    "\n",
    "theta = 3*pi/2\n",
    "qc.p(theta, q[0])\n",
    "\n",
    "state2 = qc.run()\n",
    "print_state_table(state2)"
   ]
  },
  {
   "cell_type": "code",
   "execution_count": null,
   "id": "a4ac640a-b983-47bb-85b1-7870b8de659e",
   "metadata": {},
   "outputs": [],
   "source": [
    "assert all_close(state2, [a*cis(theta) for a in state])"
   ]
  },
  {
   "cell_type": "code",
   "execution_count": null,
   "id": "aba9afde-6871-4000-8ce9-38c749dceca8",
   "metadata": {},
   "outputs": [],
   "source": [
    "q = QuantumRegister(1)\n",
    "qc = QuantumCircuit(q)\n",
    "qc.x(q[0])\n",
    "\n",
    "theta = pi/2\n",
    "qc.p(theta, q[0])\n",
    "\n",
    "state3 = qc.run()\n",
    "print_state_table(state3)"
   ]
  },
  {
   "cell_type": "code",
   "execution_count": null,
   "id": "ed9487ee-98a2-44e9-925c-18f343adeec6",
   "metadata": {},
   "outputs": [],
   "source": [
    "assert all_close(state3, [a*cis(theta) for a in state])"
   ]
  },
  {
   "cell_type": "markdown",
   "id": "144801da-7c57-45a5-9192-5029c0f4d354",
   "metadata": {},
   "source": [
    "## Exercise 4\n",
    "\n",
    "Use the state created in figure 9.22 to get an estimate for the true angle parameter $\\theta$."
   ]
  },
  {
   "cell_type": "markdown",
   "id": "3f4d0251-3b6f-465b-876d-d4ad7f8f4d63",
   "metadata": {},
   "source": [
    "**Answer:**"
   ]
  },
  {
   "cell_type": "code",
   "execution_count": null,
   "id": "0e42b79d-bc6f-4942-bf55-7a20b4e5f514",
   "metadata": {},
   "outputs": [],
   "source": [
    "n = 3\n",
    "q = QuantumRegister(n)\n",
    "a = QuantumRegister(1)\n",
    "qc = QuantumCircuit(q, a)\n",
    "\n",
    "qc.x(a[0])\n",
    "qc.rx(-pi/2, a[0])\n",
    "\n",
    "for i in range(n):\n",
    "    qc.h(q[i])\n",
    "\n",
    "theta = 4.7*2*pi/2**n\n",
    "\n",
    "for i in range(n):\n",
    "    for _ in range(2**i):\n",
    "        qc.cry(2*theta, q[i], a[0])\n",
    "\n",
    "qc.rx(pi/2, a[0])\n",
    "qc.x(a[0])\n",
    "\n",
    "qc.append_iqft(q)"
   ]
  },
  {
   "cell_type": "code",
   "execution_count": null,
   "id": "c9807d8a-0344-441a-96da-38de4f14808b",
   "metadata": {},
   "outputs": [],
   "source": [
    "result = qc.measure(shots = 100)"
   ]
  },
  {
   "cell_type": "code",
   "execution_count": null,
   "id": "0b7880e2-871c-493b-a983-25ffd585a2ea",
   "metadata": {},
   "outputs": [],
   "source": [
    "print_state_table(result['state vector'])"
   ]
  },
  {
   "cell_type": "code",
   "execution_count": null,
   "id": "cb7c5590-b99f-4b7f-a10c-ddecc6839c6b",
   "metadata": {},
   "outputs": [],
   "source": [
    "result['counts']"
   ]
  },
  {
   "cell_type": "markdown",
   "id": "a16a328c-ab67-4c2b-9c4b-b8ee92d08d6b",
   "metadata": {},
   "source": [
    "We can estimate the integer part by 4."
   ]
  },
  {
   "cell_type": "code",
   "execution_count": null,
   "id": "b12fd6bd-d672-47ef-80c7-3452f2b02eb5",
   "metadata": {},
   "outputs": [],
   "source": [
    "p_4 = result['counts'][4]/sum(result['counts'].values())\n",
    "p_5 = result['counts'][5]/sum(result['counts'].values())\n",
    "\n",
    "decimal_estimate = sqrt(p_5)/(sqrt(p_4)+ sqrt(p_5))\n",
    "\n",
    "v_estimate = 4 + decimal_estimate"
   ]
  },
  {
   "cell_type": "markdown",
   "id": "c69c60f4-11f2-4a3e-afe0-b0d4ec592d3a",
   "metadata": {},
   "source": [
    "The estimate for $v$ is"
   ]
  },
  {
   "cell_type": "code",
   "execution_count": null,
   "id": "7884536e-ac1d-4883-9303-8ce3c98cd980",
   "metadata": {},
   "outputs": [],
   "source": [
    "v_estimate"
   ]
  },
  {
   "cell_type": "markdown",
   "id": "da694e09-d3b4-4b86-b9e7-23aae6698ec1",
   "metadata": {},
   "source": [
    "Estimate for $\\theta$ (in radians):"
   ]
  },
  {
   "cell_type": "code",
   "execution_count": null,
   "id": "f24fbaa4-effc-47e1-a33b-da4faf0c1c48",
   "metadata": {},
   "outputs": [],
   "source": [
    "v_estimate*2*pi/(2**n)"
   ]
  }
 ],
 "metadata": {
  "kernelspec": {
   "display_name": "Python 3 (ipykernel)",
   "language": "python",
   "name": "python3"
  },
  "language_info": {
   "codemirror_mode": {
    "name": "ipython",
    "version": 3
   },
   "file_extension": ".py",
   "mimetype": "text/x-python",
   "name": "python",
   "nbconvert_exporter": "python",
   "pygments_lexer": "ipython3",
   "version": "3.9.13"
  }
 },
 "nbformat": 4,
 "nbformat_minor": 5
}
